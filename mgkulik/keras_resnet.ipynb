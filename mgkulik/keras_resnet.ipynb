{
 "cells": [
  {
   "cell_type": "code",
   "execution_count": 1,
   "id": "8914d7d1",
   "metadata": {},
   "outputs": [],
   "source": [
    "#https://towardsdatascience.com/building-a-resnet-in-keras-e8f1322a49ba\n",
    "\n",
    "# Input with shape (32, 32, 3)\n",
    "# 1 Conv2D layer, with 64 filters\n",
    "# 2, 5, 5, 2 residual blocks with 64, 128, 256, and 512 filters\n",
    "# AveragePooling2D layer with pool size = 4\n",
    "# Flatten layer\n",
    "# Dense layer with 10 output nodes\n",
    "\n",
    "from tensorflow import Tensor\n",
    "from tensorflow.keras.layers import Input, Conv2D, ReLU, BatchNormalization, Add, AveragePooling2D, Flatten, Dense\n",
    "from tensorflow.keras.models import Model"
   ]
  },
  {
   "cell_type": "code",
   "execution_count": 2,
   "id": "82fcb7b3",
   "metadata": {},
   "outputs": [],
   "source": [
    "shp = (32, 32, 3)"
   ]
  },
  {
   "cell_type": "code",
   "execution_count": 3,
   "id": "49bff576",
   "metadata": {},
   "outputs": [],
   "source": [
    "# helper function that takes a tensor as input and adds relu and batch normalization to it\n",
    "def relu_bn(inputs: Tensor) -> Tensor:\n",
    "    relu = ReLU()(inputs)\n",
    "    bn = BatchNormalization()(relu)\n",
    "    return bn"
   ]
  },
  {
   "cell_type": "code",
   "execution_count": 4,
   "id": "bafecd76",
   "metadata": {},
   "outputs": [],
   "source": [
    "# function for constructing a residual block\n",
    "def residual_block(x: Tensor, downsample: bool, filters: int, kernel_size: int = 3) -> Tensor:\n",
    "    y = Conv2D(kernel_size=kernel_size,\n",
    "               strides= (1 if not downsample else 2),\n",
    "               filters=filters,\n",
    "               padding=\"same\")(x)\n",
    "    y = relu_bn(y)\n",
    "    y = Conv2D(kernel_size=kernel_size,\n",
    "               strides=1,\n",
    "               filters=filters,\n",
    "               padding=\"same\")(y)\n",
    "\n",
    "    if downsample:\n",
    "        x = Conv2D(kernel_size=1,\n",
    "                   strides=2,\n",
    "                   filters=filters,\n",
    "                   padding=\"same\")(x)\n",
    "    out = Add()([x, y])\n",
    "    out = relu_bn(out)\n",
    "    return out"
   ]
  },
  {
   "cell_type": "code",
   "execution_count": 5,
   "id": "5c6b6a4b",
   "metadata": {},
   "outputs": [],
   "source": [
    "# Main function USING THE RESIDUAL BLOCK\n",
    "def create_res_net(shp):\n",
    "    \n",
    "    inputs = Input(shape=shp)\n",
    "    num_filters = 64\n",
    "    \n",
    "    t = BatchNormalization()(inputs)\n",
    "    t = Conv2D(kernel_size=3,\n",
    "               strides=1,\n",
    "               filters=num_filters,\n",
    "               padding=\"same\")(t)\n",
    "    t = relu_bn(t)\n",
    "    \n",
    "    num_blocks_list = [2, 5, 5, 2]\n",
    "    for i in range(len(num_blocks_list)):\n",
    "        num_blocks = num_blocks_list[i]\n",
    "        for j in range(num_blocks):\n",
    "            t = residual_block(t, downsample=(j==0 and i!=0), filters=num_filters)\n",
    "        num_filters *= 2\n",
    "    \n",
    "    t = AveragePooling2D(4)(t)\n",
    "    t = Flatten()(t)\n",
    "    outputs = Dense(10, activation='softmax')(t)\n",
    "    \n",
    "    model = Model(inputs, outputs)\n",
    "\n",
    "    model.compile(\n",
    "        optimizer='adam',\n",
    "        loss='sparse_categorical_crossentropy',\n",
    "        metrics=['accuracy']\n",
    "    )\n",
    "\n",
    "    return model"
   ]
  },
  {
   "cell_type": "code",
   "execution_count": 6,
   "id": "63cd5020",
   "metadata": {},
   "outputs": [],
   "source": [
    "# Main WITHOUT RESIDUAL BLOCKS to \n",
    "def create_plain_net(shp):\n",
    "    \n",
    "    inputs = Input(shape=shp)\n",
    "    num_filters = 64\n",
    "    \n",
    "    t = BatchNormalization()(inputs)\n",
    "    t = Conv2D(kernel_size=3,\n",
    "               strides=1,\n",
    "               filters=num_filters,\n",
    "               padding=\"same\")(t)\n",
    "    t = relu_bn(t)\n",
    "    \n",
    "    # Num blocks is different\n",
    "    num_blocks_list = [4, 10, 10, 4]\n",
    "    for i in range(len(num_blocks_list)):\n",
    "        num_blocks = num_blocks_list[i]\n",
    "        # Here the functions diverge\n",
    "        for j in range(num_blocks):\n",
    "            downsample = (j==0 and i!=0)\n",
    "            t = Conv2D(kernel_size=3,\n",
    "                       strides= (1 if not downsample else 2),\n",
    "                       filters=num_filters,\n",
    "                       padding=\"same\")(t)\n",
    "            t = relu_bn(t)\n",
    "        num_filters *= 2\n",
    "    \n",
    "    t = AveragePooling2D(4)(t)\n",
    "    t = Flatten()(t)\n",
    "    outputs = Dense(10, activation='softmax')(t)\n",
    "    \n",
    "    model = Model(inputs, outputs)\n",
    "\n",
    "    model.compile(\n",
    "        optimizer='adam',\n",
    "        loss='sparse_categorical_crossentropy',\n",
    "        metrics=['accuracy']\n",
    "    )\n",
    "\n",
    "    return model"
   ]
  },
  {
   "cell_type": "code",
   "execution_count": 7,
   "id": "c2282cc9",
   "metadata": {},
   "outputs": [],
   "source": [
    "#from tensorflow.python.client import device_lib\n",
    "#print(device_lib.list_local_devices())\n",
    "\n",
    "#import tensorflow as tf\n",
    "#print(\"Num GPUs Available: \", len(tf.config.experimental.list_physical_devices('GPU')))"
   ]
  },
  {
   "cell_type": "code",
   "execution_count": 9,
   "id": "e10d13b7",
   "metadata": {},
   "outputs": [],
   "source": [
    "from tensorflow.keras.datasets import cifar10\n",
    "from tensorflow.keras.callbacks import ModelCheckpoint, TensorBoard\n",
    "import datetime\n",
    "import os\n",
    "\n",
    "(x_train, y_train), (x_test, y_test) = cifar10.load_data()\n",
    "\n",
    "model = create_res_net(shp) # or create_plain_net()\n",
    "#model.summary()\n",
    "\n",
    "timestr = datetime.datetime.now().strftime(\"%Y%m%d-%H%M%S\")\n",
    "name = 'cifar-10_res_net_30-'+timestr"
   ]
  },
  {
   "cell_type": "code",
   "execution_count": null,
   "id": "c371c72f",
   "metadata": {},
   "outputs": [],
   "source": []
  }
 ],
 "metadata": {
  "kernelspec": {
   "display_name": "Python 3 (ipykernel)",
   "language": "python",
   "name": "python3"
  },
  "language_info": {
   "codemirror_mode": {
    "name": "ipython",
    "version": 3
   },
   "file_extension": ".py",
   "mimetype": "text/x-python",
   "name": "python",
   "nbconvert_exporter": "python",
   "pygments_lexer": "ipython3",
   "version": "3.7.3"
  }
 },
 "nbformat": 4,
 "nbformat_minor": 5
}

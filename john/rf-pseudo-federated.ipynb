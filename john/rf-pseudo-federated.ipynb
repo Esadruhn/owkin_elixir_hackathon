{
 "cells": [
  {
   "cell_type": "markdown",
   "metadata": {},
   "source": [
    "# Read Data\n"
   ]
  },
  {
   "cell_type": "code",
   "execution_count": 2,
   "metadata": {},
   "outputs": [],
   "source": [
    "from pathlib import Path\n",
    "from PIL import Image\n",
    "import numpy as np"
   ]
  },
  {
   "cell_type": "code",
   "execution_count": 3,
   "metadata": {},
   "outputs": [],
   "source": [
    "data_path = Path(\"/home/user/data\")\n",
    "\n",
    "train_data_node_A_path = data_path / \"FL\" / \"train_node_A\"\n",
    "train_data_node_B_path = data_path / \"FL\" / \"train_node_B\"\n",
    "train_data_node_C_path = data_path / \"FL\" / \"train_node_C\"\n",
    "\n",
    "test_data_path = data_path / \"test\""
   ]
  },
  {
   "cell_type": "code",
   "execution_count": 4,
   "metadata": {},
   "outputs": [],
   "source": [
    "img_height = 180\n",
    "img_width  = 180\n",
    "image_size = (img_height, img_width)"
   ]
  },
  {
   "cell_type": "markdown",
   "metadata": {},
   "source": [
    "# Images and labels for training data"
   ]
  },
  {
   "cell_type": "code",
   "execution_count": 5,
   "metadata": {},
   "outputs": [],
   "source": [
    "def get_XY(path, image_size):\n",
    "    train_list = []\n",
    "    label_list = []\n",
    "    for directory in list(path.iterdir()):\n",
    "        files = list(directory.glob('*.jpg'))\n",
    "    \n",
    "        print('Directory: ' + directory.as_posix() + ' (' + str(len(files)) + ' files)')\n",
    "    \n",
    "        # Get labels from directory name (0 = normal, 1 = tumor)\n",
    "        label  = int(directory.as_posix()[-1])\n",
    "        labels = np.repeat(label, len(files))\n",
    "        label_list.append(labels)\n",
    "   \n",
    "        # 1-dim flattened array per image (feature length = 24300)\n",
    "        arr = np.array([(np.array(Image.open(file).resize(image_size)) / 255).flatten() for file in files])\n",
    "        train_list.append(arr)\n",
    "    \n",
    "    # merge the two train image matrices into one\n",
    "    X = np.concatenate((train_list[0], train_list[1]))\n",
    "    \n",
    "    # merge the output labels vectors into one \n",
    "    Y = np.concatenate((label_list[0], label_list[1]))\n",
    "    \n",
    "    print('Shape X:', X.shape, 'Shape Y:', Y.shape)\n",
    "          \n",
    "    return X, Y"
   ]
  },
  {
   "cell_type": "code",
   "execution_count": 6,
   "metadata": {
    "scrolled": true
   },
   "outputs": [
    {
     "name": "stdout",
     "output_type": "stream",
     "text": [
      "Directory: /home/user/data/FL/train_node_A/target_1 (1382 files)\n",
      "Directory: /home/user/data/FL/train_node_A/target_0 (3618 files)\n",
      "Shape X: (5000, 97200) Shape Y: (5000,)\n",
      "Directory: /home/user/data/FL/train_node_B/target_1 (1875 files)\n",
      "Directory: /home/user/data/FL/train_node_B/target_0 (3125 files)\n",
      "Shape X: (5000, 97200) Shape Y: (5000,)\n",
      "Directory: /home/user/data/FL/train_node_C/target_1 (1223 files)\n",
      "Directory: /home/user/data/FL/train_node_C/target_0 (3777 files)\n",
      "Shape X: (5000, 97200) Shape Y: (5000,)\n"
     ]
    }
   ],
   "source": [
    "X_node_A, Y_node_A = get_XY(train_data_node_A_path, image_size)\n",
    "X_node_B, Y_node_B = get_XY(train_data_node_B_path, image_size)\n",
    "X_node_C, Y_node_C = get_XY(train_data_node_C_path, image_size)"
   ]
  },
  {
   "cell_type": "code",
   "execution_count": 7,
   "metadata": {},
   "outputs": [],
   "source": [
    "# keep the data from the nodes separate\n",
    "X_list = [X_node_A, X_node_B, X_node_C]\n",
    "Y_list = [Y_node_A, Y_node_B, Y_node_C]"
   ]
  },
  {
   "cell_type": "code",
   "execution_count": 8,
   "metadata": {},
   "outputs": [],
   "source": [
    "# ... or merge them into one train and test array!\n",
    "X = np.concatenate((X_list[0], X_list[1], X_list[2]))\n",
    "Y = np.concatenate((Y_list[0], Y_list[1], Y_list[2]))"
   ]
  },
  {
   "cell_type": "code",
   "execution_count": 9,
   "metadata": {},
   "outputs": [
    {
     "data": {
      "text/plain": [
       "(15000, 97200)"
      ]
     },
     "execution_count": 9,
     "metadata": {},
     "output_type": "execute_result"
    }
   ],
   "source": [
    "X.shape"
   ]
  },
  {
   "cell_type": "markdown",
   "metadata": {},
   "source": [
    "# Images and labels for test data"
   ]
  },
  {
   "cell_type": "code",
   "execution_count": 10,
   "metadata": {},
   "outputs": [
    {
     "name": "stdout",
     "output_type": "stream",
     "text": [
      "Directory: /home/user/data/test/target_1 (2751 files)\n",
      "Directory: /home/user/data/test/target_0 (3249 files)\n",
      "#Images/files: 6000\n",
      "Shape X-test: (6000, 97200) Shape Y-test: (6000,)\n"
     ]
    }
   ],
   "source": [
    "test_list = []\n",
    "test_label_list = []\n",
    "test_files_list = []\n",
    "for directory in list(test_data_path.iterdir()):\n",
    "    files = list(directory.glob('*.jpg'))\n",
    "    \n",
    "    print('Directory: ' + directory.as_posix() + ' (' + str(len(files)) + ' files)')\n",
    "    \n",
    "    # Get labels from directory name (0 = normal, 1 = tumor)\n",
    "    label  = int(directory.as_posix()[-1])\n",
    "    labels = np.repeat(label, len(files))\n",
    "    test_label_list.append(labels)\n",
    "   \n",
    "    # 1-dim flattened array per image (feature length = 24300)\n",
    "    arr = np.array([(np.array(Image.open(file).resize(image_size)) / 255).flatten() for file in files])\n",
    "    test_list.append(arr)\n",
    "    \n",
    "    # keep file names in a list\n",
    "    test_files_list.append([file.as_posix() for file in files])\n",
    "\n",
    "file_paths = test_files_list[0] + test_files_list[1]\n",
    "print('#Images/files:', len(file_paths))\n",
    "\n",
    "# merge the two test image matrices into one\n",
    "X_test = np.concatenate((test_list[0], test_list[1]))\n",
    "\n",
    "# merge the output labels vectors into one \n",
    "Y_test = np.concatenate((test_label_list[0], test_label_list[1]))\n",
    "\n",
    "print('Shape X-test:', X_test.shape, 'Shape Y-test:', Y_test.shape)"
   ]
  },
  {
   "cell_type": "markdown",
   "metadata": {},
   "source": [
    "# Random Forest Classifier "
   ]
  },
  {
   "cell_type": "code",
   "execution_count": 11,
   "metadata": {},
   "outputs": [],
   "source": [
    "from sklearn.ensemble import RandomForestClassifier\n",
    "from sklearn.metrics import roc_auc_score"
   ]
  },
  {
   "cell_type": "markdown",
   "metadata": {},
   "source": [
    "Let's tune the RF method using a randomized search grid:"
   ]
  },
  {
   "cell_type": "code",
   "execution_count": 13,
   "metadata": {
    "scrolled": true
   },
   "outputs": [
    {
     "name": "stdout",
     "output_type": "stream",
     "text": [
      "{'n_estimators': [200, 400, 600, 800, 1000, 1200, 1400, 1600, 1800, 2000], 'max_features': ['auto', 'sqrt', 'log2', 50, 100], 'max_depth': [10, 20, 30, 40, 50, 60, 70, 80, 90, 100, 110, None], 'min_samples_split': [2, 5, 10], 'min_samples_leaf': [1, 2, 4], 'bootstrap': [True, False]}\n"
     ]
    }
   ],
   "source": [
    "from sklearn.model_selection import RandomizedSearchCV\n",
    "\n",
    "# Number of trees in random forest\n",
    "n_estimators = [int(x) for x in np.linspace(start = 200, stop = 2000, num = 10)]\n",
    "# Number of features to consider at every split\n",
    "max_features = ['auto', 'sqrt', 'log2', 50, 100]\n",
    "# Maximum number of levels in tree\n",
    "max_depth = [int(x) for x in np.linspace(10, 110, num = 11)]\n",
    "max_depth.append(None)\n",
    "# Minimum number of samples required to split a node\n",
    "min_samples_split = [2, 5, 10]\n",
    "# Minimum number of samples required at each leaf node\n",
    "min_samples_leaf = [1, 2, 4]\n",
    "# Method of selecting samples for training each tree\n",
    "bootstrap = [True, False]\n",
    "# Create the random grid\n",
    "random_grid = {'n_estimators': n_estimators,\n",
    "               'max_features': max_features,\n",
    "               'max_depth': max_depth,\n",
    "               'min_samples_split': min_samples_split,\n",
    "               'min_samples_leaf': min_samples_leaf,\n",
    "               'bootstrap': bootstrap}\n",
    "print(random_grid)"
   ]
  },
  {
   "cell_type": "code",
   "execution_count": 21,
   "metadata": {},
   "outputs": [
    {
     "data": {
      "text/plain": [
       "(1000,)"
      ]
     },
     "execution_count": 21,
     "metadata": {},
     "output_type": "execute_result"
    }
   ],
   "source": [
    "# choose 1000 images at random from the whole 15000 image set\n",
    "\n",
    "np.random.seed(42)\n",
    "indices = np.random.choice(X.shape[0], replace = False, size = 1000)\n",
    "indices.shape"
   ]
  },
  {
   "cell_type": "code",
   "execution_count": 23,
   "metadata": {},
   "outputs": [],
   "source": [
    "# Use the random grid to search for best hyperparameters\n",
    "# First create the base model to tune\n",
    "rfc = RandomForestClassifier()\n",
    "\n",
    "# Random search of parameters, using 3 fold cross validation,\n",
    "# search across 100 different combinations, and use all available cores\n",
    "rf_random = RandomizedSearchCV(estimator = rfc, param_distributions = random_grid,\n",
    "                               n_iter = 200, cv = 3, verbose = 2, random_state = 42, n_jobs = -1)"
   ]
  },
  {
   "cell_type": "code",
   "execution_count": 24,
   "metadata": {},
   "outputs": [
    {
     "name": "stdout",
     "output_type": "stream",
     "text": [
      "Fitting 3 folds for each of 200 candidates, totalling 600 fits\n"
     ]
    },
    {
     "data": {
      "text/plain": [
       "RandomizedSearchCV(cv=3, estimator=RandomForestClassifier(), n_iter=200,\n",
       "                   n_jobs=-1,\n",
       "                   param_distributions={'bootstrap': [True, False],\n",
       "                                        'max_depth': [10, 20, 30, 40, 50, 60,\n",
       "                                                      70, 80, 90, 100, 110,\n",
       "                                                      None],\n",
       "                                        'max_features': ['auto', 'sqrt', 'log2',\n",
       "                                                         50, 100],\n",
       "                                        'min_samples_leaf': [1, 2, 4],\n",
       "                                        'min_samples_split': [2, 5, 10],\n",
       "                                        'n_estimators': [200, 400, 600, 800,\n",
       "                                                         1000, 1200, 1400, 1600,\n",
       "                                                         1800, 2000]},\n",
       "                   random_state=42, verbose=2)"
      ]
     },
     "execution_count": 24,
     "metadata": {},
     "output_type": "execute_result"
    }
   ],
   "source": [
    "# Fit the random search model\n",
    "rf_random.fit(X[indices,], Y[indices])"
   ]
  },
  {
   "cell_type": "code",
   "execution_count": 25,
   "metadata": {
    "scrolled": true
   },
   "outputs": [
    {
     "data": {
      "text/plain": [
       "{'n_estimators': 600,\n",
       " 'min_samples_split': 2,\n",
       " 'min_samples_leaf': 4,\n",
       " 'max_features': 50,\n",
       " 'max_depth': 110,\n",
       " 'bootstrap': False}"
      ]
     },
     "execution_count": 25,
     "metadata": {},
     "output_type": "execute_result"
    }
   ],
   "source": [
    "print ('Best Parameters: ', rf_random.best_params_, ' \\n')"
   ]
  },
  {
   "cell_type": "code",
   "execution_count": 26,
   "metadata": {},
   "outputs": [
    {
     "data": {
      "text/plain": [
       "0.7308990524612948"
      ]
     },
     "execution_count": 26,
     "metadata": {},
     "output_type": "execute_result"
    },
    {
     "name": "stdout",
     "output_type": "stream",
     "text": [
      "[CV] END bootstrap=True, max_depth=30, max_features=50, min_samples_leaf=4, min_samples_split=10, n_estimators=1000; total time=  21.5s\n",
      "[CV] END bootstrap=True, max_depth=100, max_features=auto, min_samples_leaf=2, min_samples_split=2, n_estimators=2000; total time= 3.9min\n",
      "[CV] END bootstrap=True, max_depth=110, max_features=50, min_samples_leaf=2, min_samples_split=5, n_estimators=2000; total time=  44.0s\n",
      "[CV] END bootstrap=True, max_depth=90, max_features=log2, min_samples_leaf=1, min_samples_split=2, n_estimators=1000; total time=  10.6s\n",
      "[CV] END bootstrap=True, max_depth=None, max_features=100, min_samples_leaf=4, min_samples_split=2, n_estimators=1600; total time=  57.7s\n",
      "[CV] END bootstrap=False, max_depth=20, max_features=auto, min_samples_leaf=1, min_samples_split=2, n_estimators=2000; total time= 7.1min\n",
      "[CV] END bootstrap=False, max_depth=50, max_features=50, min_samples_leaf=1, min_samples_split=10, n_estimators=600; total time=  22.4s\n",
      "[CV] END bootstrap=False, max_depth=None, max_features=log2, min_samples_leaf=4, min_samples_split=5, n_estimators=800; total time=  10.5s\n",
      "[CV] END bootstrap=False, max_depth=None, max_features=log2, min_samples_leaf=4, min_samples_split=5, n_estimators=800; total time=  10.4s\n",
      "[CV] END bootstrap=True, max_depth=None, max_features=50, min_samples_leaf=2, min_samples_split=5, n_estimators=2000; total time=  44.0s\n",
      "[CV] END bootstrap=False, max_depth=100, max_features=50, min_samples_leaf=1, min_samples_split=10, n_estimators=1800; total time= 1.1min\n",
      "[CV] END bootstrap=True, max_depth=20, max_features=100, min_samples_leaf=2, min_samples_split=5, n_estimators=1400; total time=  57.7s\n",
      "[CV] END bootstrap=True, max_depth=80, max_features=50, min_samples_leaf=1, min_samples_split=10, n_estimators=1200; total time=  28.9s\n",
      "[CV] END bootstrap=False, max_depth=10, max_features=sqrt, min_samples_leaf=4, min_samples_split=2, n_estimators=1000; total time= 2.7min\n",
      "[CV] END bootstrap=False, max_depth=10, max_features=auto, min_samples_leaf=1, min_samples_split=5, n_estimators=400; total time= 1.3min\n",
      "[CV] END bootstrap=True, max_depth=100, max_features=log2, min_samples_leaf=2, min_samples_split=5, n_estimators=1600; total time=  15.6s\n",
      "[CV] END bootstrap=False, max_depth=None, max_features=100, min_samples_leaf=2, min_samples_split=10, n_estimators=2000; total time= 2.1min\n",
      "[CV] END bootstrap=False, max_depth=100, max_features=auto, min_samples_leaf=1, min_samples_split=5, n_estimators=200; total time=  43.3s\n",
      "[CV] END bootstrap=False, max_depth=40, max_features=100, min_samples_leaf=2, min_samples_split=5, n_estimators=800; total time=  51.6s\n",
      "[CV] END bootstrap=True, max_depth=110, max_features=sqrt, min_samples_leaf=2, min_samples_split=5, n_estimators=1200; total time= 2.4min\n",
      "[CV] END bootstrap=False, max_depth=90, max_features=sqrt, min_samples_leaf=1, min_samples_split=5, n_estimators=1800; total time= 6.3min\n",
      "[CV] END bootstrap=True, max_depth=80, max_features=auto, min_samples_leaf=1, min_samples_split=2, n_estimators=1000; total time= 2.2min\n",
      "[CV] END bootstrap=True, max_depth=70, max_features=50, min_samples_leaf=1, min_samples_split=2, n_estimators=1000; total time=  24.8s\n",
      "[CV] END bootstrap=True, max_depth=40, max_features=sqrt, min_samples_leaf=4, min_samples_split=5, n_estimators=1400; total time= 2.4min\n",
      "[CV] END bootstrap=False, max_depth=100, max_features=50, min_samples_leaf=1, min_samples_split=10, n_estimators=2000; total time= 1.2min\n",
      "[CV] END bootstrap=True, max_depth=40, max_features=100, min_samples_leaf=4, min_samples_split=5, n_estimators=200; total time=   7.8s\n",
      "[CV] END bootstrap=True, max_depth=70, max_features=100, min_samples_leaf=4, min_samples_split=5, n_estimators=800; total time=  29.1s\n",
      "[CV] END bootstrap=True, max_depth=90, max_features=log2, min_samples_leaf=2, min_samples_split=2, n_estimators=800; total time=   8.3s\n",
      "[CV] END bootstrap=False, max_depth=100, max_features=auto, min_samples_leaf=4, min_samples_split=5, n_estimators=1800; total time= 5.2min\n",
      "[CV] END bootstrap=False, max_depth=110, max_features=100, min_samples_leaf=1, min_samples_split=5, n_estimators=1400; total time= 1.7min\n",
      "[CV] END bootstrap=False, max_depth=20, max_features=log2, min_samples_leaf=4, min_samples_split=5, n_estimators=400; total time=   5.6s\n",
      "[CV] END bootstrap=False, max_depth=20, max_features=log2, min_samples_leaf=4, min_samples_split=5, n_estimators=400; total time=   5.5s\n",
      "[CV] END bootstrap=False, max_depth=20, max_features=log2, min_samples_leaf=4, min_samples_split=5, n_estimators=400; total time=   5.6s\n",
      "[CV] END bootstrap=False, max_depth=80, max_features=log2, min_samples_leaf=1, min_samples_split=10, n_estimators=400; total time=   6.1s\n",
      "[CV] END bootstrap=False, max_depth=20, max_features=log2, min_samples_leaf=4, min_samples_split=2, n_estimators=1000; total time=  13.0s\n",
      "[CV] END bootstrap=False, max_depth=90, max_features=auto, min_samples_leaf=2, min_samples_split=2, n_estimators=800; total time= 2.6min\n",
      "[CV] END bootstrap=False, max_depth=60, max_features=auto, min_samples_leaf=4, min_samples_split=2, n_estimators=600; total time= 1.7min\n",
      "[CV] END bootstrap=True, max_depth=110, max_features=50, min_samples_leaf=2, min_samples_split=5, n_estimators=2000; total time=  44.4s\n",
      "[CV] END bootstrap=True, max_depth=90, max_features=log2, min_samples_leaf=1, min_samples_split=2, n_estimators=1000; total time=  10.4s\n",
      "[CV] END bootstrap=True, max_depth=None, max_features=100, min_samples_leaf=4, min_samples_split=2, n_estimators=1600; total time=  57.7s\n",
      "[CV] END bootstrap=False, max_depth=20, max_features=auto, min_samples_leaf=1, min_samples_split=2, n_estimators=2000; total time= 7.0min\n",
      "[CV] END bootstrap=False, max_depth=10, max_features=sqrt, min_samples_leaf=4, min_samples_split=10, n_estimators=2000; total time= 5.3min\n",
      "[CV] END bootstrap=False, max_depth=10, max_features=auto, min_samples_leaf=4, min_samples_split=5, n_estimators=400; total time= 1.1min\n",
      "[CV] END bootstrap=False, max_depth=90, max_features=log2, min_samples_leaf=1, min_samples_split=5, n_estimators=1000; total time=  14.5s\n",
      "[CV] END bootstrap=False, max_depth=110, max_features=100, min_samples_leaf=2, min_samples_split=10, n_estimators=800; total time=  52.4s\n",
      "[CV] END bootstrap=True, max_depth=10, max_features=sqrt, min_samples_leaf=1, min_samples_split=5, n_estimators=400; total time=  50.3s\n",
      "[CV] END bootstrap=False, max_depth=None, max_features=100, min_samples_leaf=2, min_samples_split=10, n_estimators=2000; total time= 2.1min\n",
      "[CV] END bootstrap=False, max_depth=110, max_features=auto, min_samples_leaf=2, min_samples_split=2, n_estimators=400; total time= 1.3min\n",
      "[CV] END bootstrap=True, max_depth=110, max_features=sqrt, min_samples_leaf=2, min_samples_split=5, n_estimators=400; total time=  47.5s\n",
      "[CV] END bootstrap=False, max_depth=80, max_features=100, min_samples_leaf=1, min_samples_split=2, n_estimators=200; total time=  14.7s\n",
      "[CV] END bootstrap=False, max_depth=70, max_features=100, min_samples_leaf=2, min_samples_split=2, n_estimators=200; total time=  13.7s\n",
      "[CV] END bootstrap=False, max_depth=110, max_features=50, min_samples_leaf=4, min_samples_split=2, n_estimators=2000; total time= 1.0min\n",
      "[CV] END bootstrap=True, max_depth=40, max_features=log2, min_samples_leaf=4, min_samples_split=2, n_estimators=1600; total time=  14.7s\n",
      "[CV] END bootstrap=True, max_depth=None, max_features=sqrt, min_samples_leaf=2, min_samples_split=10, n_estimators=200; total time=  24.3s\n",
      "[CV] END bootstrap=False, max_depth=None, max_features=100, min_samples_leaf=2, min_samples_split=5, n_estimators=200; total time=  13.2s\n",
      "[CV] END bootstrap=False, max_depth=30, max_features=auto, min_samples_leaf=4, min_samples_split=10, n_estimators=600; total time= 1.7min\n",
      "[CV] END bootstrap=False, max_depth=80, max_features=sqrt, min_samples_leaf=4, min_samples_split=2, n_estimators=2000; total time= 5.7min\n",
      "[CV] END bootstrap=True, max_depth=90, max_features=50, min_samples_leaf=1, min_samples_split=5, n_estimators=200; total time=   5.6s\n",
      "[CV] END bootstrap=True, max_depth=90, max_features=50, min_samples_leaf=1, min_samples_split=5, n_estimators=200; total time=   5.7s\n",
      "[CV] END bootstrap=True, max_depth=70, max_features=50, min_samples_leaf=1, min_samples_split=5, n_estimators=1000; total time=  25.0s\n",
      "[CV] END bootstrap=False, max_depth=None, max_features=log2, min_samples_leaf=4, min_samples_split=5, n_estimators=1400; total time=  18.0s\n",
      "[CV] END bootstrap=True, max_depth=80, max_features=50, min_samples_leaf=2, min_samples_split=5, n_estimators=1200; total time=  27.1s\n",
      "[CV] END bootstrap=False, max_depth=30, max_features=log2, min_samples_leaf=2, min_samples_split=2, n_estimators=1600; total time=  21.5s\n",
      "[CV] END bootstrap=False, max_depth=10, max_features=100, min_samples_leaf=4, min_samples_split=5, n_estimators=800; total time=  44.1s\n",
      "[CV] END bootstrap=False, max_depth=60, max_features=50, min_samples_leaf=2, min_samples_split=5, n_estimators=200; total time=   7.5s\n",
      "[CV] END bootstrap=False, max_depth=60, max_features=50, min_samples_leaf=2, min_samples_split=5, n_estimators=200; total time=   7.7s\n",
      "[CV] END bootstrap=True, max_depth=40, max_features=50, min_samples_leaf=2, min_samples_split=5, n_estimators=200; total time=   5.2s\n",
      "[CV] END bootstrap=True, max_depth=40, max_features=50, min_samples_leaf=2, min_samples_split=5, n_estimators=200; total time=   5.2s\n",
      "[CV] END bootstrap=True, max_depth=40, max_features=50, min_samples_leaf=2, min_samples_split=5, n_estimators=200; total time=   5.3s\n",
      "[CV] END bootstrap=True, max_depth=40, max_features=50, min_samples_leaf=2, min_samples_split=10, n_estimators=400; total time=   9.6s\n",
      "[CV] END bootstrap=True, max_depth=40, max_features=50, min_samples_leaf=2, min_samples_split=10, n_estimators=400; total time=   9.7s\n",
      "[CV] END bootstrap=False, max_depth=100, max_features=50, min_samples_leaf=1, min_samples_split=10, n_estimators=2000; total time= 1.2min\n",
      "[CV] END bootstrap=False, max_depth=20, max_features=sqrt, min_samples_leaf=2, min_samples_split=5, n_estimators=400; total time= 1.3min\n",
      "[CV] END bootstrap=False, max_depth=30, max_features=auto, min_samples_leaf=1, min_samples_split=2, n_estimators=400; total time= 1.5min\n",
      "[CV] END bootstrap=False, max_depth=60, max_features=100, min_samples_leaf=2, min_samples_split=2, n_estimators=600; total time=  39.9s\n",
      "[CV] END bootstrap=True, max_depth=30, max_features=auto, min_samples_leaf=4, min_samples_split=2, n_estimators=200; total time=  21.9s\n",
      "[CV] END bootstrap=False, max_depth=60, max_features=100, min_samples_leaf=1, min_samples_split=2, n_estimators=2000; total time= 2.4min\n",
      "[CV] END bootstrap=True, max_depth=40, max_features=sqrt, min_samples_leaf=2, min_samples_split=10, n_estimators=1000; total time= 2.0min\n"
     ]
    },
    {
     "name": "stdout",
     "output_type": "stream",
     "text": [
      "[CV] END bootstrap=True, max_depth=30, max_features=50, min_samples_leaf=4, min_samples_split=10, n_estimators=1000; total time=  21.3s\n",
      "[CV] END bootstrap=True, max_depth=None, max_features=auto, min_samples_leaf=4, min_samples_split=10, n_estimators=1000; total time= 1.7min\n",
      "[CV] END bootstrap=True, max_depth=100, max_features=log2, min_samples_leaf=1, min_samples_split=2, n_estimators=1600; total time=  16.4s\n",
      "[CV] END bootstrap=False, max_depth=110, max_features=sqrt, min_samples_leaf=4, min_samples_split=10, n_estimators=1600; total time= 4.6min\n",
      "[CV] END bootstrap=False, max_depth=100, max_features=log2, min_samples_leaf=4, min_samples_split=5, n_estimators=600; total time=   8.0s\n",
      "[CV] END bootstrap=False, max_depth=100, max_features=log2, min_samples_leaf=4, min_samples_split=5, n_estimators=600; total time=   8.0s\n",
      "[CV] END bootstrap=True, max_depth=100, max_features=50, min_samples_leaf=2, min_samples_split=2, n_estimators=600; total time=  13.6s\n",
      "[CV] END bootstrap=True, max_depth=None, max_features=log2, min_samples_leaf=2, min_samples_split=10, n_estimators=400; total time=   4.3s\n",
      "[CV] END bootstrap=True, max_depth=None, max_features=log2, min_samples_leaf=2, min_samples_split=10, n_estimators=400; total time=   4.4s\n",
      "[CV] END bootstrap=False, max_depth=40, max_features=auto, min_samples_leaf=1, min_samples_split=5, n_estimators=200; total time=  42.8s\n",
      "[CV] END bootstrap=False, max_depth=None, max_features=100, min_samples_leaf=1, min_samples_split=2, n_estimators=1200; total time= 1.4min\n",
      "[CV] END bootstrap=True, max_depth=20, max_features=auto, min_samples_leaf=2, min_samples_split=2, n_estimators=800; total time= 1.6min\n",
      "[CV] END bootstrap=True, max_depth=10, max_features=sqrt, min_samples_leaf=1, min_samples_split=2, n_estimators=1200; total time= 2.4min\n",
      "[CV] END bootstrap=False, max_depth=None, max_features=log2, min_samples_leaf=4, min_samples_split=5, n_estimators=800; total time=  10.4s\n",
      "[CV] END bootstrap=False, max_depth=90, max_features=sqrt, min_samples_leaf=4, min_samples_split=10, n_estimators=1800; total time= 5.2min\n",
      "[CV] END bootstrap=True, max_depth=60, max_features=sqrt, min_samples_leaf=1, min_samples_split=2, n_estimators=1000; total time= 2.2min\n",
      "[CV] END bootstrap=True, max_depth=100, max_features=log2, min_samples_leaf=2, min_samples_split=5, n_estimators=1600; total time=  15.4s\n",
      "[CV] END bootstrap=True, max_depth=40, max_features=sqrt, min_samples_leaf=2, min_samples_split=10, n_estimators=1800; total time= 3.5min\n",
      "[CV] END bootstrap=True, max_depth=110, max_features=sqrt, min_samples_leaf=2, min_samples_split=5, n_estimators=400; total time=  48.0s\n",
      "[CV] END bootstrap=False, max_depth=70, max_features=100, min_samples_leaf=2, min_samples_split=2, n_estimators=200; total time=  13.5s\n",
      "[CV] END bootstrap=True, max_depth=90, max_features=sqrt, min_samples_leaf=1, min_samples_split=5, n_estimators=1000; total time= 2.2min\n",
      "[CV] END bootstrap=False, max_depth=90, max_features=50, min_samples_leaf=1, min_samples_split=2, n_estimators=1400; total time=  50.6s\n",
      "[CV] END bootstrap=False, max_depth=10, max_features=100, min_samples_leaf=2, min_samples_split=5, n_estimators=1000; total time=  56.8s\n",
      "[CV] END bootstrap=True, max_depth=90, max_features=log2, min_samples_leaf=4, min_samples_split=5, n_estimators=2000; total time=  17.7s\n",
      "[CV] END bootstrap=False, max_depth=30, max_features=sqrt, min_samples_leaf=2, min_samples_split=2, n_estimators=1200; total time= 3.9min\n",
      "[CV] END bootstrap=True, max_depth=None, max_features=sqrt, min_samples_leaf=2, min_samples_split=5, n_estimators=600; total time= 1.2min\n",
      "[CV] END bootstrap=True, max_depth=90, max_features=50, min_samples_leaf=1, min_samples_split=5, n_estimators=200; total time=   5.4s\n",
      "[CV] END bootstrap=False, max_depth=None, max_features=auto, min_samples_leaf=4, min_samples_split=2, n_estimators=200; total time=  35.2s\n",
      "[CV] END bootstrap=False, max_depth=50, max_features=auto, min_samples_leaf=2, min_samples_split=5, n_estimators=1400; total time= 4.5min\n",
      "[CV] END bootstrap=True, max_depth=90, max_features=log2, min_samples_leaf=2, min_samples_split=2, n_estimators=800; total time=   8.2s\n",
      "[CV] END bootstrap=False, max_depth=100, max_features=auto, min_samples_leaf=4, min_samples_split=5, n_estimators=1800; total time= 5.2min\n",
      "[CV] END bootstrap=False, max_depth=70, max_features=100, min_samples_leaf=4, min_samples_split=10, n_estimators=400; total time=  24.0s\n",
      "[CV] END bootstrap=True, max_depth=40, max_features=sqrt, min_samples_leaf=2, min_samples_split=10, n_estimators=1000; total time= 2.0min\n",
      "[CV] END bootstrap=True, max_depth=30, max_features=50, min_samples_leaf=4, min_samples_split=10, n_estimators=1000; total time=  21.3s\n",
      "[CV] END bootstrap=True, max_depth=None, max_features=auto, min_samples_leaf=4, min_samples_split=10, n_estimators=1000; total time= 1.7min\n",
      "[CV] END bootstrap=True, max_depth=10, max_features=auto, min_samples_leaf=2, min_samples_split=2, n_estimators=800; total time= 1.5min\n",
      "[CV] END bootstrap=False, max_depth=110, max_features=100, min_samples_leaf=2, min_samples_split=5, n_estimators=1000; total time= 1.1min\n",
      "[CV] END bootstrap=False, max_depth=70, max_features=sqrt, min_samples_leaf=1, min_samples_split=10, n_estimators=200; total time=  43.5s\n",
      "[CV] END bootstrap=True, max_depth=40, max_features=100, min_samples_leaf=1, min_samples_split=2, n_estimators=1800; total time= 1.3min\n",
      "[CV] END bootstrap=True, max_depth=None, max_features=50, min_samples_leaf=2, min_samples_split=2, n_estimators=2000; total time=  44.1s\n",
      "[CV] END bootstrap=True, max_depth=None, max_features=log2, min_samples_leaf=2, min_samples_split=10, n_estimators=400; total time=   4.3s\n",
      "[CV] END bootstrap=False, max_depth=80, max_features=100, min_samples_leaf=2, min_samples_split=2, n_estimators=1000; total time= 1.1min\n",
      "[CV] END bootstrap=False, max_depth=100, max_features=100, min_samples_leaf=1, min_samples_split=2, n_estimators=2000; total time= 2.3min\n",
      "[CV] END bootstrap=False, max_depth=None, max_features=100, min_samples_leaf=1, min_samples_split=2, n_estimators=1400; total time= 1.6min\n",
      "[CV] END bootstrap=True, max_depth=40, max_features=sqrt, min_samples_leaf=1, min_samples_split=5, n_estimators=800; total time= 1.8min\n",
      "[CV] END bootstrap=False, max_depth=90, max_features=50, min_samples_leaf=1, min_samples_split=10, n_estimators=800; total time=  29.0s\n",
      "[CV] END bootstrap=True, max_depth=10, max_features=100, min_samples_leaf=2, min_samples_split=2, n_estimators=1800; total time= 1.2min\n",
      "[CV] END bootstrap=False, max_depth=30, max_features=50, min_samples_leaf=2, min_samples_split=10, n_estimators=800; total time=  26.7s\n",
      "[CV] END bootstrap=True, max_depth=110, max_features=log2, min_samples_leaf=4, min_samples_split=10, n_estimators=1800; total time=  16.1s\n",
      "[CV] END bootstrap=True, max_depth=80, max_features=50, min_samples_leaf=1, min_samples_split=10, n_estimators=1200; total time=  28.6s\n",
      "[CV] END bootstrap=False, max_depth=10, max_features=sqrt, min_samples_leaf=4, min_samples_split=2, n_estimators=1000; total time= 2.7min\n",
      "[CV] END bootstrap=False, max_depth=10, max_features=auto, min_samples_leaf=1, min_samples_split=5, n_estimators=400; total time= 1.3min\n",
      "[CV] END bootstrap=True, max_depth=10, max_features=sqrt, min_samples_leaf=1, min_samples_split=5, n_estimators=400; total time=  49.9s\n",
      "[CV] END bootstrap=True, max_depth=50, max_features=100, min_samples_leaf=2, min_samples_split=10, n_estimators=1200; total time=  48.1s\n",
      "[CV] END bootstrap=False, max_depth=30, max_features=auto, min_samples_leaf=4, min_samples_split=10, n_estimators=2000; total time= 5.6min\n",
      "[CV] END bootstrap=False, max_depth=90, max_features=50, min_samples_leaf=1, min_samples_split=2, n_estimators=1400; total time=  50.8s\n",
      "[CV] END bootstrap=False, max_depth=10, max_features=100, min_samples_leaf=2, min_samples_split=5, n_estimators=1000; total time=  58.1s\n",
      "[CV] END bootstrap=False, max_depth=30, max_features=sqrt, min_samples_leaf=2, min_samples_split=2, n_estimators=1200; total time= 3.8min\n",
      "[CV] END bootstrap=True, max_depth=70, max_features=100, min_samples_leaf=2, min_samples_split=5, n_estimators=200; total time=   8.8s\n",
      "[CV] END bootstrap=True, max_depth=90, max_features=log2, min_samples_leaf=2, min_samples_split=10, n_estimators=1600; total time=  15.6s\n",
      "[CV] END bootstrap=True, max_depth=None, max_features=sqrt, min_samples_leaf=2, min_samples_split=5, n_estimators=600; total time= 1.2min\n",
      "[CV] END bootstrap=False, max_depth=None, max_features=auto, min_samples_leaf=4, min_samples_split=2, n_estimators=200; total time=  35.7s\n",
      "[CV] END bootstrap=True, max_depth=50, max_features=log2, min_samples_leaf=2, min_samples_split=10, n_estimators=200; total time=   2.7s\n",
      "[CV] END bootstrap=True, max_depth=50, max_features=log2, min_samples_leaf=2, min_samples_split=10, n_estimators=200; total time=   2.7s\n",
      "[CV] END bootstrap=True, max_depth=40, max_features=sqrt, min_samples_leaf=4, min_samples_split=5, n_estimators=1400; total time= 2.4min\n",
      "[CV] END bootstrap=True, max_depth=40, max_features=50, min_samples_leaf=2, min_samples_split=10, n_estimators=400; total time=   9.6s\n",
      "[CV] END bootstrap=True, max_depth=70, max_features=50, min_samples_leaf=4, min_samples_split=2, n_estimators=1000; total time=  20.5s\n",
      "[CV] END bootstrap=False, max_depth=110, max_features=sqrt, min_samples_leaf=4, min_samples_split=10, n_estimators=1200; total time= 3.4min\n",
      "[CV] END bootstrap=True, max_depth=50, max_features=log2, min_samples_leaf=4, min_samples_split=10, n_estimators=2000; total time=  17.9s\n",
      "[CV] END bootstrap=True, max_depth=30, max_features=log2, min_samples_leaf=4, min_samples_split=2, n_estimators=1200; total time=  10.9s\n",
      "[CV] END bootstrap=True, max_depth=30, max_features=log2, min_samples_leaf=4, min_samples_split=2, n_estimators=1200; total time=  11.1s\n",
      "[CV] END bootstrap=True, max_depth=30, max_features=log2, min_samples_leaf=4, min_samples_split=2, n_estimators=1200; total time=  11.1s\n",
      "[CV] END bootstrap=False, max_depth=100, max_features=log2, min_samples_leaf=1, min_samples_split=5, n_estimators=1400; total time=  19.9s\n",
      "[CV] END bootstrap=False, max_depth=60, max_features=100, min_samples_leaf=1, min_samples_split=2, n_estimators=2000; total time= 2.3min\n",
      "[CV] END bootstrap=False, max_depth=70, max_features=100, min_samples_leaf=4, min_samples_split=10, n_estimators=400; total time=  23.8s\n",
      "[CV] END bootstrap=True, max_depth=40, max_features=sqrt, min_samples_leaf=2, min_samples_split=10, n_estimators=1000; total time= 2.0min\n"
     ]
    },
    {
     "name": "stdout",
     "output_type": "stream",
     "text": [
      "[CV] END bootstrap=False, max_depth=None, max_features=50, min_samples_leaf=2, min_samples_split=10, n_estimators=200; total time=   8.5s\n",
      "[CV] END bootstrap=True, max_depth=110, max_features=auto, min_samples_leaf=4, min_samples_split=2, n_estimators=1200; total time= 2.1min\n",
      "[CV] END bootstrap=True, max_depth=100, max_features=log2, min_samples_leaf=1, min_samples_split=2, n_estimators=1600; total time=  16.4s\n",
      "[CV] END bootstrap=False, max_depth=60, max_features=auto, min_samples_leaf=4, min_samples_split=2, n_estimators=600; total time= 1.7min\n",
      "[CV] END bootstrap=False, max_depth=20, max_features=auto, min_samples_leaf=2, min_samples_split=10, n_estimators=600; total time= 1.9min\n",
      "[CV] END bootstrap=False, max_depth=20, max_features=auto, min_samples_leaf=1, min_samples_split=2, n_estimators=2000; total time= 7.1min\n",
      "[CV] END bootstrap=False, max_depth=50, max_features=50, min_samples_leaf=1, min_samples_split=10, n_estimators=600; total time=  22.4s\n",
      "[CV] END bootstrap=True, max_depth=60, max_features=100, min_samples_leaf=1, min_samples_split=5, n_estimators=1400; total time= 1.1min\n",
      "[CV] END bootstrap=False, max_depth=90, max_features=50, min_samples_leaf=1, min_samples_split=10, n_estimators=800; total time=  30.0s\n",
      "[CV] END bootstrap=True, max_depth=20, max_features=100, min_samples_leaf=2, min_samples_split=5, n_estimators=1400; total time=  57.0s\n",
      "[CV] END bootstrap=False, max_depth=30, max_features=50, min_samples_leaf=2, min_samples_split=10, n_estimators=800; total time=  27.4s\n",
      "[CV] END bootstrap=True, max_depth=110, max_features=log2, min_samples_leaf=4, min_samples_split=10, n_estimators=1800; total time=  16.1s\n",
      "[CV] END bootstrap=True, max_depth=80, max_features=50, min_samples_leaf=1, min_samples_split=10, n_estimators=1200; total time=  29.3s\n",
      "[CV] END bootstrap=True, max_depth=None, max_features=sqrt, min_samples_leaf=4, min_samples_split=10, n_estimators=2000; total time= 3.4min\n",
      "[CV] END bootstrap=True, max_depth=10, max_features=sqrt, min_samples_leaf=1, min_samples_split=5, n_estimators=400; total time=  49.8s\n",
      "[CV] END bootstrap=False, max_depth=110, max_features=100, min_samples_leaf=1, min_samples_split=5, n_estimators=1600; total time= 1.9min\n",
      "[CV] END bootstrap=False, max_depth=100, max_features=auto, min_samples_leaf=1, min_samples_split=5, n_estimators=200; total time=  42.3s\n",
      "[CV] END bootstrap=True, max_depth=100, max_features=50, min_samples_leaf=2, min_samples_split=5, n_estimators=1400; total time=  31.1s\n",
      "[CV] END bootstrap=False, max_depth=40, max_features=100, min_samples_leaf=2, min_samples_split=5, n_estimators=800; total time=  52.1s\n",
      "[CV] END bootstrap=False, max_depth=80, max_features=100, min_samples_leaf=1, min_samples_split=2, n_estimators=200; total time=  14.7s\n",
      "[CV] END bootstrap=False, max_depth=80, max_features=100, min_samples_leaf=1, min_samples_split=2, n_estimators=200; total time=  15.0s\n",
      "[CV] END bootstrap=True, max_depth=90, max_features=sqrt, min_samples_leaf=1, min_samples_split=5, n_estimators=1000; total time= 2.2min\n",
      "[CV] END bootstrap=False, max_depth=20, max_features=log2, min_samples_leaf=2, min_samples_split=2, n_estimators=2000; total time=  26.1s\n",
      "[CV] END bootstrap=True, max_depth=40, max_features=50, min_samples_leaf=2, min_samples_split=5, n_estimators=600; total time=  13.6s\n",
      "[CV] END bootstrap=False, max_depth=50, max_features=50, min_samples_leaf=4, min_samples_split=2, n_estimators=1400; total time=  42.8s\n",
      "[CV] END bootstrap=True, max_depth=90, max_features=sqrt, min_samples_leaf=1, min_samples_split=2, n_estimators=1000; total time= 2.2min\n",
      "[CV] END bootstrap=False, max_depth=40, max_features=log2, min_samples_leaf=2, min_samples_split=2, n_estimators=1800; total time=  23.7s\n",
      "[CV] END bootstrap=False, max_depth=40, max_features=log2, min_samples_leaf=2, min_samples_split=2, n_estimators=1800; total time=  23.3s\n",
      "[CV] END bootstrap=True, max_depth=50, max_features=log2, min_samples_leaf=2, min_samples_split=5, n_estimators=200; total time=   2.5s\n",
      "[CV] END bootstrap=True, max_depth=20, max_features=auto, min_samples_leaf=4, min_samples_split=2, n_estimators=200; total time=  21.4s\n",
      "[CV] END bootstrap=False, max_depth=None, max_features=sqrt, min_samples_leaf=4, min_samples_split=10, n_estimators=1400; total time= 4.0min\n",
      "[CV] END bootstrap=False, max_depth=10, max_features=100, min_samples_leaf=4, min_samples_split=5, n_estimators=800; total time=  42.8s\n",
      "[CV] END bootstrap=False, max_depth=100, max_features=50, min_samples_leaf=4, min_samples_split=2, n_estimators=600; total time=  19.3s\n",
      "[CV] END bootstrap=False, max_depth=70, max_features=100, min_samples_leaf=4, min_samples_split=5, n_estimators=1800; total time= 1.8min\n",
      "[CV] END bootstrap=False, max_depth=20, max_features=sqrt, min_samples_leaf=2, min_samples_split=5, n_estimators=400; total time= 1.3min\n",
      "[CV] END bootstrap=False, max_depth=50, max_features=log2, min_samples_leaf=2, min_samples_split=10, n_estimators=1400; total time=  18.6s\n",
      "[CV] END bootstrap=True, max_depth=70, max_features=50, min_samples_leaf=2, min_samples_split=10, n_estimators=1000; total time=  22.4s\n",
      "[CV] END bootstrap=True, max_depth=70, max_features=50, min_samples_leaf=2, min_samples_split=10, n_estimators=1000; total time=  22.1s\n",
      "[CV] END bootstrap=True, max_depth=None, max_features=log2, min_samples_leaf=4, min_samples_split=2, n_estimators=1200; total time=  10.9s\n",
      "[CV] END bootstrap=False, max_depth=None, max_features=sqrt, min_samples_leaf=2, min_samples_split=10, n_estimators=800; total time= 2.5min\n",
      "[CV] END bootstrap=True, max_depth=10, max_features=50, min_samples_leaf=2, min_samples_split=2, n_estimators=1000; total time=  21.2s\n",
      "[CV] END bootstrap=False, max_depth=90, max_features=log2, min_samples_leaf=4, min_samples_split=10, n_estimators=600; total time=   7.8s\n",
      "[CV] END bootstrap=True, max_depth=10, max_features=sqrt, min_samples_leaf=1, min_samples_split=5, n_estimators=1600; total time= 3.3min\n",
      "[CV] END bootstrap=False, max_depth=80, max_features=auto, min_samples_leaf=4, min_samples_split=10, n_estimators=1600; total time= 4.5min\n",
      "[CV] END bootstrap=False, max_depth=70, max_features=sqrt, min_samples_leaf=1, min_samples_split=10, n_estimators=200; total time=  42.2s\n",
      "[CV] END bootstrap=True, max_depth=90, max_features=log2, min_samples_leaf=2, min_samples_split=2, n_estimators=2000; total time=  19.2s\n",
      "[CV] END bootstrap=False, max_depth=None, max_features=sqrt, min_samples_leaf=2, min_samples_split=10, n_estimators=1400; total time= 4.4min\n",
      "[CV] END bootstrap=True, max_depth=70, max_features=50, min_samples_leaf=1, min_samples_split=5, n_estimators=600; total time=  15.1s\n",
      "[CV] END bootstrap=False, max_depth=100, max_features=50, min_samples_leaf=2, min_samples_split=2, n_estimators=1600; total time=  54.6s\n",
      "[CV] END bootstrap=False, max_depth=None, max_features=100, min_samples_leaf=1, min_samples_split=2, n_estimators=1400; total time= 1.6min\n",
      "[CV] END bootstrap=False, max_depth=70, max_features=100, min_samples_leaf=4, min_samples_split=2, n_estimators=400; total time=  23.9s\n",
      "[CV] END bootstrap=False, max_depth=10, max_features=sqrt, min_samples_leaf=4, min_samples_split=10, n_estimators=2000; total time= 5.3min\n",
      "[CV] END bootstrap=True, max_depth=None, max_features=sqrt, min_samples_leaf=4, min_samples_split=10, n_estimators=2000; total time= 3.5min\n",
      "[CV] END bootstrap=True, max_depth=None, max_features=100, min_samples_leaf=4, min_samples_split=5, n_estimators=1400; total time=  51.6s\n",
      "[CV] END bootstrap=False, max_depth=30, max_features=auto, min_samples_leaf=4, min_samples_split=10, n_estimators=2000; total time= 5.7min\n",
      "[CV] END bootstrap=False, max_depth=90, max_features=50, min_samples_leaf=1, min_samples_split=2, n_estimators=1400; total time=  51.4s\n",
      "[CV] END bootstrap=True, max_depth=90, max_features=sqrt, min_samples_leaf=1, min_samples_split=2, n_estimators=1000; total time= 2.2min\n",
      "[CV] END bootstrap=False, max_depth=None, max_features=100, min_samples_leaf=2, min_samples_split=10, n_estimators=800; total time=  50.1s\n",
      "[CV] END bootstrap=False, max_depth=40, max_features=log2, min_samples_leaf=2, min_samples_split=2, n_estimators=1800; total time=  23.6s\n",
      "[CV] END bootstrap=False, max_depth=110, max_features=auto, min_samples_leaf=2, min_samples_split=10, n_estimators=800; total time= 2.6min\n",
      "[CV] END bootstrap=True, max_depth=90, max_features=50, min_samples_leaf=2, min_samples_split=5, n_estimators=1000; total time=  22.6s\n",
      "[CV] END bootstrap=True, max_depth=70, max_features=50, min_samples_leaf=1, min_samples_split=5, n_estimators=1000; total time=  25.0s\n",
      "[CV] END bootstrap=False, max_depth=None, max_features=log2, min_samples_leaf=4, min_samples_split=5, n_estimators=1400; total time=  17.3s\n",
      "[CV] END bootstrap=True, max_depth=80, max_features=50, min_samples_leaf=2, min_samples_split=5, n_estimators=1200; total time=  26.8s\n",
      "[CV] END bootstrap=False, max_depth=20, max_features=50, min_samples_leaf=4, min_samples_split=5, n_estimators=1000; total time=  31.6s\n",
      "[CV] END bootstrap=False, max_depth=110, max_features=100, min_samples_leaf=2, min_samples_split=5, n_estimators=1600; total time= 1.7min\n",
      "[CV] END bootstrap=True, max_depth=70, max_features=50, min_samples_leaf=4, min_samples_split=2, n_estimators=1000; total time=  21.0s\n",
      "[CV] END bootstrap=True, max_depth=None, max_features=50, min_samples_leaf=2, min_samples_split=10, n_estimators=400; total time=   9.4s\n",
      "[CV] END bootstrap=True, max_depth=None, max_features=50, min_samples_leaf=2, min_samples_split=10, n_estimators=400; total time=   9.4s\n",
      "[CV] END bootstrap=True, max_depth=None, max_features=50, min_samples_leaf=2, min_samples_split=10, n_estimators=400; total time=   9.5s\n",
      "[CV] END bootstrap=True, max_depth=30, max_features=log2, min_samples_leaf=1, min_samples_split=2, n_estimators=1000; total time=  10.8s\n",
      "[CV] END bootstrap=True, max_depth=70, max_features=100, min_samples_leaf=4, min_samples_split=5, n_estimators=800; total time=  29.0s\n",
      "[CV] END bootstrap=True, max_depth=60, max_features=100, min_samples_leaf=1, min_samples_split=2, n_estimators=2000; total time= 1.5min\n",
      "[CV] END bootstrap=True, max_depth=100, max_features=log2, min_samples_leaf=4, min_samples_split=5, n_estimators=800; total time=   7.7s\n",
      "[CV] END bootstrap=True, max_depth=None, max_features=log2, min_samples_leaf=4, min_samples_split=2, n_estimators=1200; total time=  11.0s\n",
      "[CV] END bootstrap=True, max_depth=20, max_features=log2, min_samples_leaf=1, min_samples_split=10, n_estimators=400; total time=   4.7s\n",
      "[CV] END bootstrap=False, max_depth=None, max_features=sqrt, min_samples_leaf=2, min_samples_split=10, n_estimators=800; total time= 2.6min\n",
      "[CV] END bootstrap=True, max_depth=10, max_features=50, min_samples_leaf=2, min_samples_split=2, n_estimators=1000; total time=  21.5s\n",
      "[CV] END bootstrap=True, max_depth=80, max_features=log2, min_samples_leaf=4, min_samples_split=10, n_estimators=400; total time=   4.2s\n",
      "[CV] END bootstrap=True, max_depth=10, max_features=sqrt, min_samples_leaf=1, min_samples_split=5, n_estimators=1600; total time= 3.3min\n"
     ]
    },
    {
     "name": "stdout",
     "output_type": "stream",
     "text": [
      "[CV] END bootstrap=False, max_depth=None, max_features=50, min_samples_leaf=2, min_samples_split=10, n_estimators=200; total time=   8.4s\n",
      "[CV] END bootstrap=True, max_depth=110, max_features=auto, min_samples_leaf=4, min_samples_split=2, n_estimators=1200; total time= 2.1min\n",
      "[CV] END bootstrap=False, max_depth=110, max_features=sqrt, min_samples_leaf=4, min_samples_split=10, n_estimators=1600; total time= 4.6min\n",
      "[CV] END bootstrap=True, max_depth=None, max_features=50, min_samples_leaf=2, min_samples_split=2, n_estimators=2000; total time=  44.3s\n",
      "[CV] END bootstrap=False, max_depth=80, max_features=100, min_samples_leaf=2, min_samples_split=2, n_estimators=1000; total time= 1.1min\n",
      "[CV] END bootstrap=False, max_depth=110, max_features=sqrt, min_samples_leaf=1, min_samples_split=5, n_estimators=800; total time= 2.8min\n",
      "[CV] END bootstrap=False, max_depth=70, max_features=log2, min_samples_leaf=1, min_samples_split=5, n_estimators=200; total time=   3.4s\n",
      "[CV] END bootstrap=False, max_depth=50, max_features=auto, min_samples_leaf=4, min_samples_split=10, n_estimators=400; total time= 1.2min\n",
      "[CV] END bootstrap=True, max_depth=50, max_features=50, min_samples_leaf=4, min_samples_split=5, n_estimators=1200; total time=  24.4s\n",
      "[CV] END bootstrap=False, max_depth=90, max_features=sqrt, min_samples_leaf=1, min_samples_split=10, n_estimators=1800; total time= 6.3min\n",
      "[CV] END bootstrap=True, max_depth=30, max_features=100, min_samples_leaf=4, min_samples_split=5, n_estimators=200; total time=   7.7s\n",
      "[CV] END bootstrap=False, max_depth=90, max_features=log2, min_samples_leaf=1, min_samples_split=5, n_estimators=1000; total time=  14.0s\n",
      "[CV] END bootstrap=False, max_depth=110, max_features=100, min_samples_leaf=2, min_samples_split=10, n_estimators=800; total time=  49.9s\n",
      "[CV] END bootstrap=False, max_depth=40, max_features=sqrt, min_samples_leaf=1, min_samples_split=5, n_estimators=1800; total time= 6.4min\n",
      "[CV] END bootstrap=True, max_depth=40, max_features=log2, min_samples_leaf=4, min_samples_split=2, n_estimators=1600; total time=  14.5s\n",
      "[CV] END bootstrap=True, max_depth=40, max_features=log2, min_samples_leaf=4, min_samples_split=2, n_estimators=1600; total time=  14.4s\n",
      "[CV] END bootstrap=False, max_depth=90, max_features=sqrt, min_samples_leaf=1, min_samples_split=5, n_estimators=1800; total time= 6.4min\n",
      "[CV] END bootstrap=True, max_depth=80, max_features=auto, min_samples_leaf=1, min_samples_split=2, n_estimators=1000; total time= 2.2min\n",
      "[CV] END bootstrap=False, max_depth=None, max_features=log2, min_samples_leaf=4, min_samples_split=5, n_estimators=1400; total time=  18.0s\n",
      "[CV] END bootstrap=True, max_depth=80, max_features=50, min_samples_leaf=2, min_samples_split=5, n_estimators=1200; total time=  27.1s\n",
      "[CV] END bootstrap=False, max_depth=30, max_features=log2, min_samples_leaf=2, min_samples_split=2, n_estimators=1600; total time=  21.0s\n",
      "[CV] END bootstrap=False, max_depth=110, max_features=50, min_samples_leaf=4, min_samples_split=2, n_estimators=600; total time=  18.8s\n",
      "[CV] END bootstrap=False, max_depth=30, max_features=auto, min_samples_leaf=1, min_samples_split=2, n_estimators=1800; total time= 6.5min\n",
      "[CV] END bootstrap=False, max_depth=70, max_features=50, min_samples_leaf=4, min_samples_split=10, n_estimators=400; total time=  13.0s\n",
      "[CV] END bootstrap=True, max_depth=50, max_features=100, min_samples_leaf=4, min_samples_split=10, n_estimators=1200; total time=  43.2s\n",
      "[CV] END bootstrap=True, max_depth=10, max_features=50, min_samples_leaf=2, min_samples_split=2, n_estimators=1000; total time=  21.3s\n",
      "[CV] END bootstrap=False, max_depth=90, max_features=log2, min_samples_leaf=4, min_samples_split=10, n_estimators=600; total time=   8.0s\n",
      "[CV] END bootstrap=True, max_depth=10, max_features=sqrt, min_samples_leaf=1, min_samples_split=5, n_estimators=1600; total time= 3.3min\n",
      "[CV] END bootstrap=True, max_depth=60, max_features=50, min_samples_leaf=1, min_samples_split=2, n_estimators=800; total time=  20.9s\n",
      "[CV] END bootstrap=True, max_depth=60, max_features=100, min_samples_leaf=1, min_samples_split=2, n_estimators=1000; total time=  45.3s\n",
      "[CV] END bootstrap=True, max_depth=100, max_features=auto, min_samples_leaf=2, min_samples_split=2, n_estimators=2000; total time= 4.0min\n",
      "[CV] END bootstrap=True, max_depth=None, max_features=100, min_samples_leaf=4, min_samples_split=2, n_estimators=1600; total time=  57.6s\n",
      "[CV] END bootstrap=False, max_depth=30, max_features=100, min_samples_leaf=1, min_samples_split=5, n_estimators=2000; total time= 2.3min\n",
      "[CV] END bootstrap=False, max_depth=100, max_features=100, min_samples_leaf=1, min_samples_split=2, n_estimators=2000; total time= 2.3min\n",
      "[CV] END bootstrap=False, max_depth=100, max_features=50, min_samples_leaf=2, min_samples_split=2, n_estimators=1600; total time=  53.2s\n",
      "[CV] END bootstrap=True, max_depth=50, max_features=sqrt, min_samples_leaf=1, min_samples_split=2, n_estimators=400; total time=  54.4s\n",
      "[CV] END bootstrap=True, max_depth=40, max_features=sqrt, min_samples_leaf=1, min_samples_split=5, n_estimators=800; total time= 1.8min\n",
      "[CV] END bootstrap=True, max_depth=None, max_features=50, min_samples_leaf=2, min_samples_split=5, n_estimators=2000; total time=  44.0s\n",
      "[CV] END bootstrap=True, max_depth=10, max_features=100, min_samples_leaf=2, min_samples_split=2, n_estimators=1800; total time= 1.2min\n",
      "[CV] END bootstrap=False, max_depth=70, max_features=sqrt, min_samples_leaf=2, min_samples_split=2, n_estimators=1000; total time= 3.2min\n",
      "[CV] END bootstrap=True, max_depth=30, max_features=100, min_samples_leaf=4, min_samples_split=5, n_estimators=200; total time=   7.7s\n",
      "[CV] END bootstrap=False, max_depth=90, max_features=log2, min_samples_leaf=1, min_samples_split=5, n_estimators=1000; total time=  14.0s\n",
      "[CV] END bootstrap=False, max_depth=110, max_features=100, min_samples_leaf=2, min_samples_split=10, n_estimators=800; total time=  50.4s\n",
      "[CV] END bootstrap=False, max_depth=40, max_features=sqrt, min_samples_leaf=1, min_samples_split=5, n_estimators=1800; total time= 6.3min\n",
      "[CV] END bootstrap=False, max_depth=110, max_features=50, min_samples_leaf=4, min_samples_split=2, n_estimators=2000; total time= 1.1min\n",
      "[CV] END bootstrap=False, max_depth=None, max_features=100, min_samples_leaf=2, min_samples_split=5, n_estimators=200; total time=  13.3s\n",
      "[CV] END bootstrap=False, max_depth=30, max_features=auto, min_samples_leaf=4, min_samples_split=10, n_estimators=600; total time= 1.7min\n",
      "[CV] END bootstrap=True, max_depth=90, max_features=log2, min_samples_leaf=4, min_samples_split=5, n_estimators=2000; total time=  18.1s\n",
      "[CV] END bootstrap=False, max_depth=30, max_features=sqrt, min_samples_leaf=2, min_samples_split=2, n_estimators=1200; total time= 3.8min\n",
      "[CV] END bootstrap=True, max_depth=70, max_features=100, min_samples_leaf=2, min_samples_split=5, n_estimators=200; total time=   8.9s\n",
      "[CV] END bootstrap=True, max_depth=90, max_features=log2, min_samples_leaf=2, min_samples_split=10, n_estimators=1600; total time=  15.5s\n",
      "[CV] END bootstrap=True, max_depth=None, max_features=sqrt, min_samples_leaf=2, min_samples_split=5, n_estimators=600; total time= 1.2min\n",
      "[CV] END bootstrap=False, max_depth=10, max_features=100, min_samples_leaf=2, min_samples_split=5, n_estimators=1600; total time= 1.5min\n",
      "[CV] END bootstrap=False, max_depth=110, max_features=50, min_samples_leaf=4, min_samples_split=2, n_estimators=600; total time=  19.4s\n",
      "[CV] END bootstrap=False, max_depth=30, max_features=auto, min_samples_leaf=1, min_samples_split=2, n_estimators=1800; total time= 6.4min\n",
      "[CV] END bootstrap=False, max_depth=70, max_features=50, min_samples_leaf=4, min_samples_split=10, n_estimators=400; total time=  13.0s\n",
      "[CV] END bootstrap=False, max_depth=100, max_features=100, min_samples_leaf=1, min_samples_split=10, n_estimators=200; total time=  14.3s\n",
      "[CV] END bootstrap=False, max_depth=50, max_features=100, min_samples_leaf=1, min_samples_split=10, n_estimators=1000; total time= 1.1min\n",
      "[CV] END bootstrap=True, max_depth=70, max_features=50, min_samples_leaf=4, min_samples_split=10, n_estimators=800; total time=  16.6s\n",
      "[CV] END bootstrap=False, max_depth=80, max_features=50, min_samples_leaf=4, min_samples_split=10, n_estimators=2000; total time= 1.0min\n",
      "[CV] END bootstrap=True, max_depth=80, max_features=100, min_samples_leaf=2, min_samples_split=2, n_estimators=1600; total time= 1.1min\n",
      "[CV] END bootstrap=False, max_depth=80, max_features=log2, min_samples_leaf=1, min_samples_split=10, n_estimators=400; total time=   6.2s\n",
      "[CV] END bootstrap=False, max_depth=70, max_features=50, min_samples_leaf=2, min_samples_split=5, n_estimators=1400; total time=  45.4s\n"
     ]
    },
    {
     "name": "stdout",
     "output_type": "stream",
     "text": [
      "[CV] END bootstrap=False, max_depth=80, max_features=auto, min_samples_leaf=4, min_samples_split=10, n_estimators=1600; total time= 4.6min\n",
      "[CV] END bootstrap=False, max_depth=70, max_features=sqrt, min_samples_leaf=1, min_samples_split=10, n_estimators=200; total time=  42.4s\n",
      "[CV] END bootstrap=True, max_depth=90, max_features=log2, min_samples_leaf=2, min_samples_split=2, n_estimators=2000; total time=  19.4s\n",
      "[CV] END bootstrap=True, max_depth=30, max_features=log2, min_samples_leaf=4, min_samples_split=2, n_estimators=2000; total time=  18.1s\n",
      "[CV] END bootstrap=True, max_depth=30, max_features=log2, min_samples_leaf=4, min_samples_split=2, n_estimators=2000; total time=  18.3s\n",
      "[CV] END bootstrap=True, max_depth=None, max_features=50, min_samples_leaf=2, min_samples_split=2, n_estimators=2000; total time=  44.8s\n",
      "[CV] END bootstrap=False, max_depth=100, max_features=log2, min_samples_leaf=4, min_samples_split=5, n_estimators=600; total time=   7.9s\n",
      "[CV] END bootstrap=True, max_depth=100, max_features=50, min_samples_leaf=2, min_samples_split=2, n_estimators=600; total time=  13.7s\n",
      "[CV] END bootstrap=True, max_depth=100, max_features=50, min_samples_leaf=2, min_samples_split=2, n_estimators=600; total time=  13.8s\n",
      "[CV] END bootstrap=False, max_depth=80, max_features=100, min_samples_leaf=2, min_samples_split=2, n_estimators=1000; total time= 1.1min\n",
      "[CV] END bootstrap=False, max_depth=110, max_features=sqrt, min_samples_leaf=1, min_samples_split=5, n_estimators=800; total time= 2.8min\n",
      "[CV] END bootstrap=False, max_depth=70, max_features=log2, min_samples_leaf=1, min_samples_split=5, n_estimators=200; total time=   3.5s\n",
      "[CV] END bootstrap=True, max_depth=50, max_features=sqrt, min_samples_leaf=1, min_samples_split=2, n_estimators=400; total time=  53.0s\n",
      "[CV] END bootstrap=True, max_depth=40, max_features=50, min_samples_leaf=1, min_samples_split=2, n_estimators=1400; total time=  34.8s\n",
      "[CV] END bootstrap=False, max_depth=90, max_features=sqrt, min_samples_leaf=1, min_samples_split=10, n_estimators=1800; total time= 6.2min\n",
      "[CV] END bootstrap=True, max_depth=60, max_features=sqrt, min_samples_leaf=1, min_samples_split=2, n_estimators=1000; total time= 2.2min\n",
      "[CV] END bootstrap=False, max_depth=None, max_features=100, min_samples_leaf=2, min_samples_split=10, n_estimators=2000; total time= 2.1min\n",
      "[CV] END bootstrap=False, max_depth=110, max_features=auto, min_samples_leaf=2, min_samples_split=2, n_estimators=400; total time= 1.3min\n",
      "[CV] END bootstrap=False, max_depth=50, max_features=sqrt, min_samples_leaf=4, min_samples_split=5, n_estimators=2000; total time= 5.7min\n",
      "[CV] END bootstrap=True, max_depth=10, max_features=auto, min_samples_leaf=2, min_samples_split=2, n_estimators=1200; total time= 2.3min\n",
      "[CV] END bootstrap=False, max_depth=None, max_features=sqrt, min_samples_leaf=4, min_samples_split=10, n_estimators=1400; total time= 4.0min\n",
      "[CV] END bootstrap=False, max_depth=20, max_features=50, min_samples_leaf=4, min_samples_split=5, n_estimators=1000; total time=  31.2s\n",
      "[CV] END bootstrap=False, max_depth=110, max_features=50, min_samples_leaf=4, min_samples_split=2, n_estimators=600; total time=  19.6s\n",
      "[CV] END bootstrap=False, max_depth=100, max_features=50, min_samples_leaf=4, min_samples_split=2, n_estimators=600; total time=  19.4s\n",
      "[CV] END bootstrap=False, max_depth=60, max_features=50, min_samples_leaf=2, min_samples_split=5, n_estimators=200; total time=   7.3s\n",
      "[CV] END bootstrap=False, max_depth=70, max_features=100, min_samples_leaf=4, min_samples_split=5, n_estimators=1800; total time= 1.8min\n",
      "[CV] END bootstrap=True, max_depth=30, max_features=log2, min_samples_leaf=1, min_samples_split=2, n_estimators=1000; total time=  10.7s\n",
      "[CV] END bootstrap=True, max_depth=40, max_features=100, min_samples_leaf=4, min_samples_split=5, n_estimators=200; total time=   8.0s\n",
      "[CV] END bootstrap=True, max_depth=70, max_features=100, min_samples_leaf=4, min_samples_split=5, n_estimators=800; total time=  29.8s\n",
      "[CV] END bootstrap=True, max_depth=90, max_features=log2, min_samples_leaf=2, min_samples_split=2, n_estimators=800; total time=   8.4s\n",
      "[CV] END bootstrap=False, max_depth=50, max_features=log2, min_samples_leaf=2, min_samples_split=10, n_estimators=1400; total time=  18.6s\n",
      "[CV] END bootstrap=False, max_depth=50, max_features=log2, min_samples_leaf=2, min_samples_split=10, n_estimators=1400; total time=  18.4s\n",
      "[CV] END bootstrap=False, max_depth=30, max_features=auto, min_samples_leaf=1, min_samples_split=2, n_estimators=400; total time= 1.4min\n",
      "[CV] END bootstrap=True, max_depth=80, max_features=100, min_samples_leaf=1, min_samples_split=2, n_estimators=2000; total time= 1.5min\n",
      "[CV] END bootstrap=False, max_depth=50, max_features=100, min_samples_leaf=1, min_samples_split=10, n_estimators=1000; total time= 1.2min\n",
      "[CV] END bootstrap=True, max_depth=70, max_features=50, min_samples_leaf=4, min_samples_split=10, n_estimators=800; total time=  16.4s\n",
      "[CV] END bootstrap=False, max_depth=80, max_features=50, min_samples_leaf=4, min_samples_split=10, n_estimators=2000; total time= 1.0min\n",
      "[CV] END bootstrap=True, max_depth=80, max_features=100, min_samples_leaf=2, min_samples_split=2, n_estimators=1600; total time= 1.1min\n",
      "[CV] END bootstrap=False, max_depth=20, max_features=log2, min_samples_leaf=4, min_samples_split=2, n_estimators=1000; total time=  12.9s\n",
      "[CV] END bootstrap=False, max_depth=70, max_features=50, min_samples_leaf=2, min_samples_split=5, n_estimators=1400; total time=  43.6s\n",
      "[CV] END bootstrap=False, max_depth=None, max_features=50, min_samples_leaf=2, min_samples_split=10, n_estimators=200; total time=   8.5s\n",
      "[CV] END bootstrap=True, max_depth=60, max_features=100, min_samples_leaf=1, min_samples_split=2, n_estimators=1000; total time=  45.3s\n",
      "[CV] END bootstrap=True, max_depth=100, max_features=auto, min_samples_leaf=2, min_samples_split=2, n_estimators=2000; total time= 4.0min\n",
      "[CV] END bootstrap=True, max_depth=90, max_features=100, min_samples_leaf=4, min_samples_split=10, n_estimators=1400; total time=  51.3s\n",
      "[CV] END bootstrap=True, max_depth=30, max_features=log2, min_samples_leaf=4, min_samples_split=2, n_estimators=2000; total time=  17.7s\n",
      "[CV] END bootstrap=False, max_depth=30, max_features=100, min_samples_leaf=1, min_samples_split=5, n_estimators=2000; total time= 2.3min\n",
      "[CV] END bootstrap=False, max_depth=None, max_features=100, min_samples_leaf=1, min_samples_split=2, n_estimators=1200; total time= 1.4min\n",
      "[CV] END bootstrap=True, max_depth=20, max_features=auto, min_samples_leaf=2, min_samples_split=2, n_estimators=800; total time= 1.6min\n",
      "[CV] END bootstrap=True, max_depth=10, max_features=sqrt, min_samples_leaf=1, min_samples_split=2, n_estimators=1200; total time= 2.5min\n",
      "[CV] END bootstrap=False, max_depth=90, max_features=sqrt, min_samples_leaf=4, min_samples_split=10, n_estimators=1800; total time= 5.1min\n",
      "[CV] END bootstrap=False, max_depth=10, max_features=auto, min_samples_leaf=4, min_samples_split=5, n_estimators=400; total time= 1.1min\n",
      "[CV] END bootstrap=True, max_depth=110, max_features=auto, min_samples_leaf=4, min_samples_split=2, n_estimators=1000; total time= 1.7min\n",
      "[CV] END bootstrap=True, max_depth=None, max_features=100, min_samples_leaf=4, min_samples_split=5, n_estimators=1400; total time=  50.5s\n",
      "[CV] END bootstrap=True, max_depth=50, max_features=100, min_samples_leaf=2, min_samples_split=10, n_estimators=1200; total time=  48.7s\n",
      "[CV] END bootstrap=False, max_depth=100, max_features=auto, min_samples_leaf=1, min_samples_split=5, n_estimators=200; total time=  42.0s\n",
      "[CV] END bootstrap=True, max_depth=100, max_features=50, min_samples_leaf=2, min_samples_split=5, n_estimators=1400; total time=  31.6s\n",
      "[CV] END bootstrap=False, max_depth=50, max_features=sqrt, min_samples_leaf=4, min_samples_split=5, n_estimators=2000; total time= 5.7min\n",
      "[CV] END bootstrap=True, max_depth=10, max_features=auto, min_samples_leaf=2, min_samples_split=2, n_estimators=1200; total time= 2.2min\n",
      "[CV] END bootstrap=True, max_depth=50, max_features=log2, min_samples_leaf=2, min_samples_split=5, n_estimators=200; total time=   2.6s\n",
      "[CV] END bootstrap=True, max_depth=20, max_features=auto, min_samples_leaf=4, min_samples_split=2, n_estimators=200; total time=  21.5s\n",
      "[CV] END bootstrap=True, max_depth=110, max_features=50, min_samples_leaf=2, min_samples_split=10, n_estimators=1200; total time=  26.5s\n",
      "[CV] END bootstrap=True, max_depth=110, max_features=50, min_samples_leaf=2, min_samples_split=10, n_estimators=1200; total time=  26.3s\n",
      "[CV] END bootstrap=True, max_depth=80, max_features=auto, min_samples_leaf=1, min_samples_split=2, n_estimators=1000; total time= 2.2min\n",
      "[CV] END bootstrap=False, max_depth=50, max_features=auto, min_samples_leaf=2, min_samples_split=5, n_estimators=1400; total time= 4.5min\n",
      "[CV] END bootstrap=True, max_depth=60, max_features=100, min_samples_leaf=1, min_samples_split=2, n_estimators=2000; total time= 1.5min\n",
      "[CV] END bootstrap=True, max_depth=100, max_features=log2, min_samples_leaf=4, min_samples_split=5, n_estimators=800; total time=   7.8s\n",
      "[CV] END bootstrap=True, max_depth=20, max_features=log2, min_samples_leaf=1, min_samples_split=10, n_estimators=400; total time=   4.7s\n",
      "[CV] END bootstrap=True, max_depth=20, max_features=log2, min_samples_leaf=1, min_samples_split=10, n_estimators=400; total time=   4.7s\n",
      "[CV] END bootstrap=True, max_depth=50, max_features=log2, min_samples_leaf=4, min_samples_split=10, n_estimators=2000; total time=  18.3s\n",
      "[CV] END bootstrap=False, max_depth=60, max_features=100, min_samples_leaf=2, min_samples_split=2, n_estimators=600; total time=  38.3s\n",
      "[CV] END bootstrap=False, max_depth=100, max_features=log2, min_samples_leaf=1, min_samples_split=5, n_estimators=1400; total time=  19.6s\n",
      "[CV] END bootstrap=True, max_depth=30, max_features=auto, min_samples_leaf=4, min_samples_split=2, n_estimators=200; total time=  21.5s\n",
      "[CV] END bootstrap=False, max_depth=100, max_features=100, min_samples_leaf=1, min_samples_split=10, n_estimators=200; total time=  14.6s\n",
      "[CV] END bootstrap=True, max_depth=50, max_features=100, min_samples_leaf=4, min_samples_split=10, n_estimators=1200; total time=  43.1s\n",
      "[CV] END bootstrap=True, max_depth=10, max_features=100, min_samples_leaf=4, min_samples_split=5, n_estimators=1000; total time=  35.3s\n",
      "[CV] END bootstrap=True, max_depth=20, max_features=log2, min_samples_leaf=2, min_samples_split=5, n_estimators=800; total time=   8.3s\n",
      "[CV] END bootstrap=True, max_depth=110, max_features=auto, min_samples_leaf=4, min_samples_split=2, n_estimators=200; total time=  21.6s\n",
      "[CV] END bootstrap=True, max_depth=100, max_features=sqrt, min_samples_leaf=2, min_samples_split=10, n_estimators=200; total time=  24.6s\n",
      "[CV] END bootstrap=False, max_depth=None, max_features=50, min_samples_leaf=4, min_samples_split=10, n_estimators=400; total time=  13.3s\n",
      "[CV] END bootstrap=True, max_depth=80, max_features=100, min_samples_leaf=2, min_samples_split=2, n_estimators=1600; total time= 1.1min\n",
      "[CV] END bootstrap=False, max_depth=80, max_features=log2, min_samples_leaf=1, min_samples_split=10, n_estimators=400; total time=   6.1s\n",
      "[CV] END bootstrap=False, max_depth=20, max_features=log2, min_samples_leaf=4, min_samples_split=2, n_estimators=1000; total time=  12.8s\n",
      "[CV] END bootstrap=False, max_depth=70, max_features=50, min_samples_leaf=2, min_samples_split=5, n_estimators=1400; total time=  44.2s\n"
     ]
    }
   ],
   "source": [
    "# Test predictions using the RF with the best parameters (trained on the 1000 images)\n",
    "\n",
    "pred = rf_random.predict_proba(X_test)\n",
    "roc_auc_score(Y_test, pred[:,1])"
   ]
  },
  {
   "cell_type": "code",
   "execution_count": 38,
   "metadata": {},
   "outputs": [
    {
     "data": {
      "text/plain": [
       "RandomForestClassifier(bootstrap=False, max_depth=110, max_features=50,\n",
       "                       min_samples_leaf=4, n_estimators=600, n_jobs=-1,\n",
       "                       random_state=42, verbose=1)"
      ]
     },
     "execution_count": 38,
     "metadata": {},
     "output_type": "execute_result"
    }
   ],
   "source": [
    "# the rf classifier with the best parameters\n",
    "best_rfc = RandomForestClassifier(**rf_random.best_params_, random_state = 42, n_jobs = -1, verbose = 1)\n",
    "best_rfc"
   ]
  },
  {
   "cell_type": "code",
   "execution_count": 39,
   "metadata": {},
   "outputs": [
    {
     "name": "stderr",
     "output_type": "stream",
     "text": [
      "[Parallel(n_jobs=-1)]: Using backend ThreadingBackend with 16 concurrent workers.\n",
      "[Parallel(n_jobs=-1)]: Done  18 tasks      | elapsed:    2.3s\n",
      "[Parallel(n_jobs=-1)]: Done 168 tasks      | elapsed:   12.8s\n",
      "[Parallel(n_jobs=-1)]: Done 418 tasks      | elapsed:   31.2s\n",
      "[Parallel(n_jobs=-1)]: Done 600 out of 600 | elapsed:   44.0s finished\n",
      "[Parallel(n_jobs=16)]: Using backend ThreadingBackend with 16 concurrent workers.\n",
      "[Parallel(n_jobs=16)]: Done  18 tasks      | elapsed:    0.0s\n",
      "[Parallel(n_jobs=16)]: Done 168 tasks      | elapsed:    0.1s\n",
      "[Parallel(n_jobs=16)]: Done 418 tasks      | elapsed:    0.3s\n",
      "[Parallel(n_jobs=16)]: Done 600 out of 600 | elapsed:    0.5s finished\n"
     ]
    },
    {
     "data": {
      "text/plain": [
       "0.7278314195380868"
      ]
     },
     "execution_count": 39,
     "metadata": {},
     "output_type": "execute_result"
    }
   ],
   "source": [
    "# fit all training data (ALL images) using a RF classifier with the best tuned parameters\n",
    "best_rfc.fit(X, Y)\n",
    "\n",
    "# test performance\n",
    "pred = best_rfc.predict_proba(X_test)\n",
    "roc_auc_score(Y_test, pred[:,1])"
   ]
  },
  {
   "cell_type": "code",
   "execution_count": 46,
   "metadata": {},
   "outputs": [
    {
     "data": {
      "text/plain": [
       "RandomForestClassifier(bootstrap=False, max_depth=110, max_features=50,\n",
       "                       min_samples_leaf=4, n_estimators=600, n_jobs=-1,\n",
       "                       random_state=42, verbose=1, warm_start=True)"
      ]
     },
     "execution_count": 46,
     "metadata": {},
     "output_type": "execute_result"
    }
   ],
   "source": [
    "# simulate the Federated learning: train on each node's training data and increase n_trees!\n",
    "best_rfc = RandomForestClassifier(**rf_random.best_params_, random_state = 42, \n",
    "                                  n_jobs = -1, verbose = 1, warm_start = True)\n",
    "best_rfc"
   ]
  },
  {
   "cell_type": "code",
   "execution_count": 48,
   "metadata": {},
   "outputs": [
    {
     "data": {
      "text/plain": [
       "600"
      ]
     },
     "execution_count": 48,
     "metadata": {},
     "output_type": "execute_result"
    }
   ],
   "source": [
    "n_trees = rf_random.best_params_['n_estimators']\n",
    "n_trees"
   ]
  },
  {
   "cell_type": "code",
   "execution_count": 49,
   "metadata": {
    "scrolled": false
   },
   "outputs": [
    {
     "name": "stderr",
     "output_type": "stream",
     "text": [
      "[Parallel(n_jobs=-1)]: Using backend ThreadingBackend with 16 concurrent workers.\n",
      "[Parallel(n_jobs=-1)]: Done  18 tasks      | elapsed:    0.7s\n",
      "[Parallel(n_jobs=-1)]: Done 168 tasks      | elapsed:    3.8s\n",
      "[Parallel(n_jobs=-1)]: Done 418 tasks      | elapsed:    9.2s\n",
      "[Parallel(n_jobs=-1)]: Done 600 out of 600 | elapsed:   13.0s finished\n",
      "[Parallel(n_jobs=-1)]: Using backend ThreadingBackend with 16 concurrent workers.\n",
      "[Parallel(n_jobs=-1)]: Done  18 tasks      | elapsed:    0.7s\n",
      "[Parallel(n_jobs=-1)]: Done 168 tasks      | elapsed:    3.6s\n",
      "[Parallel(n_jobs=-1)]: Done 418 tasks      | elapsed:    8.8s\n",
      "[Parallel(n_jobs=-1)]: Done 600 out of 600 | elapsed:   12.5s finished\n",
      "[Parallel(n_jobs=-1)]: Using backend ThreadingBackend with 16 concurrent workers.\n",
      "[Parallel(n_jobs=-1)]: Done  18 tasks      | elapsed:    0.6s\n",
      "[Parallel(n_jobs=-1)]: Done 168 tasks      | elapsed:    3.5s\n",
      "[Parallel(n_jobs=-1)]: Done 418 tasks      | elapsed:    8.6s\n",
      "[Parallel(n_jobs=-1)]: Done 600 out of 600 | elapsed:   12.1s finished\n"
     ]
    }
   ],
   "source": [
    "for X, Y in zip(X_list, Y_list):\n",
    "    best_rfc.fit(X, Y)\n",
    "    best_rfc.n_estimators += n_trees\n",
    "\n",
    "best_rfc.n_estimators -= n_trees"
   ]
  },
  {
   "cell_type": "code",
   "execution_count": 50,
   "metadata": {},
   "outputs": [
    {
     "name": "stderr",
     "output_type": "stream",
     "text": [
      "[Parallel(n_jobs=16)]: Using backend ThreadingBackend with 16 concurrent workers.\n",
      "[Parallel(n_jobs=16)]: Done  18 tasks      | elapsed:    0.0s\n",
      "[Parallel(n_jobs=16)]: Done 168 tasks      | elapsed:    0.1s\n",
      "[Parallel(n_jobs=16)]: Done 418 tasks      | elapsed:    0.3s\n",
      "[Parallel(n_jobs=16)]: Done 768 tasks      | elapsed:    0.6s\n",
      "[Parallel(n_jobs=16)]: Done 1218 tasks      | elapsed:    0.9s\n",
      "[Parallel(n_jobs=16)]: Done 1768 tasks      | elapsed:    1.3s\n",
      "[Parallel(n_jobs=16)]: Done 1800 out of 1800 | elapsed:    1.3s finished\n"
     ]
    },
    {
     "data": {
      "text/plain": [
       "0.7646246659906765"
      ]
     },
     "execution_count": 50,
     "metadata": {},
     "output_type": "execute_result"
    }
   ],
   "source": [
    "pred = best_rfc.predict_proba(X_test)\n",
    "roc_auc_score(Y_test, pred[:,1])"
   ]
  },
  {
   "cell_type": "code",
   "execution_count": 51,
   "metadata": {},
   "outputs": [],
   "source": [
    "import pandas as pd\n",
    "\n",
    "df_submission = pd.DataFrame(data={'file_paths': file_paths, 'predictions': pred[:,1]})\n",
    "df_submission[\"file_paths\"] = df_submission[\"file_paths\"].apply(lambda x: x.replace(\"/home/user/data/test\",\"/data/challenges_data/test\"))"
   ]
  },
  {
   "cell_type": "code",
   "execution_count": 52,
   "metadata": {
    "scrolled": true
   },
   "outputs": [
    {
     "data": {
      "text/html": [
       "<div>\n",
       "<style scoped>\n",
       "    .dataframe tbody tr th:only-of-type {\n",
       "        vertical-align: middle;\n",
       "    }\n",
       "\n",
       "    .dataframe tbody tr th {\n",
       "        vertical-align: top;\n",
       "    }\n",
       "\n",
       "    .dataframe thead th {\n",
       "        text-align: right;\n",
       "    }\n",
       "</style>\n",
       "<table border=\"1\" class=\"dataframe\">\n",
       "  <thead>\n",
       "    <tr style=\"text-align: right;\">\n",
       "      <th></th>\n",
       "      <th>file_paths</th>\n",
       "      <th>predictions</th>\n",
       "    </tr>\n",
       "  </thead>\n",
       "  <tbody>\n",
       "    <tr>\n",
       "      <th>0</th>\n",
       "      <td>/data/challenges_data/test/target_1/tumor_cent...</td>\n",
       "      <td>0.518774</td>\n",
       "    </tr>\n",
       "    <tr>\n",
       "      <th>1</th>\n",
       "      <td>/data/challenges_data/test/target_1/tumor_cent...</td>\n",
       "      <td>0.605361</td>\n",
       "    </tr>\n",
       "    <tr>\n",
       "      <th>2</th>\n",
       "      <td>/data/challenges_data/test/target_1/tumor_cent...</td>\n",
       "      <td>0.443389</td>\n",
       "    </tr>\n",
       "    <tr>\n",
       "      <th>3</th>\n",
       "      <td>/data/challenges_data/test/target_1/tumor_cent...</td>\n",
       "      <td>0.516940</td>\n",
       "    </tr>\n",
       "    <tr>\n",
       "      <th>4</th>\n",
       "      <td>/data/challenges_data/test/target_1/tumor_cent...</td>\n",
       "      <td>0.382402</td>\n",
       "    </tr>\n",
       "  </tbody>\n",
       "</table>\n",
       "</div>"
      ],
      "text/plain": [
       "                                          file_paths  predictions\n",
       "0  /data/challenges_data/test/target_1/tumor_cent...     0.518774\n",
       "1  /data/challenges_data/test/target_1/tumor_cent...     0.605361\n",
       "2  /data/challenges_data/test/target_1/tumor_cent...     0.443389\n",
       "3  /data/challenges_data/test/target_1/tumor_cent...     0.516940\n",
       "4  /data/challenges_data/test/target_1/tumor_cent...     0.382402"
      ]
     },
     "execution_count": 52,
     "metadata": {},
     "output_type": "execute_result"
    }
   ],
   "source": [
    "df_submission.to_csv('rf_results_pseudo_fed.csv', index=False)\n",
    "df_submission.head()"
   ]
  },
  {
   "cell_type": "code",
   "execution_count": null,
   "metadata": {},
   "outputs": [],
   "source": []
  }
 ],
 "metadata": {
  "kernelspec": {
   "display_name": "Python 3 (ipykernel)",
   "language": "python",
   "name": "python3"
  },
  "language_info": {
   "codemirror_mode": {
    "name": "ipython",
    "version": 3
   },
   "file_extension": ".py",
   "mimetype": "text/x-python",
   "name": "python",
   "nbconvert_exporter": "python",
   "pygments_lexer": "ipython3",
   "version": "3.7.3"
  }
 },
 "nbformat": 4,
 "nbformat_minor": 2
}

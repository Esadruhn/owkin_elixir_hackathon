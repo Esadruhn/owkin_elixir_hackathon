{
 "cells": [
  {
   "cell_type": "code",
   "execution_count": 1,
   "id": "36b98776",
   "metadata": {},
   "outputs": [],
   "source": [
    "import torch\n",
    "from PIL import Image\n",
    "import numpy as np\n",
    "import pandas as pd\n",
    "from pathlib import Path\n",
    "\n",
    "from sklearn.metrics import roc_auc_score\n",
    "from torch.nn.functional import relu\n",
    "from torchvision.io import read_image\n",
    "import matplotlib.pyplot as plt"
   ]
  },
  {
   "cell_type": "code",
   "execution_count": 2,
   "id": "1574d35c",
   "metadata": {},
   "outputs": [],
   "source": [
    "DATA_PATH = Path('/') / 'home' / 'user' / 'data'\n",
    "TRAIN_DATA_PATH = DATA_PATH / 'ML' / 'train'\n",
    "TEST_DATA_PATH = DATA_PATH / 'test'\n",
    "TARGETS = ['target_0', 'target_1']"
   ]
  },
  {
   "cell_type": "code",
   "execution_count": 3,
   "id": "88a2398a",
   "metadata": {},
   "outputs": [],
   "source": [
    "torch_device = torch.device(\"cuda\") if torch.cuda.is_available() else torch.device(\"cpu\")"
   ]
  },
  {
   "cell_type": "markdown",
   "id": "2a3e2ed7",
   "metadata": {},
   "source": [
    "## Define the dataset and data loader"
   ]
  },
  {
   "cell_type": "code",
   "execution_count": 4,
   "id": "52ea4158",
   "metadata": {},
   "outputs": [],
   "source": [
    "class CamelyonDataset(torch.utils.data.Dataset):\n",
    "\n",
    "    def __init__(self, data_path, targets, transform=None):\n",
    "        samples = list()\n",
    "        labels = list()\n",
    "        self.transform = transform\n",
    "        for target in targets:\n",
    "            data_paths = list((data_path / target).glob('*.jpg'))\n",
    "            label = int(target.split('_')[-1])\n",
    "            assert len(data_paths) > 0, f'Wrong data path: {data_path / target}'\n",
    "            samples.extend(data_paths)\n",
    "            labels.extend([label]*len(data_paths))\n",
    "        self.samples = pd.DataFrame({'filepath': samples, 'label': labels})\n",
    "\n",
    "    def __len__(self):\n",
    "        return len(self.samples)\n",
    "    \n",
    "    def __getitem__(self, idx):\n",
    "        if torch.is_tensor(idx):\n",
    "            idx = idx.tolist()\n",
    "    \n",
    "        img_path = self.samples.iloc[idx, 0]\n",
    "        image = read_image(str(img_path.resolve())).to(torch_device)\n",
    "        image = (1.0 / 255.0) * image\n",
    "        \n",
    "        label = self.samples.iloc[idx, 1]\n",
    "        sample = image, label\n",
    "        \n",
    "        if self.transform:\n",
    "            sample = self.transform(sample)\n",
    "       \n",
    "        return sample"
   ]
  },
  {
   "cell_type": "code",
   "execution_count": null,
   "id": "ca83d275",
   "metadata": {},
   "outputs": [],
   "source": []
  },
  {
   "cell_type": "code",
   "execution_count": 5,
   "id": "2b9f5d33",
   "metadata": {},
   "outputs": [],
   "source": [
    "dataset = CamelyonDataset(\n",
    "    data_path=TRAIN_DATA_PATH,\n",
    "    targets=TARGETS,\n",
    ")\n",
    "test_dataset = CamelyonDataset(\n",
    "    data_path=TEST_DATA_PATH,\n",
    "    targets=TARGETS,\n",
    ")"
   ]
  },
  {
   "cell_type": "code",
   "execution_count": 6,
   "id": "e02a1b46",
   "metadata": {},
   "outputs": [],
   "source": [
    "dataloader = torch.utils.data.DataLoader(dataset, batch_size=32, shuffle=True, num_workers=0)\n",
    "test_dataloader = torch.utils.data.DataLoader(test_dataset, batch_size=32, shuffle=False, num_workers=0)"
   ]
  },
  {
   "cell_type": "code",
   "execution_count": 7,
   "id": "ebe71045",
   "metadata": {},
   "outputs": [],
   "source": [
    "# Evaluation code\n",
    "def evaluate(model, loader):\n",
    "    model.eval()\n",
    "\n",
    "    all_labels = None\n",
    "    all_preds = None\n",
    "    \n",
    "    with torch.no_grad():\n",
    "        for batch in loader:\n",
    "            inputs, labels = batch\n",
    "            labels = labels.to(torch_device).float().cpu().detach().numpy().tolist()\n",
    "            \n",
    "            # Apply a sigmoid on the predictions\n",
    "            preds = torch.sigmoid(model(inputs))\n",
    "            preds = preds.cpu().detach().numpy().tolist()\n",
    "\n",
    "            if all_labels is None:\n",
    "                all_labels = labels\n",
    "                all_preds = preds\n",
    "            else:\n",
    "                all_labels.extend(labels)\n",
    "                all_preds.extend(preds)\n",
    "\n",
    "    return all_labels, all_preds, roc_auc_score(all_labels, all_preds)"
   ]
  },
  {
   "cell_type": "markdown",
   "id": "4bc4f990",
   "metadata": {},
   "source": [
    "## Define the model"
   ]
  },
  {
   "cell_type": "code",
   "execution_count": 8,
   "id": "d77bc63b",
   "metadata": {},
   "outputs": [],
   "source": [
    "class TorchModel(torch.nn.Module):\n",
    "    \n",
    "    def __init__(\n",
    "        self,\n",
    "    ):\n",
    "        super().__init__()\n",
    "        self.conv1 = torch.nn.Conv2d(3, 6, kernel_size=3)\n",
    "        self.pool = torch.nn.MaxPool2d(2, 2)\n",
    "        self.conv2 = torch.nn.Conv2d(6, 16, kernel_size=5)\n",
    "        self.fc1 = torch.nn.Linear(16 * 53 * 53, 120)\n",
    "        self.fc2 = torch.nn.Linear(120, 84)\n",
    "        self.fc3 = torch.nn.Linear(84, 1)\n",
    "        \n",
    "    def forward(self, x: torch.Tensor):\n",
    "        x = self.conv1(x)\n",
    "        x = self.pool(relu(x))\n",
    "        x = self.pool(relu(self.conv2(x)))\n",
    "        x = torch.flatten(x, 1) # flatten all dimensions except batch\n",
    "        x = relu(self.fc1(x))\n",
    "        x = relu(self.fc2(x))\n",
    "        x = self.fc3(x)\n",
    "        return x.squeeze()"
   ]
  },
  {
   "cell_type": "markdown",
   "id": "cce66cdd",
   "metadata": {},
   "source": [
    "## Train and evaluate the model"
   ]
  },
  {
   "cell_type": "markdown",
   "id": "c6a03d4d",
   "metadata": {},
   "source": [
    "**DISCLAIMER**: I should create a separate validation and test set from the train data and do nothing on the test set until the submission, otherwise I will overfit the test set."
   ]
  },
  {
   "cell_type": "code",
   "execution_count": null,
   "id": "6b48b9fa",
   "metadata": {},
   "outputs": [
    {
     "name": "stdout",
     "output_type": "stream",
     "text": [
      "Epoch 1/15 - Train AUC: 0.8564383821365915 - Test AUC: 0.741283032141758\n",
      "Epoch 2/15 - Train AUC: 0.9101253660944353 - Test AUC: 0.7387192032579104\n",
      "Epoch 3/15 - Train AUC: 0.9744453884300959 - Test AUC: 0.7188989392368471\n"
     ]
    }
   ],
   "source": [
    "n_epochs = 15\n",
    "\n",
    "model = TorchModel().to(torch_device)\n",
    "\n",
    "criterion = torch.nn.BCEWithLogitsLoss()\n",
    "optimizer = torch.optim.Adam(model.parameters(), lr=0.001)\n",
    "\n",
    "test_perfs = list()\n",
    "train_perfs = list()\n",
    "\n",
    "for epoch in range(n_epochs):\n",
    "    model.train()\n",
    "    for batch in dataloader:\n",
    "        # get the inputs; data is a list of [inputs, labels]\n",
    "        inputs, labels = batch\n",
    "        labels = labels.to(torch_device).float()\n",
    "\n",
    "        # zero the parameter gradients\n",
    "        optimizer.zero_grad()\n",
    "\n",
    "        # forward + backward + optimize\n",
    "        outputs = model(inputs)\n",
    "        loss = criterion(outputs, labels)\n",
    "        loss.backward()\n",
    "        optimizer.step()\n",
    "    \n",
    "    _, _, train_score = evaluate(model, loader=dataloader)\n",
    "    train_perfs.append(train_score)\n",
    "\n",
    "    labels, predictions, test_score = evaluate(model, loader=test_dataloader)\n",
    "    test_perfs.append(test_score)\n",
    "    print(f'Epoch {epoch+1}/{n_epochs} - Train AUC: {train_score} - Test AUC: {test_score}')"
   ]
  },
  {
   "cell_type": "markdown",
   "id": "c835dede",
   "metadata": {},
   "source": [
    "## Display the results"
   ]
  },
  {
   "cell_type": "code",
   "execution_count": null,
   "id": "806e67db",
   "metadata": {
    "scrolled": true
   },
   "outputs": [],
   "source": [
    "%matplotlib inline"
   ]
  },
  {
   "cell_type": "code",
   "execution_count": null,
   "id": "1c866503",
   "metadata": {
    "scrolled": true
   },
   "outputs": [],
   "source": [
    "# Plot the results\n",
    "plt.title('ROC-AUC')\n",
    "plt.plot(list(range(n_epochs)), train_perfs,label = 'Train AUC')\n",
    "plt.plot(list(range(n_epochs)), test_perfs, label = 'Test AUC')\n",
    "plt.legend(loc = 'lower right')\n",
    "plt.ylabel('AUC')\n",
    "plt.xlabel('epochs')\n",
    "plt.show()"
   ]
  },
  {
   "cell_type": "markdown",
   "id": "f7589cd5",
   "metadata": {},
   "source": [
    "## Kaggle submission"
   ]
  },
  {
   "cell_type": "code",
   "execution_count": null,
   "id": "0ea1ebf8",
   "metadata": {},
   "outputs": [],
   "source": [
    "predictions"
   ]
  },
  {
   "cell_type": "code",
   "execution_count": null,
   "id": "3646efb9",
   "metadata": {},
   "outputs": [],
   "source": [
    "labels"
   ]
  }
 ],
 "metadata": {
  "kernelspec": {
   "display_name": "elixirkernel",
   "language": "python",
   "name": "elixirkernel"
  },
  "language_info": {
   "codemirror_mode": {
    "name": "ipython",
    "version": 3
   },
   "file_extension": ".py",
   "mimetype": "text/x-python",
   "name": "python",
   "nbconvert_exporter": "python",
   "pygments_lexer": "ipython3",
   "version": "3.7.3"
  }
 },
 "nbformat": 4,
 "nbformat_minor": 5
}

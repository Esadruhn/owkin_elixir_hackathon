{
 "cells": [
  {
   "cell_type": "code",
   "execution_count": 2,
   "id": "36b98776",
   "metadata": {},
   "outputs": [],
   "source": [
    "import torch\n",
    "from PIL import Image\n",
    "import numpy as np\n",
    "import pandas as pd\n",
    "from pathlib import Path\n",
    "\n",
    "from sklearn.metrics import roc_auc_score\n",
    "from torch.nn.functional import relu\n",
    "from torchvision.io import read_image\n",
    "import matplotlib.pyplot as plt"
   ]
  },
  {
   "cell_type": "code",
   "execution_count": 3,
   "id": "1574d35c",
   "metadata": {},
   "outputs": [],
   "source": [
    "DATA_PATH = Path('/') / 'home' / 'user' / 'data'\n",
    "TRAIN_DATA_PATH = DATA_PATH / 'ML' / 'train'\n",
    "TEST_DATA_PATH = DATA_PATH / 'test'\n",
    "TARGETS = ['target_0', 'target_1']"
   ]
  },
  {
   "cell_type": "code",
   "execution_count": 30,
   "id": "88a2398a",
   "metadata": {},
   "outputs": [],
   "source": [
    "torch_device = torch.device(\"cuda\") if torch.cuda.is_available() else torch.device(\"cpu\")"
   ]
  },
  {
   "cell_type": "markdown",
   "id": "2a3e2ed7",
   "metadata": {},
   "source": [
    "## Define the dataset and data loader"
   ]
  },
  {
   "cell_type": "code",
   "execution_count": 31,
   "id": "52ea4158",
   "metadata": {},
   "outputs": [],
   "source": [
    "class CamelyonDataset(torch.utils.data.Dataset):\n",
    "\n",
    "    def __init__(self, data_path, targets, transform=None):\n",
    "        samples = list()\n",
    "        labels = list()\n",
    "        self.transform = transform\n",
    "        for target in targets:\n",
    "            data_paths = list((data_path / target).glob('*.jpg'))\n",
    "            label = int(target.split('_')[-1])\n",
    "            assert len(data_paths) > 0, f'Wrong data path: {data_path / target}'\n",
    "            samples.extend(data_paths)\n",
    "            labels.extend([label]*len(data_paths))\n",
    "        self.samples = pd.DataFrame({'filepath': samples, 'label': labels})\n",
    "\n",
    "    def __len__(self):\n",
    "        return len(self.samples)\n",
    "    \n",
    "    def __getitem__(self, idx):\n",
    "        if torch.is_tensor(idx):\n",
    "            idx = idx.tolist()\n",
    "    \n",
    "        img_path = self.samples.iloc[idx, 0]\n",
    "        image = read_image(str(img_path.resolve())).to(torch_device)\n",
    "        image = (1.0 / 255.0) * image\n",
    "        \n",
    "        label = self.samples.iloc[idx, 1]\n",
    "        sample = image, label\n",
    "        \n",
    "        if self.transform:\n",
    "            sample = self.transform(sample)\n",
    "       \n",
    "        return sample"
   ]
  },
  {
   "cell_type": "code",
   "execution_count": 32,
   "id": "ca83d275",
   "metadata": {},
   "outputs": [],
   "source": []
  },
  {
   "cell_type": "code",
   "execution_count": 33,
   "id": "2b9f5d33",
   "metadata": {},
   "outputs": [],
   "source": [
    "dataset = CamelyonDataset(\n",
    "    data_path=TRAIN_DATA_PATH,\n",
    "    targets=TARGETS,\n",
    ")\n",
    "test_dataset = CamelyonDataset(\n",
    "    data_path=TEST_DATA_PATH,\n",
    "    targets=TARGETS,\n",
    ")"
   ]
  },
  {
   "cell_type": "code",
   "execution_count": 34,
   "id": "e02a1b46",
   "metadata": {},
   "outputs": [],
   "source": [
    "dataloader = torch.utils.data.DataLoader(dataset, batch_size=32, shuffle=True, num_workers=0)\n",
    "test_dataloader = torch.utils.data.DataLoader(test_dataset, batch_size=32, shuffle=False, num_workers=0)"
   ]
  },
  {
   "cell_type": "code",
   "execution_count": 35,
   "id": "ebe71045",
   "metadata": {},
   "outputs": [],
   "source": [
    "# Evaluation code\n",
    "def evaluate(model, loader):\n",
    "    model.eval()\n",
    "\n",
    "    all_labels = None\n",
    "    all_preds = None\n",
    "\n",
    "    for batch in loader:\n",
    "        inputs, labels = batch\n",
    "        labels = labels.to(torch_device).float().cpu().detach().numpy().tolist()\n",
    "        preds = model(inputs).cpu().detach().numpy().tolist()\n",
    "\n",
    "        if all_labels is None:\n",
    "            all_labels = labels\n",
    "            all_preds = preds\n",
    "        else:\n",
    "            all_labels.extend(labels)\n",
    "            all_preds.extend(preds)\n",
    "\n",
    "    return roc_auc_score(all_labels, all_preds)"
   ]
  },
  {
   "cell_type": "markdown",
   "id": "4bc4f990",
   "metadata": {},
   "source": [
    "## Define the model"
   ]
  },
  {
   "cell_type": "code",
   "execution_count": null,
   "id": "d77bc63b",
   "metadata": {},
   "outputs": [],
   "source": [
    "class TorchModel(torch.nn.Module):\n",
    "    \n",
    "    def __init__(\n",
    "        self,\n",
    "    ):\n",
    "        super().__init__()\n",
    "        self.conv1 = torch.nn.Conv2d(3, 6, kernel_size=3)\n",
    "        self.pool = torch.nn.MaxPool2d(2, 2)\n",
    "        self.conv2 = torch.nn.Conv2d(6, 16, kernel_size=5)\n",
    "        self.fc1 = torch.nn.Linear(16 * 53 * 53, 120)\n",
    "        self.fc2 = torch.nn.Linear(120, 84)\n",
    "        self.fc3 = torch.nn.Linear(84, 1)\n",
    "        \n",
    "    def forward(self, x: torch.Tensor):\n",
    "        x = self.conv1(x)\n",
    "        x = self.pool(relu(x))\n",
    "        x = self.pool(relu(self.conv2(x)))\n",
    "        x = torch.flatten(x, 1) # flatten all dimensions except batch\n",
    "        x = relu(self.fc1(x))\n",
    "        x = relu(self.fc2(x))\n",
    "        x = self.fc3(x)\n",
    "        return x.squeeze()\n",
    "        "
   ]
  },
  {
   "cell_type": "markdown",
   "id": "cce66cdd",
   "metadata": {},
   "source": [
    "## Train and evaluate the model"
   ]
  },
  {
   "cell_type": "code",
   "execution_count": 37,
   "id": "2c653ac8",
   "metadata": {
    "scrolled": true
   },
   "outputs": [
    {
     "name": "stdout",
     "output_type": "stream",
     "text": [
      "Epoch 1/15 - Train AUC: 0.8861211309588095 - Test AUC: 0.7549141591982726\n",
      "Epoch 2/15 - Train AUC: 0.9254097337720467 - Test AUC: 0.7691052549905185\n",
      "Epoch 3/15 - Train AUC: 0.9505323519082509 - Test AUC: 0.832159748507468\n",
      "Epoch 4/15 - Train AUC: 0.9915491284532476 - Test AUC: 0.7810508817465746\n",
      "Epoch 5/15 - Train AUC: 0.9989866154034458 - Test AUC: 0.7728466964473817\n",
      "Epoch 6/15 - Train AUC: 0.9998540022191663 - Test AUC: 0.7632065074073068\n",
      "Epoch 7/15 - Train AUC: 0.9996284056482341 - Test AUC: 0.684168123088848\n",
      "Epoch 8/15 - Train AUC: 0.9997896031980313 - Test AUC: 0.7679488440309739\n",
      "Epoch 9/15 - Train AUC: 0.9999856002188767 - Test AUC: 0.7297199294830978\n",
      "Epoch 10/15 - Train AUC: 0.9999806002948756 - Test AUC: 0.7354321699968863\n",
      "Epoch 11/15 - Train AUC: 0.9997366040036192 - Test AUC: 0.6545714538567301\n",
      "Epoch 12/15 - Train AUC: 0.9999988000182397 - Test AUC: 0.7164610333923734\n",
      "Epoch 13/15 - Train AUC: 0.9999994000091198 - Test AUC: 0.7029758002881853\n",
      "Epoch 14/15 - Train AUC: 1.0 - Test AUC: 0.7400549049065681\n",
      "Epoch 15/15 - Train AUC: 1.0 - Test AUC: 0.7489213749072919\n"
     ]
    }
   ],
   "source": [
    "n_epochs = 15\n",
    "\n",
    "model = TorchModel().to(torch_device)\n",
    "\n",
    "criterion = torch.nn.BCEWithLogitsLoss()\n",
    "optimizer = torch.optim.Adam(model.parameters(), lr=0.001)\n",
    "\n",
    "test_perfs = list()\n",
    "train_perfs = list()\n",
    "\n",
    "for epoch in range(n_epochs):\n",
    "    model.train()\n",
    "    for batch in dataloader:\n",
    "        # get the inputs; data is a list of [inputs, labels]\n",
    "        inputs, labels = batch\n",
    "        labels = labels.to(torch_device).float()\n",
    "\n",
    "        # zero the parameter gradients\n",
    "        optimizer.zero_grad()\n",
    "\n",
    "        # forward + backward + optimize\n",
    "        outputs = model(inputs)\n",
    "        loss = criterion(outputs, labels)\n",
    "        loss.backward()\n",
    "        optimizer.step()\n",
    "    \n",
    "    train_score = evaluate(model, loader=dataloader)\n",
    "    train_perfs.append(train_score)\n",
    "\n",
    "    test_score = evaluate(model, loader=test_dataloader)\n",
    "    test_perfs.append(test_score)\n",
    "    print(f'Epoch {epoch+1}/{n_epochs} - Train AUC: {train_score} - Test AUC: {test_score}')"
   ]
  },
  {
   "cell_type": "markdown",
   "id": "c835dede",
   "metadata": {},
   "source": [
    "## Display the results"
   ]
  },
  {
   "cell_type": "code",
   "execution_count": 40,
   "id": "806e67db",
   "metadata": {
    "scrolled": true
   },
   "outputs": [],
   "source": [
    "%matplotlib inline"
   ]
  },
  {
   "cell_type": "code",
   "execution_count": 1,
   "id": "1c866503",
   "metadata": {},
   "outputs": [
    {
     "ename": "NameError",
     "evalue": "name 'plt' is not defined",
     "output_type": "error",
     "traceback": [
      "\u001b[0;31m---------------------------------------------------------------------------\u001b[0m",
      "\u001b[0;31mNameError\u001b[0m                                 Traceback (most recent call last)",
      "\u001b[0;32m/tmp/ipykernel_16315/1074976524.py\u001b[0m in \u001b[0;36m<module>\u001b[0;34m\u001b[0m\n\u001b[1;32m      1\u001b[0m \u001b[0;31m# Plot the results\u001b[0m\u001b[0;34m\u001b[0m\u001b[0;34m\u001b[0m\u001b[0;34m\u001b[0m\u001b[0m\n\u001b[0;32m----> 2\u001b[0;31m \u001b[0mplt\u001b[0m\u001b[0;34m.\u001b[0m\u001b[0mtitle\u001b[0m\u001b[0;34m(\u001b[0m\u001b[0;34m'ROC-AUC'\u001b[0m\u001b[0;34m)\u001b[0m\u001b[0;34m\u001b[0m\u001b[0;34m\u001b[0m\u001b[0m\n\u001b[0m\u001b[1;32m      3\u001b[0m \u001b[0mplt\u001b[0m\u001b[0;34m.\u001b[0m\u001b[0mplot\u001b[0m\u001b[0;34m(\u001b[0m\u001b[0mlist\u001b[0m\u001b[0;34m(\u001b[0m\u001b[0mrange\u001b[0m\u001b[0;34m(\u001b[0m\u001b[0mn_epochs\u001b[0m\u001b[0;34m)\u001b[0m\u001b[0;34m)\u001b[0m\u001b[0;34m,\u001b[0m \u001b[0mtrain_perfs\u001b[0m\u001b[0;34m,\u001b[0m\u001b[0mlabel\u001b[0m \u001b[0;34m=\u001b[0m \u001b[0;34m'Train AUC'\u001b[0m\u001b[0;34m)\u001b[0m\u001b[0;34m\u001b[0m\u001b[0;34m\u001b[0m\u001b[0m\n\u001b[1;32m      4\u001b[0m \u001b[0mplt\u001b[0m\u001b[0;34m.\u001b[0m\u001b[0mplot\u001b[0m\u001b[0;34m(\u001b[0m\u001b[0mlist\u001b[0m\u001b[0;34m(\u001b[0m\u001b[0mrange\u001b[0m\u001b[0;34m(\u001b[0m\u001b[0mn_epochs\u001b[0m\u001b[0;34m)\u001b[0m\u001b[0;34m)\u001b[0m\u001b[0;34m,\u001b[0m \u001b[0mtest_perfs\u001b[0m\u001b[0;34m,\u001b[0m \u001b[0mlabel\u001b[0m \u001b[0;34m=\u001b[0m \u001b[0;34m'Test AUC'\u001b[0m\u001b[0;34m)\u001b[0m\u001b[0;34m\u001b[0m\u001b[0;34m\u001b[0m\u001b[0m\n\u001b[1;32m      5\u001b[0m \u001b[0mplt\u001b[0m\u001b[0;34m.\u001b[0m\u001b[0mlegend\u001b[0m\u001b[0;34m(\u001b[0m\u001b[0mloc\u001b[0m \u001b[0;34m=\u001b[0m \u001b[0;34m'lower right'\u001b[0m\u001b[0;34m)\u001b[0m\u001b[0;34m\u001b[0m\u001b[0;34m\u001b[0m\u001b[0m\n",
      "\u001b[0;31mNameError\u001b[0m: name 'plt' is not defined"
     ]
    }
   ],
   "source": [
    "# Plot the results\n",
    "plt.title('ROC-AUC')\n",
    "plt.plot(list(range(n_epochs)), train_perfs,label = 'Train AUC')\n",
    "plt.plot(list(range(n_epochs)), test_perfs, label = 'Test AUC')\n",
    "plt.legend(loc = 'lower right')\n",
    "plt.ylabel('AUC')\n",
    "plt.xlabel('epochs')\n",
    "plt.show()"
   ]
  },
  {
   "cell_type": "markdown",
   "id": "f7589cd5",
   "metadata": {},
   "source": [
    "## Kaggle submission"
   ]
  },
  {
   "cell_type": "code",
   "execution_count": null,
   "id": "0ea1ebf8",
   "metadata": {},
   "outputs": [],
   "source": []
  }
 ],
 "metadata": {
  "kernelspec": {
   "display_name": "elixirkernel",
   "language": "python",
   "name": "elixirkernel"
  },
  "language_info": {
   "codemirror_mode": {
    "name": "ipython",
    "version": 3
   },
   "file_extension": ".py",
   "mimetype": "text/x-python",
   "name": "python",
   "nbconvert_exporter": "python",
   "pygments_lexer": "ipython3",
   "version": "3.7.3"
  }
 },
 "nbformat": 4,
 "nbformat_minor": 5
}

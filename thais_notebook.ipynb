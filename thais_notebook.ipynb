{
 "cells": [
  {
   "cell_type": "code",
   "execution_count": 1,
   "id": "36b98776",
   "metadata": {},
   "outputs": [],
   "source": [
    "import torch\n",
    "from PIL import Image\n",
    "import numpy as np\n",
    "import pandas as pd\n",
    "from pathlib import Path\n",
    "\n",
    "from sklearn.metrics import roc_auc_score\n",
    "from torch.nn.functional import relu\n",
    "from torchvision.io import read_image\n",
    "import matplotlib.pyplot as plt"
   ]
  },
  {
   "cell_type": "code",
   "execution_count": 2,
   "id": "1574d35c",
   "metadata": {},
   "outputs": [],
   "source": [
    "DATA_PATH = Path('/') / 'home' / 'user' / 'data'\n",
    "TRAIN_DATA_PATH = DATA_PATH / 'ML' / 'train'\n",
    "TEST_DATA_PATH = DATA_PATH / 'test'\n",
    "TARGETS = ['target_0', 'target_1']"
   ]
  },
  {
   "cell_type": "code",
   "execution_count": 3,
   "id": "88a2398a",
   "metadata": {},
   "outputs": [],
   "source": [
    "torch_device = torch.device(\"cuda\") if torch.cuda.is_available() else torch.device(\"cpu\")"
   ]
  },
  {
   "cell_type": "markdown",
   "id": "2a3e2ed7",
   "metadata": {},
   "source": [
    "## Define the dataset and data loader"
   ]
  },
  {
   "cell_type": "code",
   "execution_count": 4,
   "id": "52ea4158",
   "metadata": {},
   "outputs": [],
   "source": [
    "class CamelyonDataset(torch.utils.data.Dataset):\n",
    "\n",
    "    def __init__(self, data_path, targets, transform=None):\n",
    "        samples = list()\n",
    "        labels = list()\n",
    "        self.transform = transform\n",
    "        for target in targets:\n",
    "            data_paths = list((data_path / target).glob('*.jpg'))\n",
    "            label = int(target.split('_')[-1])\n",
    "            assert len(data_paths) > 0, f'Wrong data path: {data_path / target}'\n",
    "            samples.extend(data_paths)\n",
    "            labels.extend([label]*len(data_paths))\n",
    "        self.samples = pd.DataFrame({'filepath': samples, 'label': labels})\n",
    "\n",
    "    def __len__(self):\n",
    "        return len(self.samples)\n",
    "    \n",
    "    def __getitem__(self, idx):\n",
    "        if torch.is_tensor(idx):\n",
    "            idx = idx.tolist()\n",
    "    \n",
    "        img_path = self.samples.iloc[idx, 0]\n",
    "        data_path = str(img_path.resolve())\n",
    "        image = read_image(data_path).to(torch_device)\n",
    "        image = (1.0 / 255.0) * image\n",
    "        \n",
    "        label = self.samples.iloc[idx, 1]\n",
    "        sample = image, label, data_path\n",
    "        \n",
    "        if self.transform:\n",
    "            sample = self.transform(sample)\n",
    "       \n",
    "        return sample"
   ]
  },
  {
   "cell_type": "code",
   "execution_count": 5,
   "id": "2b9f5d33",
   "metadata": {},
   "outputs": [],
   "source": [
    "dataset = CamelyonDataset(\n",
    "    data_path=TRAIN_DATA_PATH,\n",
    "    targets=TARGETS,\n",
    ")\n",
    "test_dataset = CamelyonDataset(\n",
    "    data_path=TEST_DATA_PATH,\n",
    "    targets=TARGETS,\n",
    ")"
   ]
  },
  {
   "cell_type": "code",
   "execution_count": 6,
   "id": "e02a1b46",
   "metadata": {},
   "outputs": [],
   "source": [
    "dataloader = torch.utils.data.DataLoader(dataset, batch_size=32, shuffle=True, num_workers=0)\n",
    "test_dataloader = torch.utils.data.DataLoader(test_dataset, batch_size=32, shuffle=False, num_workers=0)"
   ]
  },
  {
   "cell_type": "code",
   "execution_count": 7,
   "id": "ebe71045",
   "metadata": {},
   "outputs": [],
   "source": [
    "# Evaluation code\n",
    "def evaluate(model, loader):\n",
    "    model.eval()\n",
    "\n",
    "    all_labels = None\n",
    "    all_preds = None\n",
    "    all_data_paths = None\n",
    "    \n",
    "    with torch.no_grad():\n",
    "        for batch in loader:\n",
    "            inputs, labels, data_paths = batch\n",
    "            # data_paths is a tuple\n",
    "            data_paths = list(data_paths)\n",
    "            labels = labels.to(torch_device).float().cpu().detach().numpy().tolist()\n",
    "            \n",
    "            # Apply a sigmoid on the predictions\n",
    "            preds = torch.sigmoid(model(inputs))\n",
    "            preds = preds.cpu().detach().numpy().tolist()\n",
    "\n",
    "            if all_labels is None:\n",
    "                all_labels = labels\n",
    "                all_preds = preds\n",
    "                all_data_paths = data_paths\n",
    "            else:\n",
    "                all_labels.extend(labels)\n",
    "                all_preds.extend(preds)\n",
    "                all_data_paths.extend(data_paths)\n",
    "\n",
    "    return all_data_paths, all_preds, roc_auc_score(all_labels, all_preds)"
   ]
  },
  {
   "cell_type": "markdown",
   "id": "4bc4f990",
   "metadata": {},
   "source": [
    "## Define the model"
   ]
  },
  {
   "cell_type": "code",
   "execution_count": 8,
   "id": "d77bc63b",
   "metadata": {},
   "outputs": [],
   "source": [
    "class TorchModel(torch.nn.Module):\n",
    "    \n",
    "    def __init__(\n",
    "        self,\n",
    "    ):\n",
    "        # This is a very simple model, performs badly\n",
    "        super().__init__()\n",
    "        self.conv1 = torch.nn.Conv2d(3, 6, kernel_size=3)\n",
    "        self.pool = torch.nn.MaxPool2d(2, 2)\n",
    "        self.conv2 = torch.nn.Conv2d(6, 16, kernel_size=5)\n",
    "        self.fc1 = torch.nn.Linear(16 * 53 * 53, 120)\n",
    "        self.fc2 = torch.nn.Linear(120, 84)\n",
    "        self.fc3 = torch.nn.Linear(84, 1)\n",
    "        \n",
    "    def forward(self, x: torch.Tensor):\n",
    "        x = self.conv1(x)\n",
    "        x = self.pool(relu(x))\n",
    "        x = self.pool(relu(self.conv2(x)))\n",
    "        x = torch.flatten(x, 1) # flatten all dimensions except batch\n",
    "        x = relu(self.fc1(x))\n",
    "        x = relu(self.fc2(x))\n",
    "        x = self.fc3(x)\n",
    "        return x.squeeze()"
   ]
  },
  {
   "cell_type": "markdown",
   "id": "cce66cdd",
   "metadata": {},
   "source": [
    "## Train and evaluate the model"
   ]
  },
  {
   "cell_type": "markdown",
   "id": "2c506145",
   "metadata": {},
   "source": [
    "**DISCLAIMER**: I should create a separate validation and test set from the train data and do nothing on the test set until the submission. Otherwise I will overfit the test set."
   ]
  },
  {
   "cell_type": "code",
   "execution_count": 9,
   "id": "a1b1ae8d",
   "metadata": {},
   "outputs": [
    {
     "name": "stdout",
     "output_type": "stream",
     "text": [
      "Epoch 1/2 - Train AUC: 0.8683570009735853 - Test AUC: 0.7781404428440862\n",
      "Epoch 2/2 - Train AUC: 0.9275283015698161 - Test AUC: 0.7636532516953739\n"
     ]
    }
   ],
   "source": [
    "n_epochs = 2\n",
    "\n",
    "model = TorchModel().to(torch_device)\n",
    "\n",
    "criterion = torch.nn.BCEWithLogitsLoss()\n",
    "optimizer = torch.optim.Adam(model.parameters(), lr=0.001)\n",
    "\n",
    "test_perfs = list()\n",
    "train_perfs = list()\n",
    "\n",
    "all_labels = None\n",
    "all_preds = None\n",
    "all_data_paths = None\n",
    "    \n",
    "for epoch in range(n_epochs):\n",
    "    model.train()\n",
    "    for batch in dataloader:\n",
    "        # get the inputs; data is a list of [inputs, labels]\n",
    "        inputs, labels, data_paths = batch\n",
    "        labels = labels.to(torch_device).float()\n",
    "\n",
    "        # zero the parameter gradients\n",
    "        optimizer.zero_grad()\n",
    "\n",
    "        # forward + backward + optimize\n",
    "        outputs = model(inputs)\n",
    "        loss = criterion(outputs, labels)\n",
    "        loss.backward()\n",
    "        optimizer.step()\n",
    "\n",
    "    _, _, train_score = evaluate(model, loader=dataloader)\n",
    "    train_perfs.append(train_score)\n",
    "\n",
    "    data_paths, predictions, test_score = evaluate(model, loader=test_dataloader)\n",
    "    test_perfs.append(test_score)\n",
    "    print(f'Epoch {epoch+1}/{n_epochs} - Train AUC: {train_score} - Test AUC: {test_score}')"
   ]
  },
  {
   "cell_type": "markdown",
   "id": "c835dede",
   "metadata": {},
   "source": [
    "## Display the results"
   ]
  },
  {
   "cell_type": "code",
   "execution_count": 10,
   "id": "806e67db",
   "metadata": {
    "scrolled": true
   },
   "outputs": [],
   "source": [
    "%matplotlib inline"
   ]
  },
  {
   "cell_type": "code",
   "execution_count": 11,
   "id": "1c866503",
   "metadata": {
    "scrolled": true
   },
   "outputs": [
    {
     "data": {
      "image/png": "[encoded data removed]",
      "text/plain": [
       "<Figure size 432x288 with 1 Axes>"
      ]
     },
     "metadata": {
      "needs_background": "light"
     },
     "output_type": "display_data"
    }
   ],
   "source": [
    "# Plot the results\n",
    "plt.title('ROC-AUC')\n",
    "plt.plot(list(range(n_epochs)), train_perfs,label = 'Train AUC')\n",
    "plt.plot(list(range(n_epochs)), test_perfs, label = 'Test AUC')\n",
    "plt.legend(loc = 'lower right')\n",
    "plt.ylabel('AUC')\n",
    "plt.xlabel('epochs')\n",
    "plt.show()"
   ]
  },
  {
   "cell_type": "markdown",
   "id": "f7589cd5",
   "metadata": {},
   "source": [
    "## Kaggle submission"
   ]
  },
  {
   "cell_type": "code",
   "execution_count": 12,
   "id": "a903cf87",
   "metadata": {},
   "outputs": [],
   "source": [
    "df_submission = pd.DataFrame(data={'file_paths': data_paths, 'predictions': predictions})\n",
    "df_submission[\"file_paths\"] = df_submission[\"file_paths\"].apply(lambda x: x.replace(\"/home/user/data/test\",\"/data/challenges_data/test\"))\n",
    "df_submission.to_csv('df_submission.csv', index=False)"
   ]
  },
  {
   "cell_type": "code",
   "execution_count": 13,
   "id": "0ea1ebf8",
   "metadata": {},
   "outputs": [
    {
     "data": {
      "text/html": [
       "<div>\n",
       "<style scoped>\n",
       "    .dataframe tbody tr th:only-of-type {\n",
       "        vertical-align: middle;\n",
       "    }\n",
       "\n",
       "    .dataframe tbody tr th {\n",
       "        vertical-align: top;\n",
       "    }\n",
       "\n",
       "    .dataframe thead th {\n",
       "        text-align: right;\n",
       "    }\n",
       "</style>\n",
       "<table border=\"1\" class=\"dataframe\">\n",
       "  <thead>\n",
       "    <tr style=\"text-align: right;\">\n",
       "      <th></th>\n",
       "      <th>file_paths</th>\n",
       "      <th>predictions</th>\n",
       "    </tr>\n",
       "  </thead>\n",
       "  <tbody>\n",
       "    <tr>\n",
       "      <th>0</th>\n",
       "      <td>/data/challenges_data/test/target_0/normal_1_1...</td>\n",
       "      <td>0.620471</td>\n",
       "    </tr>\n",
       "    <tr>\n",
       "      <th>1</th>\n",
       "      <td>/data/challenges_data/test/target_0/normal_0_4...</td>\n",
       "      <td>0.706707</td>\n",
       "    </tr>\n",
       "    <tr>\n",
       "      <th>2</th>\n",
       "      <td>/data/challenges_data/test/target_0/normal_1_1...</td>\n",
       "      <td>0.751138</td>\n",
       "    </tr>\n",
       "    <tr>\n",
       "      <th>3</th>\n",
       "      <td>/data/challenges_data/test/target_0/normal_0_4...</td>\n",
       "      <td>0.101923</td>\n",
       "    </tr>\n",
       "    <tr>\n",
       "      <th>4</th>\n",
       "      <td>/data/challenges_data/test/target_0/normal_0_1...</td>\n",
       "      <td>0.129125</td>\n",
       "    </tr>\n",
       "  </tbody>\n",
       "</table>\n",
       "</div>"
      ],
      "text/plain": [
       "                                          file_paths  predictions\n",
       "0  /data/challenges_data/test/target_0/normal_1_1...     0.620471\n",
       "1  /data/challenges_data/test/target_0/normal_0_4...     0.706707\n",
       "2  /data/challenges_data/test/target_0/normal_1_1...     0.751138\n",
       "3  /data/challenges_data/test/target_0/normal_0_4...     0.101923\n",
       "4  /data/challenges_data/test/target_0/normal_0_1...     0.129125"
      ]
     },
     "execution_count": 13,
     "metadata": {},
     "output_type": "execute_result"
    }
   ],
   "source": [
    "df_submission.head()"
   ]
  }
 ],
 "metadata": {
  "kernelspec": {
   "display_name": "elixirkernel",
   "language": "python",
   "name": "elixirkernel"
  },
  "language_info": {
   "codemirror_mode": {
    "name": "ipython",
    "version": 3
   },
   "file_extension": ".py",
   "mimetype": "text/x-python",
   "name": "python",
   "nbconvert_exporter": "python",
   "pygments_lexer": "ipython3",
   "version": "3.7.3"
  }
 },
 "nbformat": 4,
 "nbformat_minor": 5
}

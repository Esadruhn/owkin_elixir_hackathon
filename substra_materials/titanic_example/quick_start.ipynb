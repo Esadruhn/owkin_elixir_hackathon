{
 "cells": [
  {
   "cell_type": "markdown",
   "metadata": {},
   "source": [
    "# Quick start\n",
    "\n",
    "Training and testing with only one node.\n",
    "- dataset: Titanic\n",
    "- algo: random forest\n",
    "- tasks: one traintuple and one testtuple"
   ]
  },
  {
   "cell_type": "code",
   "execution_count": 1,
   "metadata": {},
   "outputs": [],
   "source": [
    "from pathlib import Path\n",
    "import os\n",
    "import zipfile"
   ]
  },
  {
   "cell_type": "code",
   "execution_count": 2,
   "metadata": {},
   "outputs": [],
   "source": [
    "import substra"
   ]
  },
  {
   "cell_type": "code",
   "execution_count": 3,
   "metadata": {},
   "outputs": [
    {
     "data": {
      "text/plain": [
       "'0.13.0'"
      ]
     },
     "execution_count": 3,
     "metadata": {},
     "output_type": "execute_result"
    }
   ],
   "source": [
    "substra.__version__"
   ]
  },
  {
   "cell_type": "code",
   "execution_count": 9,
   "metadata": {},
   "outputs": [],
   "source": [
    "assets_directory = Path(\"../titanic-assets\") / \"assets\""
   ]
  },
  {
   "cell_type": "code",
   "execution_count": 10,
   "metadata": {},
   "outputs": [
    {
     "data": {
      "text/plain": [
       "PosixPath('../titanic-assets/assets')"
      ]
     },
     "execution_count": 10,
     "metadata": {},
     "output_type": "execute_result"
    }
   ],
   "source": [
    "assets_directory"
   ]
  },
  {
   "cell_type": "markdown",
   "metadata": {},
   "source": [
    "## Registering data samples and dataset"
   ]
  },
  {
   "cell_type": "code",
   "execution_count": 11,
   "metadata": {},
   "outputs": [],
   "source": [
    "client = substra.Client(debug=True)"
   ]
  },
  {
   "cell_type": "code",
   "execution_count": 12,
   "metadata": {},
   "outputs": [
    {
     "data": {
      "text/plain": [
       "[]"
      ]
     },
     "execution_count": 12,
     "metadata": {},
     "output_type": "execute_result"
    }
   ],
   "source": [
    "client.list_dataset()"
   ]
  },
  {
   "cell_type": "code",
   "execution_count": 13,
   "metadata": {},
   "outputs": [
    {
     "ename": "InvalidRequest",
     "evalue": "Could not copy ../titanic-assets/assets/dataset/opener.py",
     "output_type": "error",
     "traceback": [
      "\u001b[0;31m---------------------------------------------------------------------------\u001b[0m",
      "\u001b[0;31mInvalidRequest\u001b[0m                            Traceback (most recent call last)",
      "\u001b[0;32m/tmp/ipykernel_26378/4003729585.py\u001b[0m in \u001b[0;36m<module>\u001b[0;34m\u001b[0m\n\u001b[1;32m     12\u001b[0m }\n\u001b[1;32m     13\u001b[0m \u001b[0;34m\u001b[0m\u001b[0m\n\u001b[0;32m---> 14\u001b[0;31m \u001b[0mdataset_key_1\u001b[0m \u001b[0;34m=\u001b[0m \u001b[0mclient\u001b[0m\u001b[0;34m.\u001b[0m\u001b[0madd_dataset\u001b[0m\u001b[0;34m(\u001b[0m\u001b[0mDATASET\u001b[0m\u001b[0;34m)\u001b[0m\u001b[0;34m\u001b[0m\u001b[0;34m\u001b[0m\u001b[0m\n\u001b[0m\u001b[1;32m     15\u001b[0m \u001b[0mprint\u001b[0m\u001b[0;34m(\u001b[0m\u001b[0;34mf'Dataset key {dataset_key_1}'\u001b[0m\u001b[0;34m)\u001b[0m\u001b[0;34m\u001b[0m\u001b[0;34m\u001b[0m\u001b[0m\n",
      "\u001b[0;32m~/elixenv/lib/python3.7/site-packages/substra/sdk/client.py\u001b[0m in \u001b[0;36mwrapper\u001b[0;34m(*args, **kwargs)\u001b[0m\n\u001b[1;32m     40\u001b[0m         \u001b[0merror\u001b[0m \u001b[0;34m=\u001b[0m \u001b[0;32mNone\u001b[0m\u001b[0;34m\u001b[0m\u001b[0;34m\u001b[0m\u001b[0m\n\u001b[1;32m     41\u001b[0m         \u001b[0;32mtry\u001b[0m\u001b[0;34m:\u001b[0m\u001b[0;34m\u001b[0m\u001b[0;34m\u001b[0m\u001b[0m\n\u001b[0;32m---> 42\u001b[0;31m             \u001b[0;32mreturn\u001b[0m \u001b[0mf\u001b[0m\u001b[0;34m(\u001b[0m\u001b[0;34m*\u001b[0m\u001b[0margs\u001b[0m\u001b[0;34m,\u001b[0m \u001b[0;34m**\u001b[0m\u001b[0mkwargs\u001b[0m\u001b[0;34m)\u001b[0m\u001b[0;34m\u001b[0m\u001b[0;34m\u001b[0m\u001b[0m\n\u001b[0m\u001b[1;32m     43\u001b[0m         \u001b[0;32mexcept\u001b[0m \u001b[0mException\u001b[0m \u001b[0;32mas\u001b[0m \u001b[0me\u001b[0m\u001b[0;34m:\u001b[0m\u001b[0;34m\u001b[0m\u001b[0;34m\u001b[0m\u001b[0m\n\u001b[1;32m     44\u001b[0m             \u001b[0merror\u001b[0m \u001b[0;34m=\u001b[0m \u001b[0me\u001b[0m\u001b[0;34m.\u001b[0m\u001b[0m__class__\u001b[0m\u001b[0;34m.\u001b[0m\u001b[0m__name__\u001b[0m\u001b[0;34m\u001b[0m\u001b[0;34m\u001b[0m\u001b[0m\n",
      "\u001b[0;32m~/elixenv/lib/python3.7/site-packages/substra/sdk/client.py\u001b[0m in \u001b[0;36madd_dataset\u001b[0;34m(self, data)\u001b[0m\n\u001b[1;32m    277\u001b[0m         \"\"\"\n\u001b[1;32m    278\u001b[0m         \u001b[0mspec\u001b[0m \u001b[0;34m=\u001b[0m \u001b[0mself\u001b[0m\u001b[0;34m.\u001b[0m\u001b[0m_get_spec\u001b[0m\u001b[0;34m(\u001b[0m\u001b[0mschemas\u001b[0m\u001b[0;34m.\u001b[0m\u001b[0mDatasetSpec\u001b[0m\u001b[0;34m,\u001b[0m \u001b[0mdata\u001b[0m\u001b[0;34m)\u001b[0m\u001b[0;34m\u001b[0m\u001b[0;34m\u001b[0m\u001b[0m\n\u001b[0;32m--> 279\u001b[0;31m         \u001b[0;32mreturn\u001b[0m \u001b[0mself\u001b[0m\u001b[0;34m.\u001b[0m\u001b[0m_backend\u001b[0m\u001b[0;34m.\u001b[0m\u001b[0madd\u001b[0m\u001b[0;34m(\u001b[0m\u001b[0mspec\u001b[0m\u001b[0;34m)\u001b[0m\u001b[0;34m\u001b[0m\u001b[0;34m\u001b[0m\u001b[0m\n\u001b[0m\u001b[1;32m    280\u001b[0m \u001b[0;34m\u001b[0m\u001b[0m\n\u001b[1;32m    281\u001b[0m     \u001b[0;34m@\u001b[0m\u001b[0mlogit\u001b[0m\u001b[0;34m\u001b[0m\u001b[0;34m\u001b[0m\u001b[0m\n",
      "\u001b[0;32m~/elixenv/lib/python3.7/site-packages/substra/sdk/backends/local/backend.py\u001b[0m in \u001b[0;36madd\u001b[0;34m(self, spec, spec_options)\u001b[0m\n\u001b[1;32m    836\u001b[0m         \u001b[0;32melse\u001b[0m\u001b[0;34m:\u001b[0m\u001b[0;34m\u001b[0m\u001b[0;34m\u001b[0m\u001b[0m\n\u001b[1;32m    837\u001b[0m             \u001b[0mkey\u001b[0m \u001b[0;34m=\u001b[0m \u001b[0mspec\u001b[0m\u001b[0;34m.\u001b[0m\u001b[0mcompute_key\u001b[0m\u001b[0;34m(\u001b[0m\u001b[0;34m)\u001b[0m\u001b[0;34m\u001b[0m\u001b[0;34m\u001b[0m\u001b[0m\n\u001b[0;32m--> 838\u001b[0;31m             \u001b[0masset\u001b[0m \u001b[0;34m=\u001b[0m \u001b[0madd_asset\u001b[0m\u001b[0;34m(\u001b[0m\u001b[0mkey\u001b[0m\u001b[0;34m,\u001b[0m \u001b[0mspec\u001b[0m\u001b[0;34m,\u001b[0m \u001b[0mspec_options\u001b[0m\u001b[0;34m)\u001b[0m\u001b[0;34m\u001b[0m\u001b[0;34m\u001b[0m\u001b[0m\n\u001b[0m\u001b[1;32m    839\u001b[0m             \u001b[0;32mif\u001b[0m \u001b[0mspec\u001b[0m\u001b[0;34m.\u001b[0m\u001b[0m__class__\u001b[0m\u001b[0;34m.\u001b[0m\u001b[0mtype_\u001b[0m \u001b[0;34m==\u001b[0m \u001b[0mschemas\u001b[0m\u001b[0;34m.\u001b[0m\u001b[0mType\u001b[0m\u001b[0;34m.\u001b[0m\u001b[0mComputePlan\u001b[0m\u001b[0;34m:\u001b[0m\u001b[0;34m\u001b[0m\u001b[0;34m\u001b[0m\u001b[0m\n\u001b[1;32m    840\u001b[0m                 \u001b[0;32mreturn\u001b[0m \u001b[0masset\u001b[0m\u001b[0;34m\u001b[0m\u001b[0;34m\u001b[0m\u001b[0m\n",
      "\u001b[0;32m~/elixenv/lib/python3.7/site-packages/substra/sdk/backends/local/backend.py\u001b[0m in \u001b[0;36m_add_dataset\u001b[0;34m(self, key, spec, spec_options)\u001b[0m\n\u001b[1;32m    362\u001b[0m         \u001b[0mpermissions\u001b[0m \u001b[0;34m=\u001b[0m \u001b[0mself\u001b[0m\u001b[0;34m.\u001b[0m\u001b[0m__compute_permissions\u001b[0m\u001b[0;34m(\u001b[0m\u001b[0mspec\u001b[0m\u001b[0;34m.\u001b[0m\u001b[0mpermissions\u001b[0m\u001b[0;34m,\u001b[0m \u001b[0mowner\u001b[0m\u001b[0;34m)\u001b[0m\u001b[0;34m\u001b[0m\u001b[0;34m\u001b[0m\u001b[0m\n\u001b[1;32m    363\u001b[0m \u001b[0;34m\u001b[0m\u001b[0m\n\u001b[0;32m--> 364\u001b[0;31m         \u001b[0mdataset_file_path\u001b[0m \u001b[0;34m=\u001b[0m \u001b[0mself\u001b[0m\u001b[0;34m.\u001b[0m\u001b[0m_db\u001b[0m\u001b[0;34m.\u001b[0m\u001b[0msave_file\u001b[0m\u001b[0;34m(\u001b[0m\u001b[0mspec\u001b[0m\u001b[0;34m.\u001b[0m\u001b[0mdata_opener\u001b[0m\u001b[0;34m,\u001b[0m \u001b[0mkey\u001b[0m\u001b[0;34m)\u001b[0m\u001b[0;34m\u001b[0m\u001b[0;34m\u001b[0m\u001b[0m\n\u001b[0m\u001b[1;32m    365\u001b[0m         \u001b[0mdataset_description_path\u001b[0m \u001b[0;34m=\u001b[0m \u001b[0mself\u001b[0m\u001b[0;34m.\u001b[0m\u001b[0m_db\u001b[0m\u001b[0;34m.\u001b[0m\u001b[0msave_file\u001b[0m\u001b[0;34m(\u001b[0m\u001b[0mspec\u001b[0m\u001b[0;34m.\u001b[0m\u001b[0mdescription\u001b[0m\u001b[0;34m,\u001b[0m \u001b[0mkey\u001b[0m\u001b[0;34m)\u001b[0m\u001b[0;34m\u001b[0m\u001b[0;34m\u001b[0m\u001b[0m\n\u001b[1;32m    366\u001b[0m         asset = models.Dataset(\n",
      "\u001b[0;32m~/elixenv/lib/python3.7/site-packages/substra/sdk/backends/local/dal.py\u001b[0m in \u001b[0;36msave_file\u001b[0;34m(self, file_path, key)\u001b[0m\n\u001b[1;32m    176\u001b[0m             raise exceptions.InvalidRequest(\n\u001b[1;32m    177\u001b[0m                 \u001b[0;34mf\"Could not copy {file_path}\"\u001b[0m\u001b[0;34m,\u001b[0m\u001b[0;34m\u001b[0m\u001b[0;34m\u001b[0m\u001b[0m\n\u001b[0;32m--> 178\u001b[0;31m                 \u001b[0;36m400\u001b[0m\u001b[0;34m\u001b[0m\u001b[0;34m\u001b[0m\u001b[0m\n\u001b[0m\u001b[1;32m    179\u001b[0m             )\n\u001b[1;32m    180\u001b[0m         \u001b[0;32mreturn\u001b[0m \u001b[0mtmp_file\u001b[0m\u001b[0;34m\u001b[0m\u001b[0;34m\u001b[0m\u001b[0m\n",
      "\u001b[0;31mInvalidRequest\u001b[0m: Could not copy ../titanic-assets/assets/dataset/opener.py"
     ]
    }
   ],
   "source": [
    "permissions = {\n",
    "            'public': False, \n",
    "            'authorized_ids': []\n",
    "}\n",
    "\n",
    "DATASET = {\n",
    "    'name': 'Titanic dataset - Node 1',\n",
    "    'type': 'csv',\n",
    "    'data_opener': assets_directory / 'dataset' / 'opener.py',\n",
    "    'description': assets_directory / 'dataset' / 'description.md',\n",
    "    'permissions': permissions\n",
    "}\n",
    "\n",
    "dataset_key_1 = client.add_dataset(DATASET)\n",
    "print(f'Dataset key {dataset_key_1}')"
   ]
  },
  {
   "cell_type": "markdown",
   "metadata": {},
   "source": [
    "### Adding train data samples"
   ]
  },
  {
   "cell_type": "code",
   "execution_count": 8,
   "metadata": {},
   "outputs": [
    {
     "name": "stdout",
     "output_type": "stream",
     "text": [
      "10 data samples were registered\n"
     ]
    }
   ],
   "source": [
    "train_data_sample_folder = assets_directory / 'train_data_samples'\n",
    "train_data_sample_paths = list(train_data_sample_folder.glob('*'))\n",
    "train_data_sample_keys = list()\n",
    "\n",
    "for path in train_data_sample_paths:\n",
    "    data_sample_key = client.add_data_sample({\n",
    "        'data_manager_keys': [dataset_key_1],\n",
    "        'test_only': False,\n",
    "        'path': path,\n",
    "    }, local=True)\n",
    "    train_data_sample_keys.append(data_sample_key)\n",
    "\n",
    "print(f\"{len(train_data_sample_keys)} data samples were registered\")"
   ]
  },
  {
   "cell_type": "markdown",
   "metadata": {},
   "source": [
    "### Adding test data samples"
   ]
  },
  {
   "cell_type": "code",
   "execution_count": 9,
   "metadata": {},
   "outputs": [
    {
     "name": "stdout",
     "output_type": "stream",
     "text": [
      "2 data samples were registered\n"
     ]
    }
   ],
   "source": [
    "test_data_sample_folder = assets_directory / 'test_data_samples'\n",
    "test_data_sample_paths = list(test_data_sample_folder.glob('*'))\n",
    "test_data_sample_keys = list()\n",
    "\n",
    "for path in test_data_sample_paths:\n",
    "    data_sample_key = client.add_data_sample({\n",
    "        'data_manager_keys': [dataset_key_1],\n",
    "        'test_only': True,\n",
    "        'path': path,\n",
    "    }, local=True)\n",
    "    test_data_sample_keys.append(data_sample_key)\n",
    "\n",
    "print(f\"{len(test_data_sample_keys)} data samples were registered\")"
   ]
  },
  {
   "cell_type": "markdown",
   "metadata": {},
   "source": [
    "## Adding objective"
   ]
  },
  {
   "cell_type": "code",
   "execution_count": 13,
   "metadata": {},
   "outputs": [],
   "source": [
    "OBJECTIVE = {\n",
    "    'name': 'Titanic: Machine Learning From Disaster',\n",
    "    'description': assets_directory / 'objective' / 'description.md',\n",
    "    'metrics_name': 'accuracy',\n",
    "    'metrics': assets_directory / 'objective' / 'metrics.zip',\n",
    "    'permissions': {\n",
    "        'public': False,\n",
    "        'authorized_ids': []\n",
    "    },\n",
    "}\n",
    "\n",
    "METRICS_DOCKERFILE_FILES = [\n",
    "    assets_directory / 'objective' / 'metrics.py',\n",
    "    assets_directory / 'objective' / 'Dockerfile'\n",
    "]\n",
    "\n",
    "archive_path = OBJECTIVE['metrics']\n",
    "with zipfile.ZipFile(archive_path, 'w') as z:\n",
    "    for filepath in METRICS_DOCKERFILE_FILES:\n",
    "        z.write(filepath, arcname=os.path.basename(filepath))\n",
    "        \n",
    "objective_key = client.add_metric({\n",
    "    'name': OBJECTIVE['name'],\n",
    "    'file': assets_directory / 'objective' / 'metrics.zip',\n",
    "    'description': OBJECTIVE['description'],\n",
    "    'permissions': OBJECTIVE['permissions'],\n",
    "})\n",
    "assert objective_key, 'Missing objective key'"
   ]
  },
  {
   "cell_type": "markdown",
   "metadata": {},
   "source": [
    "### Adding algo"
   ]
  },
  {
   "cell_type": "code",
   "execution_count": 30,
   "metadata": {},
   "outputs": [],
   "source": [
    "ALGO_KEYS_JSON_FILENAME = 'algo_random_forest_keys.json'\n",
    "\n",
    "ALGO = {\n",
    "    'name': 'Titanic: Random Forest',\n",
    "    'description': assets_directory / 'algo_random_forest' / 'description.md',\n",
    "    'permissions': {\n",
    "        'public': False,\n",
    "        'authorized_ids': []\n",
    "    },\n",
    "}\n",
    "\n",
    "ALGO_DOCKERFILE_FILES = [\n",
    "        assets_directory / 'algo_random_forest/algo.py',\n",
    "        assets_directory / 'algo_random_forest/Dockerfile',\n",
    "]\n",
    "\n",
    "archive_path = assets_directory / 'algo_random_forest' / 'algo_random_forest.zip'\n",
    "with zipfile.ZipFile(archive_path, 'w') as z:\n",
    "    for filepath in ALGO_DOCKERFILE_FILES:\n",
    "        z.write(filepath, arcname=os.path.basename(filepath))\n",
    "ALGO['file'] = archive_path"
   ]
  },
  {
   "cell_type": "code",
   "execution_count": 31,
   "metadata": {},
   "outputs": [],
   "source": [
    "algo_key = client.add_algo({\n",
    "    'name': ALGO['name'],\n",
    "    'file': ALGO['file'],\n",
    "    'description': ALGO['description'],\n",
    "    'permissions': ALGO['permissions'],\n",
    "    'category': \"ALGO_SIMPLE\"\n",
    "})"
   ]
  },
  {
   "cell_type": "markdown",
   "metadata": {},
   "source": [
    "### Registering tasks"
   ]
  },
  {
   "cell_type": "code",
   "execution_count": 32,
   "metadata": {},
   "outputs": [],
   "source": [
    "traintuple_key = client.add_traintuple({\n",
    "    'algo_key': algo_key,\n",
    "    'data_manager_key': dataset_key_1,\n",
    "    'rank': 0,    \n",
    "    'train_data_sample_keys': train_data_sample_keys\n",
    "})\n",
    "assert traintuple_key, 'Missing traintuple key'\n"
   ]
  },
  {
   "cell_type": "code",
   "execution_count": 38,
   "metadata": {},
   "outputs": [],
   "source": [
    "testtuple_key = client.add_testtuple({\n",
    "    'metric_keys': [objective_key],\n",
    "    'traintuple_key': traintuple_key,\n",
    "    'test_data_sample_keys': test_data_sample_keys,\n",
    "    'data_manager_key': dataset_key_1\n",
    "})\n",
    "assert testtuple_key, 'Missing testtuple key'"
   ]
  },
  {
   "cell_type": "markdown",
   "metadata": {},
   "source": [
    "### Results"
   ]
  },
  {
   "cell_type": "code",
   "execution_count": 39,
   "metadata": {},
   "outputs": [],
   "source": [
    "testtuple = client.get_testtuple(testtuple_key)"
   ]
  },
  {
   "cell_type": "code",
   "execution_count": 40,
   "metadata": {},
   "outputs": [
    {
     "data": {
      "text/plain": [
       "<Status.done: 'STATUS_DONE'>"
      ]
     },
     "execution_count": 40,
     "metadata": {},
     "output_type": "execute_result"
    }
   ],
   "source": [
    "testtuple.status"
   ]
  },
  {
   "cell_type": "code",
   "execution_count": 43,
   "metadata": {},
   "outputs": [
    {
     "name": "stdout",
     "output_type": "stream",
     "text": [
      "{\n",
      "    \"key\": \"cabb28d3f51c4a32971ef3182b6a8303\",\n",
      "    \"category\": \"TASK_TEST\",\n",
      "    \"algo\": {\n",
      "        \"key\": \"680f024da49147fc8c6f5415f20a4b40\",\n",
      "        \"name\": \"Titanic: Random Forest\",\n",
      "        \"owner\": \"local-backend\",\n",
      "        \"permissions\": {\n",
      "            \"process\": {\n",
      "                \"public\": false,\n",
      "                \"authorized_ids\": [\n",
      "                    \"local-backend\"\n",
      "                ]\n",
      "            },\n",
      "            \"download\": {\n",
      "                \"public\": false,\n",
      "                \"authorized_ids\": [\n",
      "                    \"local-backend\"\n",
      "                ]\n",
      "            }\n",
      "        },\n",
      "        \"metadata\": {},\n",
      "        \"category\": \"ALGO_SIMPLE\",\n",
      "        \"creation_date\": \"2021-10-27T09:18:17.042830\",\n",
      "        \"description\": {\n",
      "            \"checksum\": \"935d06ca1045e7ea949b5252c1655039c3b8da31ba0fc19870d80d3bf0423c54\",\n",
      "            \"storage_address\": \"/Users/rgoussault/code/romaingoussault/cookbooks/local-worker/xhr7on5x/680f024da49147fc8c6f5415f20a4b40/description.md\"\n",
      "        },\n",
      "        \"algorithm\": {\n",
      "            \"checksum\": \"a3c055cd00e17023ed766a0ddfd03158b5f932c68d8b00c6eb5c61ce7947c311\",\n",
      "            \"storage_address\": \"/Users/rgoussault/code/romaingoussault/cookbooks/local-worker/xhr7on5x/680f024da49147fc8c6f5415f20a4b40/algo_random_forest.zip\"\n",
      "        }\n",
      "    },\n",
      "    \"owner\": \"local-backend\",\n",
      "    \"compute_plan_key\": \"f0bfb3fd76a143c0a051689b5aec1948\",\n",
      "    \"metadata\": {},\n",
      "    \"status\": \"STATUS_DONE\",\n",
      "    \"worker\": \"local-backend\",\n",
      "    \"rank\": 0,\n",
      "    \"parent_task_keys\": [\n",
      "        \"82a2aeb8cd8f4356801dd3f8691f7945\"\n",
      "    ],\n",
      "    \"tag\": \"\",\n",
      "    \"creation_date\": \"2021-10-27T09:21:30.717699\",\n",
      "    \"test\": {\n",
      "        \"data_manager_key\": \"42fb299648274020aa567dbf55b7ad1c\",\n",
      "        \"data_sample_keys\": [\n",
      "            \"8beb9d60a2de4d95baf1e185337f2580\",\n",
      "            \"593657b3e0c6443e85e3218c42abac13\"\n",
      "        ],\n",
      "        \"metric_keys\": [\n",
      "            \"d9e785839f974d48963d9ebf14120b3b\"\n",
      "        ],\n",
      "        \"perfs\": {\n",
      "            \"d9e785839f974d48963d9ebf14120b3b\": 0.8379888268156425\n",
      "        }\n",
      "    }\n",
      "}\n"
     ]
    }
   ],
   "source": [
    "print(testtuple)"
   ]
  },
  {
   "cell_type": "code",
   "execution_count": 45,
   "metadata": {},
   "outputs": [
    {
     "data": {
      "text/plain": [
       "{\n",
       "    \"key\": \"42fb299648274020aa567dbf55b7ad1c\",\n",
       "    \"name\": \"Titanic dataset - Node 1\",\n",
       "    \"owner\": \"local-backend\",\n",
       "    \"permissions\": {\n",
       "        \"process\": {\n",
       "            \"public\": false,\n",
       "            \"authorized_ids\": [\n",
       "                \"local-backend\"\n",
       "            ]\n",
       "        },\n",
       "        \"download\": {\n",
       "            \"public\": false,\n",
       "            \"authorized_ids\": [\n",
       "                \"local-backend\"\n",
       "            ]\n",
       "        }\n",
       "    },\n",
       "    \"type\": \"csv\",\n",
       "    \"train_data_sample_keys\": [\n",
       "        \"27731ab54dfc461e8df03b9aa0f09be2\",\n",
       "        \"28c80acc64174960a670b53a63fdc957\",\n",
       "        \"0719e7fca7684af1a8d8965cbab98605\",\n",
       "        \"a998af35fd5342cd8b46cb678a7841c1\",\n",
       "        \"01f5111780ba411bacc332b6f607647d\",\n",
       "        \"7bb52e15186f43e1abe6027d16595e06\",\n",
       "        \"3252dfe9df56439f8aa229c7faff63b9\",\n",
       "        \"83593787a77a43489be35ed0344d4bf1\",\n",
       "        \"fb5ff35ab77e4c36bfce964744a77993\",\n",
       "        \"090749873b08484fa83c5c77fac9d2bb\"\n",
       "    ],\n",
       "    \"test_data_sample_keys\": [\n",
       "        \"8beb9d60a2de4d95baf1e185337f2580\",\n",
       "        \"593657b3e0c6443e85e3218c42abac13\"\n",
       "    ],\n",
       "    \"opener\": {\n",
       "        \"checksum\": \"09c741742ec4ce10360e0dcd1ca0b8ecf8edf97263593d5f6b1ce6c657d54c8c\",\n",
       "        \"storage_address\": \"/Users/rgoussault/code/romaingoussault/cookbooks/local-worker/xhr7on5x/42fb299648274020aa567dbf55b7ad1c/opener.py\"\n",
       "    },\n",
       "    \"description\": {\n",
       "        \"checksum\": \"202c37d3d566bd442800873339cf307cca861c057d4417246b0261e25c81e055\",\n",
       "        \"storage_address\": \"/Users/rgoussault/code/romaingoussault/cookbooks/local-worker/xhr7on5x/42fb299648274020aa567dbf55b7ad1c/description.md\"\n",
       "    },\n",
       "    \"metadata\": {},\n",
       "    \"creation_date\": \"2021-10-27T09:02:09.019445\"\n",
       "}"
      ]
     },
     "execution_count": 45,
     "metadata": {},
     "output_type": "execute_result"
    }
   ],
   "source": [
    "client.get_dataset(dataset_key_1)"
   ]
  },
  {
   "cell_type": "code",
   "execution_count": null,
   "metadata": {},
   "outputs": [],
   "source": []
  }
 ],
 "metadata": {
  "kernelspec": {
   "display_name": "Python 3 (ipykernel)",
   "language": "python",
   "name": "python3"
  },
  "language_info": {
   "codemirror_mode": {
    "name": "ipython",
    "version": 3
   },
   "file_extension": ".py",
   "mimetype": "text/x-python",
   "name": "python",
   "nbconvert_exporter": "python",
   "pygments_lexer": "ipython3",
   "version": "3.7.3"
  }
 },
 "nbformat": 4,
 "nbformat_minor": 4
}

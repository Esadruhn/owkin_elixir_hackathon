{
 "cells": [
  {
   "cell_type": "code",
   "execution_count": 1,
   "metadata": {},
   "outputs": [],
   "source": [
    "import json\n",
    "import logging\n",
    "import os\n",
    "\n",
    "\n",
    "from tqdm import tqdm\n",
    "\n",
    "import substra"
   ]
  },
  {
   "cell_type": "code",
   "execution_count": 2,
   "metadata": {},
   "outputs": [
    {
     "ename": "NameError",
     "evalue": "name 'assets_directory' is not defined",
     "output_type": "error",
     "traceback": [
      "\u001b[0;31m---------------------------------------------------------------------------\u001b[0m",
      "\u001b[0;31mNameError\u001b[0m                                 Traceback (most recent call last)",
      "\u001b[0;32m<ipython-input-2-1b28d2e58637>\u001b[0m in \u001b[0;36m<module>\u001b[0;34m\u001b[0m\n\u001b[1;32m      1\u001b[0m TEST_DATA_SAMPLES_PATHS = [\n\u001b[1;32m      2\u001b[0m     \u001b[0mos\u001b[0m\u001b[0;34m.\u001b[0m\u001b[0mpath\u001b[0m\u001b[0;34m.\u001b[0m\u001b[0mjoin\u001b[0m\u001b[0;34m(\u001b[0m\u001b[0massets_directory\u001b[0m\u001b[0;34m,\u001b[0m \u001b[0;34m'test_data_samples'\u001b[0m\u001b[0;34m,\u001b[0m \u001b[0mpath\u001b[0m\u001b[0;34m)\u001b[0m\u001b[0;34m\u001b[0m\u001b[0;34m\u001b[0m\u001b[0m\n\u001b[0;32m----> 3\u001b[0;31m     \u001b[0;32mfor\u001b[0m \u001b[0mpath\u001b[0m \u001b[0;32min\u001b[0m \u001b[0mos\u001b[0m\u001b[0;34m.\u001b[0m\u001b[0mlistdir\u001b[0m\u001b[0;34m(\u001b[0m\u001b[0mos\u001b[0m\u001b[0;34m.\u001b[0m\u001b[0mpath\u001b[0m\u001b[0;34m.\u001b[0m\u001b[0mjoin\u001b[0m\u001b[0;34m(\u001b[0m\u001b[0massets_directory\u001b[0m\u001b[0;34m,\u001b[0m \u001b[0;34m'test_data_samples'\u001b[0m\u001b[0;34m)\u001b[0m\u001b[0;34m)\u001b[0m\u001b[0;34m\u001b[0m\u001b[0;34m\u001b[0m\u001b[0m\n\u001b[0m\u001b[1;32m      4\u001b[0m ]\n\u001b[1;32m      5\u001b[0m \u001b[0;34m\u001b[0m\u001b[0m\n",
      "\u001b[0;31mNameError\u001b[0m: name 'assets_directory' is not defined"
     ]
    }
   ],
   "source": [
    "\n",
    "TEST_DATA_SAMPLES_PATHS = [\n",
    "    os.path.join(assets_directory, 'test_data_samples', path)\n",
    "    for path in os.listdir(os.path.join(assets_directory, 'test_data_samples'))\n",
    "]\n",
    "\n",
    "TRAIN_DATA_SAMPLES_PATHS = [\n",
    "    os.path.join(assets_directory, 'train_data_samples', path)\n",
    "    for path in os.listdir(os.path.join(assets_directory, 'train_data_samples'))\n",
    "]"
   ]
  },
  {
   "cell_type": "code",
   "execution_count": null,
   "metadata": {},
   "outputs": [],
   "source": [
    "train_data_sample_keys = []\n",
    "test_data_sample_keys = []\n",
    "data_samples_configs = (\n",
    "    {\n",
    "        'message': 'Adding train data samples...',\n",
    "        'paths': TRAIN_DATA_SAMPLES_PATHS,\n",
    "        'test_only': False,\n",
    "        'data_sample_keys': train_data_sample_keys,\n",
    "        'missing_message': 'Missing train data samples keys',\n",
    "    },\n",
    "    {\n",
    "        'message': 'Adding test data samples...',\n",
    "        'paths': TEST_DATA_SAMPLES_PATHS,\n",
    "        'test_only': True,\n",
    "        'data_sample_keys': test_data_sample_keys,\n",
    "        'missing_message': 'Missing test data samples keys'\n",
    "    },\n",
    ")\n",
    "for conf in data_samples_configs:\n",
    "    print(conf['message'])\n",
    "    with progress_bar(len(conf['paths'])) as progress:\n",
    "        for path in conf['paths']:\n",
    "            data_sample_key = client.add_data_sample({\n",
    "                'data_manager_keys': [dataset_key],\n",
    "                'test_only': conf['test_only'],\n",
    "                'path': path,\n",
    "            }, local=True)\n",
    "            conf['data_sample_keys'].append(data_sample_key)\n",
    "            progress.update()\n",
    "    assert len(conf['data_sample_keys']), conf['missing_message']\n",
    "\n",
    "print('Associating data samples with dataset...')\n",
    "client.link_dataset_with_data_samples(\n",
    "    dataset_key,\n",
    "    train_data_sample_keys + test_data_sample_keys,\n",
    ")\n"
   ]
  },
  {
   "cell_type": "code",
   "execution_count": null,
   "metadata": {},
   "outputs": [],
   "source": [
    "\n",
    "current_directory = os.path.dirname(__file__)\n",
    "assets_directory = os.path.join(current_directory, '../assets')\n",
    "\n",
    "client = substra.Client.from_config_file(profile_name=\"node-1\")\n",
    "\n",
    "DATASET = {\n",
    "    'name': 'Titanic',\n",
    "    'type': 'csv',\n",
    "    'data_opener': os.path.join(assets_directory, 'dataset/opener.py'),\n",
    "    'description': os.path.join(assets_directory, 'dataset/description.md'),\n",
    "    'permissions': {\n",
    "        'public': False,\n",
    "        'authorized_ids': []\n",
    "    },\n",
    "}\n"
   ]
  }
 ],
 "metadata": {
  "kernelspec": {
   "display_name": "Python 37 env",
   "language": "python",
   "name": "python37_env"
  },
  "language_info": {
   "codemirror_mode": {
    "name": "ipython",
    "version": 3
   },
   "file_extension": ".py",
   "mimetype": "text/x-python",
   "name": "python",
   "nbconvert_exporter": "python",
   "pygments_lexer": "ipython3",
   "version": "3.7.10"
  }
 },
 "nbformat": 4,
 "nbformat_minor": 4
}

{
 "cells": [
  {
   "cell_type": "code",
   "execution_count": 1,
   "id": "113564f1",
   "metadata": {},
   "outputs": [],
   "source": [
    "import torch\n",
    "from PIL import Image\n",
    "import numpy as np\n",
    "import pandas as pd\n",
    "from pathlib import Path\n",
    "\n",
    "\n",
    "from sklearn.metrics import roc_auc_score\n",
    "from torch.nn.functional import relu\n",
    "from torchvision.io import read_image\n",
    "import matplotlib.pyplot as plt"
   ]
  },
  {
   "cell_type": "code",
   "execution_count": 2,
   "id": "33c8ff23",
   "metadata": {},
   "outputs": [],
   "source": [
    "DATA_PATH = Path('/') / 'home' / 'user' / 'data'\n",
    "TRAIN_DATA_PATH = DATA_PATH / 'ML' / 'train'\n",
    "TEST_DATA_PATH = DATA_PATH / 'test'\n",
    "TARGETS = ['target_0', 'target_1']"
   ]
  },
  {
   "cell_type": "code",
   "execution_count": 3,
   "id": "5ec8d534",
   "metadata": {},
   "outputs": [
    {
     "name": "stdout",
     "output_type": "stream",
     "text": [
      "cuda\n"
     ]
    }
   ],
   "source": [
    "torch_device = torch.device(\"cuda\")  \n",
    "if torch.cuda.is_available():\n",
    "    print(\"cuda\")\n",
    "else: \n",
    "    torch.device(\"cpu\")"
   ]
  },
  {
   "cell_type": "code",
   "execution_count": 4,
   "id": "b28a25f2",
   "metadata": {},
   "outputs": [],
   "source": [
    "class CamelyonDataset(torch.utils.data.Dataset):\n",
    "\n",
    "    def __init__(self, data_path, targets, transform=None):\n",
    "        samples = list()\n",
    "        labels = list()\n",
    "        self.transform = transform\n",
    "        for target in targets:\n",
    "            data_paths = list((data_path / target).glob('*.jpg'))\n",
    "            label = int(target.split('_')[-1])\n",
    "            assert len(data_paths) > 0, f'Wrong data path: {data_path / target}'\n",
    "            samples.extend(data_paths)\n",
    "            labels.extend([label]*len(data_paths))\n",
    "        self.samples = pd.DataFrame({'filepath': samples, 'label': labels})\n",
    "\n",
    "    def __len__(self):\n",
    "        return len(self.samples)\n",
    "    \n",
    "    def __getitem__(self, idx):\n",
    "        if torch.is_tensor(idx):\n",
    "            idx = idx.tolist()\n",
    "    \n",
    "        img_path = self.samples.iloc[idx, 0]\n",
    "        data_path = str(img_path.resolve())\n",
    "        image = read_image(data_path).to(torch_device)\n",
    "        image = (1.0 / 255.0) * image\n",
    "        \n",
    "        label = self.samples.iloc[idx, 1]\n",
    "        sample = image, label, data_path\n",
    "        \n",
    "        if self.transform:\n",
    "            sample = self.transform(sample)\n",
    "       \n",
    "        return sample"
   ]
  },
  {
   "cell_type": "code",
   "execution_count": 5,
   "id": "7ed5ab17",
   "metadata": {},
   "outputs": [],
   "source": [
    "dataset = CamelyonDataset(\n",
    "    data_path=TRAIN_DATA_PATH,\n",
    "    targets=TARGETS,\n",
    ")\n",
    "test_dataset = CamelyonDataset(\n",
    "    data_path=TEST_DATA_PATH,\n",
    "    targets=TARGETS,\n",
    ")\n",
    "dataloader = torch.utils.data.DataLoader(dataset, batch_size=32, shuffle=True, num_workers=0)\n",
    "test_dataloader = torch.utils.data.DataLoader(test_dataset, batch_size=32, shuffle=False, num_workers=0)"
   ]
  },
  {
   "cell_type": "code",
   "execution_count": 6,
   "id": "86eea1a6",
   "metadata": {},
   "outputs": [],
   "source": [
    "# Evaluation code\n",
    "def evaluate(model, loader):\n",
    "    model.eval()\n",
    "\n",
    "    all_labels = None\n",
    "    all_preds = None\n",
    "    all_data_paths = None\n",
    "    \n",
    "    with torch.no_grad():\n",
    "        for batch in loader:\n",
    "            inputs, labels, data_paths = batch\n",
    "            # data_paths is a tuple\n",
    "            data_paths = list(data_paths)\n",
    "            labels = labels.to(torch_device).float().cpu().detach().numpy().tolist()\n",
    "            \n",
    "            # Apply a sigmoid on the predictions\n",
    "            preds = torch.sigmoid(model(inputs))\n",
    "            preds = preds.cpu().detach().numpy().tolist()\n",
    "\n",
    "            if all_labels is None:\n",
    "                all_labels = labels\n",
    "                all_preds = preds\n",
    "                all_data_paths = data_paths\n",
    "            else:\n",
    "                all_labels.extend(labels)\n",
    "                all_preds.extend(preds)\n",
    "                all_data_paths.extend(data_paths)\n",
    "\n",
    "    return all_data_paths, all_preds, roc_auc_score(all_labels, all_preds)"
   ]
  },
  {
   "cell_type": "code",
   "execution_count": 7,
   "id": "8ec034c4",
   "metadata": {},
   "outputs": [],
   "source": [
    "class TorchModel(torch.nn.Module):\n",
    "    \n",
    "    def __init__(self):\n",
    "        \n",
    "        # This is a very simple model, performs badly\n",
    "        super().__init__()\n",
    "        \n",
    "       \n",
    "        self.convolutional = torch.nn.Sequential(\n",
    "        torch.nn.Conv2d(3, 6, kernel_size=3,stride=1),\n",
    "        torch.nn.BatchNorm2d(6),\n",
    "        torch.nn.ReLU(),\n",
    "        torch.nn.Dropout2d(0.2, inplace=False),\n",
    "        torch.nn.MaxPool2d(2,2),\n",
    "        \n",
    "        torch.nn.Conv2d(6,12,kernel_size=5,stride=1),\n",
    "        torch.nn.BatchNorm2d(12),\n",
    "        torch.nn.ReLU(),\n",
    "        torch.nn.Dropout2d(0.2, inplace=False),\n",
    "        torch.nn.MaxPool2d(2,2),\n",
    "\n",
    "        torch.nn.Conv2d(12,16,kernel_size=5,stride=1),\n",
    "        torch.nn.BatchNorm2d(16),\n",
    "        torch.nn.ReLU(),\n",
    "        torch.nn.Dropout2d(0.2, inplace=False),\n",
    "        torch.nn.MaxPool2d(2,2),\n",
    "        torch.nn.Flatten()\n",
    "        \n",
    "        )\n",
    "\n",
    "        self.fc1 = torch.nn.Linear(9216, 120)\n",
    "        self.fc2 = torch.nn.Linear(120, 84)\n",
    "        self.fc3 = torch.nn.Linear(84, 1)\n",
    "    \n",
    "    \n",
    "    def forward(self, x: torch.Tensor):\n",
    "        x = relu(self.convolutional(x))\n",
    "        #print(x.shape)\n",
    "        x = torch.flatten(x, 1) # flatten all dimensions except batch\n",
    "        x = relu(self.fc1(x))\n",
    "        x = relu(self.fc2(x))\n",
    "        x = self.fc3(x)\n",
    "        \n",
    "        return x.squeeze()"
   ]
  },
  {
   "cell_type": "code",
   "execution_count": 8,
   "id": "1fd87ced",
   "metadata": {},
   "outputs": [
    {
     "name": "stdout",
     "output_type": "stream",
     "text": [
      "Epoch 1/25 - Train AUC: 0.8279108157556005 - Test AUC: 0.7128280614039003\n",
      "Epoch 2/25 - Train AUC: 0.8700249756203706 - Test AUC: 0.7460723032079104\n",
      "Epoch 3/25 - Train AUC: 0.8485093026585996 - Test AUC: 0.6777232801211994\n",
      "Epoch 4/25 - Train AUC: 0.8709153620864962 - Test AUC: 0.6641230324595024\n",
      "Epoch 5/25 - Train AUC: 0.8980375498292426 - Test AUC: 0.6613240838357668\n",
      "Epoch 6/25 - Train AUC: 0.8973339605238001 - Test AUC: 0.6873003677892557\n",
      "Epoch 7/25 - Train AUC: 0.8992061320667926 - Test AUC: 0.6637930928387885\n",
      "Epoch 8/25 - Train AUC: 0.8887694907037413 - Test AUC: 0.650615590805056\n",
      "Epoch 9/25 - Train AUC: 0.898164947892792 - Test AUC: 0.6529347899904666\n",
      "Epoch 10/25 - Train AUC: 0.9165654682048834 - Test AUC: 0.633926732370411\n",
      "Epoch 11/25 - Train AUC: 0.895095594546963 - Test AUC: 0.6609815015642764\n",
      "Epoch 12/25 - Train AUC: 0.920486208609629 - Test AUC: 0.6251918913841901\n",
      "Epoch 13/25 - Train AUC: 0.9219989856154186 - Test AUC: 0.6340179720315475\n",
      "Epoch 14/25 - Train AUC: 0.932613024282031 - Test AUC: 0.6494470966040609\n",
      "Epoch 15/25 - Train AUC: 0.9494885677737698 - Test AUC: 0.6625188702751028\n",
      "Epoch 16/25 - Train AUC: 0.9544548922856373 - Test AUC: 0.6312182402347551\n",
      "Epoch 17/25 - Train AUC: 0.8568366760825235 - Test AUC: 0.591818649789511\n",
      "Epoch 18/25 - Train AUC: 0.9599244091489809 - Test AUC: 0.6338418140346626\n",
      "Epoch 19/25 - Train AUC: 0.9459908209395217 - Test AUC: 0.6336414336139442\n",
      "Epoch 20/25 - Train AUC: 0.9699374569506544 - Test AUC: 0.6396782993598455\n",
      "Epoch 21/25 - Train AUC: 0.9831930554655569 - Test AUC: 0.6324651076823795\n",
      "Epoch 22/25 - Train AUC: 0.9846497333240535 - Test AUC: 0.6339665063735183\n",
      "Epoch 23/25 - Train AUC: 0.9901652494882078 - Test AUC: 0.6255456059012762\n",
      "Epoch 24/25 - Train AUC: 0.987422091184214 - Test AUC: 0.6315531026575412\n",
      "Epoch 25/25 - Train AUC: 0.9890075670849803 - Test AUC: 0.6396963682810884\n"
     ]
    }
   ],
   "source": [
    "n_epochs = 25\n",
    "\n",
    "model = TorchModel().to(torch_device)\n",
    "\n",
    "criterion = torch.nn.BCEWithLogitsLoss()\n",
    "optimizer = torch.optim.Adam(model.parameters(), lr=0.001)\n",
    "\n",
    "test_perfs = list()\n",
    "train_perfs = list()\n",
    "\n",
    "all_labels = None\n",
    "all_preds = None\n",
    "all_data_paths = None\n",
    "    \n",
    "for epoch in range(n_epochs):\n",
    "    model.train()\n",
    "    for batch in dataloader:\n",
    "        # get the inputs; data is a list of [inputs, labels]\n",
    "        inputs, labels, data_paths = batch\n",
    "        labels = labels.to(torch_device).float()\n",
    "\n",
    "        # zero the parameter gradients\n",
    "        optimizer.zero_grad()\n",
    "\n",
    "        # forward + backward + optimize\n",
    "        outputs = model(inputs)\n",
    "        loss = criterion(outputs, labels)\n",
    "        loss.backward()\n",
    "        optimizer.step()\n",
    "\n",
    "    _, _, train_score = evaluate(model, loader=dataloader)\n",
    "    train_perfs.append(train_score)\n",
    "\n",
    "    data_paths, predictions, test_score = evaluate(model, loader=test_dataloader)\n",
    "    test_perfs.append(test_score)\n",
    "    print(f'Epoch {epoch+1}/{n_epochs} - Train AUC: {train_score} - Test AUC: {test_score}')"
   ]
  },
  {
   "cell_type": "code",
   "execution_count": 9,
   "id": "2b8f07bf",
   "metadata": {},
   "outputs": [
    {
     "data": {
      "image/png": "[encoded data removed]",
      "text/plain": [
       "<Figure size 432x288 with 1 Axes>"
      ]
     },
     "metadata": {
      "needs_background": "light"
     },
     "output_type": "display_data"
    }
   ],
   "source": [
    "%matplotlib inline\n",
    "# Plot the results\n",
    "plt.title('ROC-AUC')\n",
    "plt.plot(list(range(n_epochs)), train_perfs,label = 'Train AUC')\n",
    "plt.plot(list(range(n_epochs)), test_perfs, label = 'Test AUC')\n",
    "plt.legend(loc = 'lower right')\n",
    "plt.ylabel('AUC')\n",
    "plt.xlabel('epochs')\n",
    "plt.show()"
   ]
  },
  {
   "cell_type": "code",
   "execution_count": 10,
   "id": "c7c18a92",
   "metadata": {},
   "outputs": [],
   "source": [
    "df_submission = pd.DataFrame(data={'file_paths': data_paths, 'predictions': predictions})\n",
    "df_submission[\"file_paths\"] = df_submission[\"file_paths\"].apply(lambda x: x.replace(\"/home/user/data/test\",\"/data/challenges_data/test\"))\n",
    "df_submission.to_csv('df_submission.csv', index=False)"
   ]
  },
  {
   "cell_type": "code",
   "execution_count": null,
   "id": "811976aa",
   "metadata": {},
   "outputs": [],
   "source": []
  }
 ],
 "metadata": {
  "kernelspec": {
   "display_name": "Python 3 (ipykernel)",
   "language": "python",
   "name": "python3"
  },
  "language_info": {
   "codemirror_mode": {
    "name": "ipython",
    "version": 3
   },
   "file_extension": ".py",
   "mimetype": "text/x-python",
   "name": "python",
   "nbconvert_exporter": "python",
   "pygments_lexer": "ipython3",
   "version": "3.7.3"
  }
 },
 "nbformat": 4,
 "nbformat_minor": 5
}

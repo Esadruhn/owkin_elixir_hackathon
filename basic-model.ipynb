{
 "cells": [
  {
   "cell_type": "code",
   "execution_count": 2,
   "id": "113564f1",
   "metadata": {},
   "outputs": [],
   "source": [
    "import torch\n",
    "from PIL import Image\n",
    "import numpy as np\n",
    "import pandas as pd\n",
    "from pathlib import Path\n",
    "\n",
    "from sklearn.metrics import roc_auc_score\n",
    "from torch.nn.functional import relu\n",
    "from torchvision.io import read_image\n",
    "import matplotlib.pyplot as plt"
   ]
  },
  {
   "cell_type": "code",
   "execution_count": 3,
   "id": "33c8ff23",
   "metadata": {},
   "outputs": [],
   "source": [
    "DATA_PATH = Path('/') / 'home' / 'user' / 'data'\n",
    "TRAIN_DATA_PATH = DATA_PATH / 'ML' / 'train'\n",
    "TEST_DATA_PATH = DATA_PATH / 'test'\n",
    "TARGETS = ['target_0', 'target_1']"
   ]
  },
  {
   "cell_type": "code",
   "execution_count": 4,
   "id": "5ec8d534",
   "metadata": {},
   "outputs": [
    {
     "name": "stdout",
     "output_type": "stream",
     "text": [
      "cuda\n"
     ]
    }
   ],
   "source": [
    "torch_device = torch.device(\"cuda\")  \n",
    "if torch.cuda.is_available():\n",
    "    print(\"cuda\")\n",
    "else: \n",
    "    torch.device(\"cpu\")"
   ]
  },
  {
   "cell_type": "code",
   "execution_count": 5,
   "id": "b28a25f2",
   "metadata": {},
   "outputs": [],
   "source": [
    "class CamelyonDataset(torch.utils.data.Dataset):\n",
    "\n",
    "    def __init__(self, data_path, targets, transform=None):\n",
    "        samples = list()\n",
    "        labels = list()\n",
    "        self.transform = transform\n",
    "        for target in targets:\n",
    "            data_paths = list((data_path / target).glob('*.jpg'))\n",
    "            label = int(target.split('_')[-1])\n",
    "            assert len(data_paths) > 0, f'Wrong data path: {data_path / target}'\n",
    "            samples.extend(data_paths)\n",
    "            labels.extend([label]*len(data_paths))\n",
    "        self.samples = pd.DataFrame({'filepath': samples, 'label': labels})\n",
    "\n",
    "    def __len__(self):\n",
    "        return len(self.samples)\n",
    "    \n",
    "    def __getitem__(self, idx):\n",
    "        if torch.is_tensor(idx):\n",
    "            idx = idx.tolist()\n",
    "    \n",
    "        img_path = self.samples.iloc[idx, 0]\n",
    "        data_path = str(img_path.resolve())\n",
    "        image = read_image(data_path).to(torch_device)\n",
    "        image = (1.0 / 255.0) * image\n",
    "        \n",
    "        label = self.samples.iloc[idx, 1]\n",
    "        sample = image, label, data_path\n",
    "        \n",
    "        if self.transform:\n",
    "            sample = self.transform(sample)\n",
    "       \n",
    "        return sample"
   ]
  },
  {
   "cell_type": "code",
   "execution_count": 6,
   "id": "7ed5ab17",
   "metadata": {},
   "outputs": [],
   "source": [
    "dataset = CamelyonDataset(\n",
    "    data_path=TRAIN_DATA_PATH,\n",
    "    targets=TARGETS,\n",
    ")\n",
    "test_dataset = CamelyonDataset(\n",
    "    data_path=TEST_DATA_PATH,\n",
    "    targets=TARGETS,\n",
    ")\n",
    "dataloader = torch.utils.data.DataLoader(dataset, batch_size=32, shuffle=True, num_workers=0)\n",
    "test_dataloader = torch.utils.data.DataLoader(test_dataset, batch_size=32, shuffle=False, num_workers=0)"
   ]
  },
  {
   "cell_type": "code",
   "execution_count": 7,
   "id": "86eea1a6",
   "metadata": {},
   "outputs": [],
   "source": [
    "# Evaluation code\n",
    "def evaluate(model, loader):\n",
    "    model.eval()\n",
    "\n",
    "    all_labels = None\n",
    "    all_preds = None\n",
    "    all_data_paths = None\n",
    "    \n",
    "    with torch.no_grad():\n",
    "        for batch in loader:\n",
    "            inputs, labels, data_paths = batch\n",
    "            # data_paths is a tuple\n",
    "            data_paths = list(data_paths)\n",
    "            labels = labels.to(torch_device).float().cpu().detach().numpy().tolist()\n",
    "            \n",
    "            # Apply a sigmoid on the predictions\n",
    "            preds = torch.sigmoid(model(inputs))\n",
    "            preds = preds.cpu().detach().numpy().tolist()\n",
    "\n",
    "            if all_labels is None:\n",
    "                all_labels = labels\n",
    "                all_preds = preds\n",
    "                all_data_paths = data_paths\n",
    "            else:\n",
    "                all_labels.extend(labels)\n",
    "                all_preds.extend(preds)\n",
    "                all_data_paths.extend(data_paths)\n",
    "\n",
    "    return all_data_paths, all_preds, roc_auc_score(all_labels, all_preds)"
   ]
  },
  {
   "cell_type": "code",
   "execution_count": 15,
   "id": "8ec034c4",
   "metadata": {},
   "outputs": [],
   "source": [
    "class TorchModel(torch.nn.Module):\n",
    "    \n",
    "    def __init__(self):\n",
    "        \n",
    "        # This is a very simple model, performs badly\n",
    "        super().__init__()\n",
    "        \n",
    "       \n",
    "        self.convolutional = torch.nn.Sequential(\n",
    "        torch.nn.Conv2d(3, 6, kernel_size=3,stride=1),\n",
    "        torch.nn.BatchNorm2d(6),\n",
    "        torch.nn.ReLU(),\n",
    "        torch.nn.Dropout2d(0.2, inplace=False),\n",
    "        torch.nn.MaxPool2d(2,2),\n",
    "        \n",
    "        torch.nn.Conv2d(6,12,kernel_size=5,stride=1),\n",
    "        torch.nn.BatchNorm2d(12),\n",
    "        torch.nn.ReLU(),\n",
    "        torch.nn.Dropout2d(0.2, inplace=False),\n",
    "        torch.nn.MaxPool2d(2,2),\n",
    "\n",
    "        torch.nn.Conv2d(12,16,kernel_size=5,stride=1),\n",
    "        torch.nn.BatchNorm2d(16),\n",
    "        torch.nn.ReLU(),\n",
    "        torch.nn.Dropout2d(0.2, inplace=False),\n",
    "        torch.nn.MaxPool2d(2,2),\n",
    "        torch.nn.Flatten()\n",
    "        \n",
    "        )\n",
    "\n",
    "        self.fc1 = torch.nn.Linear(9216, 120)\n",
    "        self.fc2 = torch.nn.Linear(120, 84)\n",
    "        self.fc3 = torch.nn.Linear(84, 1)\n",
    "    \n",
    "    \n",
    "    def forward(self, x: torch.Tensor):\n",
    "        x = relu(self.convolutional(x))\n",
    "        #print(x.shape)\n",
    "        x = torch.flatten(x, 1) # flatten all dimensions except batch\n",
    "        x = relu(self.fc1(x))\n",
    "        x = relu(self.fc2(x))\n",
    "        x = self.fc3(x)\n",
    "        \n",
    "        return x.squeeze()"
   ]
  },
  {
   "cell_type": "code",
   "execution_count": 18,
   "id": "1fd87ced",
   "metadata": {},
   "outputs": [
    {
     "name": "stdout",
     "output_type": "stream",
     "text": [
      "Epoch 1/25 - Train AUC: 0.8634144760999632 - Test AUC: 0.6940100351320245\n",
      "Epoch 2/25 - Train AUC: 0.8724915381286205 - Test AUC: 0.7843379150075984\n",
      "Epoch 3/25 - Train AUC: 0.8914472500018001 - Test AUC: 0.6708550202343947\n",
      "Epoch 4/25 - Train AUC: 0.8924916341271611 - Test AUC: 0.6676427240593783\n",
      "Epoch 5/25 - Train AUC: 0.9024574826462638 - Test AUC: 0.6813646991905011\n",
      "Epoch 6/25 - Train AUC: 0.9157326808632509 - Test AUC: 0.6825580311655886\n",
      "Epoch 7/25 - Train AUC: 0.873805718153084 - Test AUC: 0.6421924526955082\n",
      "Epoch 8/25 - Train AUC: 0.9038248618620999 - Test AUC: 0.6538944007489821\n",
      "Epoch 9/25 - Train AUC: 0.8731934274599026 - Test AUC: 0.6968721410687111\n",
      "Epoch 10/25 - Train AUC: 0.8779682548825258 - Test AUC: 0.6445184207337682\n",
      "Epoch 11/25 - Train AUC: 0.9258555269959896 - Test AUC: 0.6762873882621825\n",
      "Epoch 12/25 - Train AUC: 0.9226736753601344 - Test AUC: 0.6620488545590575\n",
      "Epoch 13/25 - Train AUC: 0.9360117726210562 - Test AUC: 0.7471202446990651\n",
      "Epoch 14/25 - Train AUC: 0.9334408116996623 - Test AUC: 0.6735620019648693\n",
      "Epoch 15/25 - Train AUC: 0.9437096556132347 - Test AUC: 0.7236691903859017\n",
      "Epoch 16/25 - Train AUC: 0.943996051260021 - Test AUC: 0.6428425982146563\n",
      "Epoch 17/25 - Train AUC: 0.966135514740176 - Test AUC: 0.669363411206468\n",
      "Epoch 18/25 - Train AUC: 0.9603563025842007 - Test AUC: 0.6477694839751046\n",
      "Epoch 19/25 - Train AUC: 0.9629535631058408 - Test AUC: 0.6553643046950441\n",
      "Epoch 20/25 - Train AUC: 0.9781839316042396 - Test AUC: 0.765531356626914\n",
      "Epoch 21/25 - Train AUC: 0.9767365536043852 - Test AUC: 0.6640443235672773\n",
      "Epoch 22/25 - Train AUC: 0.9833990523344046 - Test AUC: 0.6722113640871966\n",
      "Epoch 23/25 - Train AUC: 0.9864213063961428 - Test AUC: 0.6530019750505677\n",
      "Epoch 24/25 - Train AUC: 0.9866106035188266 - Test AUC: 0.6639312669424107\n",
      "Epoch 25/25 - Train AUC: 0.9811889859274139 - Test AUC: 0.6479874298486719\n"
     ]
    }
   ],
   "source": [
    "n_epochs = 25\n",
    "\n",
    "model = TorchModel().to(torch_device)\n",
    "\n",
    "criterion = torch.nn.BCEWithLogitsLoss()\n",
    "optimizer = torch.optim.Adam(model.parameters(), lr=0.001)\n",
    "\n",
    "test_perfs = list()\n",
    "train_perfs = list()\n",
    "\n",
    "all_labels = None\n",
    "all_preds = None\n",
    "all_data_paths = None\n",
    "    \n",
    "for epoch in range(n_epochs):\n",
    "    model.train()\n",
    "    for batch in dataloader:\n",
    "        # get the inputs; data is a list of [inputs, labels]\n",
    "        inputs, labels, data_paths = batch\n",
    "        labels = labels.to(torch_device).float()\n",
    "\n",
    "        # zero the parameter gradients\n",
    "        optimizer.zero_grad()\n",
    "\n",
    "        # forward + backward + optimize\n",
    "        outputs = model(inputs)\n",
    "        loss = criterion(outputs, labels)\n",
    "        loss.backward()\n",
    "        optimizer.step()\n",
    "\n",
    "    _, _, train_score = evaluate(model, loader=dataloader)\n",
    "    train_perfs.append(train_score)\n",
    "\n",
    "    data_paths, predictions, test_score = evaluate(model, loader=test_dataloader)\n",
    "    test_perfs.append(test_score)\n",
    "    print(f'Epoch {epoch+1}/{n_epochs} - Train AUC: {train_score} - Test AUC: {test_score}')"
   ]
  },
  {
   "cell_type": "code",
   "execution_count": 19,
   "id": "2b8f07bf",
   "metadata": {},
   "outputs": [
    {
     "data": {
      "image/png": "[encoded data removed]",
      "text/plain": [
       "<Figure size 432x288 with 1 Axes>"
      ]
     },
     "metadata": {
      "needs_background": "light"
     },
     "output_type": "display_data"
    }
   ],
   "source": [
    "%matplotlib inline\n",
    "# Plot the results\n",
    "plt.title('ROC-AUC')\n",
    "plt.plot(list(range(n_epochs)), train_perfs,label = 'Train AUC')\n",
    "plt.plot(list(range(n_epochs)), test_perfs, label = 'Test AUC')\n",
    "plt.legend(loc = 'lower right')\n",
    "plt.ylabel('AUC')\n",
    "plt.xlabel('epochs')\n",
    "plt.show()"
   ]
  },
  {
   "cell_type": "code",
   "execution_count": 20,
   "id": "c7c18a92",
   "metadata": {},
   "outputs": [],
   "source": [
    "df_submission = pd.DataFrame(data={'file_paths': data_paths, 'predictions': predictions})\n",
    "df_submission[\"file_paths\"] = df_submission[\"file_paths\"].apply(lambda x: x.replace(\"/home/user/data/test\",\"/data/challenges_data/test\"))\n",
    "df_submission.to_csv('df_submission.csv', index=False)"
   ]
  },
  {
   "cell_type": "code",
   "execution_count": null,
   "id": "811976aa",
   "metadata": {},
   "outputs": [],
   "source": []
  }
 ],
 "metadata": {
  "kernelspec": {
   "display_name": "Python 3 (ipykernel)",
   "language": "python",
   "name": "python3"
  },
  "language_info": {
   "codemirror_mode": {
    "name": "ipython",
    "version": 3
   },
   "file_extension": ".py",
   "mimetype": "text/x-python",
   "name": "python",
   "nbconvert_exporter": "python",
   "pygments_lexer": "ipython3",
   "version": "3.7.3"
  }
 },
 "nbformat": 4,
 "nbformat_minor": 5
}

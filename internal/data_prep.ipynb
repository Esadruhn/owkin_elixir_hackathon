{
 "cells": [
  {
   "cell_type": "markdown",
   "id": "ec0e204b-06b2-45cd-b18e-3d14e0d6e7ee",
   "metadata": {},
   "source": [
    "# Data prep"
   ]
  },
  {
   "cell_type": "code",
   "execution_count": 1,
   "id": "57fa78ad-531d-4016-9557-01517103075d",
   "metadata": {},
   "outputs": [],
   "source": [
    "import pandas as pd\n",
    "import numpy as np\n",
    "from pathlib import Path\n",
    "from PIL import ImageFile\n",
    "from tqdm import tqdm\n",
    "from PIL import Image\n",
    "import shutil\n"
   ]
  },
  {
   "cell_type": "code",
   "execution_count": 2,
   "id": "ff589370-4484-4e2b-ba47-ba576f718c12",
   "metadata": {},
   "outputs": [],
   "source": [
    "data_folder = Path(\"/data\")"
   ]
  },
  {
   "cell_type": "code",
   "execution_count": 3,
   "id": "b2b1ad6c-6e51-4ddf-af9f-d3c58f6ab8ea",
   "metadata": {},
   "outputs": [],
   "source": [
    "CAMELYON_16_FOLDER = data_folder / \"tiles_Camelyon16_with_metadata_all\"\n",
    "CAMELYON_17_FOLDER = data_folder / \"tiles_with_metadata_all\""
   ]
  },
  {
   "cell_type": "code",
   "execution_count": 4,
   "id": "e1e3b667-7337-4674-b3ca-542070b1fe98",
   "metadata": {},
   "outputs": [],
   "source": [
    "CAMELYON_16_CSV = data_folder / \"index_camelyon16_with_metadata_all.csv\"\n",
    "CAMELYON_17_CSV = data_folder / \"index_with_metadata_all.csv\""
   ]
  },
  {
   "cell_type": "markdown",
   "id": "2359b25d-0d08-4d45-9383-6d682eb3cdfe",
   "metadata": {},
   "source": [
    "## Data check"
   ]
  },
  {
   "cell_type": "markdown",
   "id": "9c3543ff-6f23-477e-b450-57aaba25fc49",
   "metadata": {},
   "source": [
    "### Camelyon 17"
   ]
  },
  {
   "cell_type": "code",
   "execution_count": 5,
   "id": "9968cf48-3bbb-4bee-aca5-876696344d85",
   "metadata": {},
   "outputs": [],
   "source": [
    "df_17 = pd.read_csv(CAMELYON_17_CSV) \n",
    "df_17[\"camelyon_version\"] = 17\n",
    "df_17['absolute_path'] = df_17.apply(lambda x: CAMELYON_17_FOLDER / x.path, axis=1)\n",
    "df_17['absolute_path'] = df_17.apply(lambda x: CAMELYON_17_FOLDER / x.path, axis=1)"
   ]
  },
  {
   "cell_type": "code",
   "execution_count": 6,
   "id": "8430e8fb-3ef0-4eee-b7a9-00e35f8f10ed",
   "metadata": {},
   "outputs": [
    {
     "data": {
      "text/html": [
       "<div>\n",
       "<style scoped>\n",
       "    .dataframe tbody tr th:only-of-type {\n",
       "        vertical-align: middle;\n",
       "    }\n",
       "\n",
       "    .dataframe tbody tr th {\n",
       "        vertical-align: top;\n",
       "    }\n",
       "\n",
       "    .dataframe thead th {\n",
       "        text-align: right;\n",
       "    }\n",
       "</style>\n",
       "<table border=\"1\" class=\"dataframe\">\n",
       "  <thead>\n",
       "    <tr style=\"text-align: right;\">\n",
       "      <th></th>\n",
       "      <th>path</th>\n",
       "      <th>patient</th>\n",
       "      <th>hospital</th>\n",
       "      <th>target</th>\n",
       "      <th>node</th>\n",
       "      <th>camelyon_version</th>\n",
       "      <th>absolute_path</th>\n",
       "    </tr>\n",
       "  </thead>\n",
       "  <tbody>\n",
       "    <tr>\n",
       "      <th>0</th>\n",
       "      <td>normal_center_0_patient_2_node_2_2608.tif</td>\n",
       "      <td>2</td>\n",
       "      <td>0</td>\n",
       "      <td>0</td>\n",
       "      <td>2</td>\n",
       "      <td>17</td>\n",
       "      <td>/data/tiles_with_metadata_all/normal_center_0_...</td>\n",
       "    </tr>\n",
       "    <tr>\n",
       "      <th>1</th>\n",
       "      <td>normal_center_0_patient_2_node_2_2268.tif</td>\n",
       "      <td>2</td>\n",
       "      <td>0</td>\n",
       "      <td>0</td>\n",
       "      <td>2</td>\n",
       "      <td>17</td>\n",
       "      <td>/data/tiles_with_metadata_all/normal_center_0_...</td>\n",
       "    </tr>\n",
       "    <tr>\n",
       "      <th>2</th>\n",
       "      <td>normal_center_0_patient_2_node_2_3120.tif</td>\n",
       "      <td>2</td>\n",
       "      <td>0</td>\n",
       "      <td>0</td>\n",
       "      <td>2</td>\n",
       "      <td>17</td>\n",
       "      <td>/data/tiles_with_metadata_all/normal_center_0_...</td>\n",
       "    </tr>\n",
       "    <tr>\n",
       "      <th>3</th>\n",
       "      <td>normal_center_0_patient_2_node_2_0236.tif</td>\n",
       "      <td>2</td>\n",
       "      <td>0</td>\n",
       "      <td>0</td>\n",
       "      <td>2</td>\n",
       "      <td>17</td>\n",
       "      <td>/data/tiles_with_metadata_all/normal_center_0_...</td>\n",
       "    </tr>\n",
       "    <tr>\n",
       "      <th>4</th>\n",
       "      <td>normal_center_0_patient_2_node_2_2458.tif</td>\n",
       "      <td>2</td>\n",
       "      <td>0</td>\n",
       "      <td>0</td>\n",
       "      <td>2</td>\n",
       "      <td>17</td>\n",
       "      <td>/data/tiles_with_metadata_all/normal_center_0_...</td>\n",
       "    </tr>\n",
       "    <tr>\n",
       "      <th>...</th>\n",
       "      <td>...</td>\n",
       "      <td>...</td>\n",
       "      <td>...</td>\n",
       "      <td>...</td>\n",
       "      <td>...</td>\n",
       "      <td>...</td>\n",
       "      <td>...</td>\n",
       "    </tr>\n",
       "    <tr>\n",
       "      <th>53633</th>\n",
       "      <td>normal_center_4_patient_88_node_0_6714.tif</td>\n",
       "      <td>88</td>\n",
       "      <td>4</td>\n",
       "      <td>0</td>\n",
       "      <td>0</td>\n",
       "      <td>17</td>\n",
       "      <td>/data/tiles_with_metadata_all/normal_center_4_...</td>\n",
       "    </tr>\n",
       "    <tr>\n",
       "      <th>53634</th>\n",
       "      <td>normal_center_4_patient_88_node_0_1412.tif</td>\n",
       "      <td>88</td>\n",
       "      <td>4</td>\n",
       "      <td>0</td>\n",
       "      <td>0</td>\n",
       "      <td>17</td>\n",
       "      <td>/data/tiles_with_metadata_all/normal_center_4_...</td>\n",
       "    </tr>\n",
       "    <tr>\n",
       "      <th>53635</th>\n",
       "      <td>normal_center_4_patient_88_node_0_1469.tif</td>\n",
       "      <td>88</td>\n",
       "      <td>4</td>\n",
       "      <td>0</td>\n",
       "      <td>0</td>\n",
       "      <td>17</td>\n",
       "      <td>/data/tiles_with_metadata_all/normal_center_4_...</td>\n",
       "    </tr>\n",
       "    <tr>\n",
       "      <th>53636</th>\n",
       "      <td>normal_center_4_patient_88_node_0_6548.tif</td>\n",
       "      <td>88</td>\n",
       "      <td>4</td>\n",
       "      <td>0</td>\n",
       "      <td>0</td>\n",
       "      <td>17</td>\n",
       "      <td>/data/tiles_with_metadata_all/normal_center_4_...</td>\n",
       "    </tr>\n",
       "    <tr>\n",
       "      <th>53637</th>\n",
       "      <td>normal_center_4_patient_88_node_0_1911.tif</td>\n",
       "      <td>88</td>\n",
       "      <td>4</td>\n",
       "      <td>0</td>\n",
       "      <td>0</td>\n",
       "      <td>17</td>\n",
       "      <td>/data/tiles_with_metadata_all/normal_center_4_...</td>\n",
       "    </tr>\n",
       "  </tbody>\n",
       "</table>\n",
       "<p>53638 rows × 7 columns</p>\n",
       "</div>"
      ],
      "text/plain": [
       "                                             path  patient  hospital  target  \\\n",
       "0       normal_center_0_patient_2_node_2_2608.tif        2         0       0   \n",
       "1       normal_center_0_patient_2_node_2_2268.tif        2         0       0   \n",
       "2       normal_center_0_patient_2_node_2_3120.tif        2         0       0   \n",
       "3       normal_center_0_patient_2_node_2_0236.tif        2         0       0   \n",
       "4       normal_center_0_patient_2_node_2_2458.tif        2         0       0   \n",
       "...                                           ...      ...       ...     ...   \n",
       "53633  normal_center_4_patient_88_node_0_6714.tif       88         4       0   \n",
       "53634  normal_center_4_patient_88_node_0_1412.tif       88         4       0   \n",
       "53635  normal_center_4_patient_88_node_0_1469.tif       88         4       0   \n",
       "53636  normal_center_4_patient_88_node_0_6548.tif       88         4       0   \n",
       "53637  normal_center_4_patient_88_node_0_1911.tif       88         4       0   \n",
       "\n",
       "       node  camelyon_version  \\\n",
       "0         2                17   \n",
       "1         2                17   \n",
       "2         2                17   \n",
       "3         2                17   \n",
       "4         2                17   \n",
       "...     ...               ...   \n",
       "53633     0                17   \n",
       "53634     0                17   \n",
       "53635     0                17   \n",
       "53636     0                17   \n",
       "53637     0                17   \n",
       "\n",
       "                                           absolute_path  \n",
       "0      /data/tiles_with_metadata_all/normal_center_0_...  \n",
       "1      /data/tiles_with_metadata_all/normal_center_0_...  \n",
       "2      /data/tiles_with_metadata_all/normal_center_0_...  \n",
       "3      /data/tiles_with_metadata_all/normal_center_0_...  \n",
       "4      /data/tiles_with_metadata_all/normal_center_0_...  \n",
       "...                                                  ...  \n",
       "53633  /data/tiles_with_metadata_all/normal_center_4_...  \n",
       "53634  /data/tiles_with_metadata_all/normal_center_4_...  \n",
       "53635  /data/tiles_with_metadata_all/normal_center_4_...  \n",
       "53636  /data/tiles_with_metadata_all/normal_center_4_...  \n",
       "53637  /data/tiles_with_metadata_all/normal_center_4_...  \n",
       "\n",
       "[53638 rows x 7 columns]"
      ]
     },
     "execution_count": 6,
     "metadata": {},
     "output_type": "execute_result"
    }
   ],
   "source": [
    "df_17"
   ]
  },
  {
   "cell_type": "code",
   "execution_count": 7,
   "id": "c9bfecff-0a56-432c-a260-5204e1500360",
   "metadata": {},
   "outputs": [
    {
     "data": {
      "text/plain": [
       "53638"
      ]
     },
     "execution_count": 7,
     "metadata": {},
     "output_type": "execute_result"
    }
   ],
   "source": [
    "camelyon_17_images_count = len(list(CAMELYON_17_FOLDER.glob('*')))\n",
    "camelyon_17_images_count"
   ]
  },
  {
   "cell_type": "code",
   "execution_count": 8,
   "id": "7fede9f9-2364-4f6a-b5cb-6e34c6b47882",
   "metadata": {},
   "outputs": [],
   "source": [
    "assert(len(df_17) == camelyon_17_images_count)"
   ]
  },
  {
   "cell_type": "markdown",
   "id": "f7eb485f-8ad5-4c89-9ecc-2adbde888d5c",
   "metadata": {},
   "source": [
    "### Camelyon 16"
   ]
  },
  {
   "cell_type": "code",
   "execution_count": 9,
   "id": "b10f88f0-2282-4649-8495-25b2b5ad6b5e",
   "metadata": {},
   "outputs": [],
   "source": [
    "df_16 = pd.read_csv(CAMELYON_16_CSV) \n",
    "df_16[\"camelyon_version\"] = 16\n",
    "df_16['absolute_path'] = df_16.apply(lambda x: CAMELYON_16_FOLDER / x.path, axis=1)\n",
    "df_16['patient'] = df_16.apply(lambda x: int(x.slide.split('_')[1]), axis=1)"
   ]
  },
  {
   "cell_type": "code",
   "execution_count": 10,
   "id": "5c701c0b-cf14-459c-8014-2883d4558157",
   "metadata": {},
   "outputs": [
    {
     "data": {
      "text/html": [
       "<div>\n",
       "<style scoped>\n",
       "    .dataframe tbody tr th:only-of-type {\n",
       "        vertical-align: middle;\n",
       "    }\n",
       "\n",
       "    .dataframe tbody tr th {\n",
       "        vertical-align: top;\n",
       "    }\n",
       "\n",
       "    .dataframe thead th {\n",
       "        text-align: right;\n",
       "    }\n",
       "</style>\n",
       "<table border=\"1\" class=\"dataframe\">\n",
       "  <thead>\n",
       "    <tr style=\"text-align: right;\">\n",
       "      <th></th>\n",
       "      <th>path</th>\n",
       "      <th>slide</th>\n",
       "      <th>hospital</th>\n",
       "      <th>target</th>\n",
       "      <th>camelyon_version</th>\n",
       "      <th>absolute_path</th>\n",
       "      <th>patient</th>\n",
       "    </tr>\n",
       "  </thead>\n",
       "  <tbody>\n",
       "    <tr>\n",
       "      <th>0</th>\n",
       "      <td>normal_0_6_0579.tif</td>\n",
       "      <td>Normal_006</td>\n",
       "      <td>0</td>\n",
       "      <td>0</td>\n",
       "      <td>16</td>\n",
       "      <td>/data/tiles_Camelyon16_with_metadata_all/norma...</td>\n",
       "      <td>6</td>\n",
       "    </tr>\n",
       "    <tr>\n",
       "      <th>1</th>\n",
       "      <td>normal_0_6_0193.tif</td>\n",
       "      <td>Normal_006</td>\n",
       "      <td>0</td>\n",
       "      <td>0</td>\n",
       "      <td>16</td>\n",
       "      <td>/data/tiles_Camelyon16_with_metadata_all/norma...</td>\n",
       "      <td>6</td>\n",
       "    </tr>\n",
       "    <tr>\n",
       "      <th>2</th>\n",
       "      <td>normal_0_6_0012.tif</td>\n",
       "      <td>Normal_006</td>\n",
       "      <td>0</td>\n",
       "      <td>0</td>\n",
       "      <td>16</td>\n",
       "      <td>/data/tiles_Camelyon16_with_metadata_all/norma...</td>\n",
       "      <td>6</td>\n",
       "    </tr>\n",
       "    <tr>\n",
       "      <th>3</th>\n",
       "      <td>normal_0_6_0037.tif</td>\n",
       "      <td>Normal_006</td>\n",
       "      <td>0</td>\n",
       "      <td>0</td>\n",
       "      <td>16</td>\n",
       "      <td>/data/tiles_Camelyon16_with_metadata_all/norma...</td>\n",
       "      <td>6</td>\n",
       "    </tr>\n",
       "    <tr>\n",
       "      <th>4</th>\n",
       "      <td>normal_0_6_0363.tif</td>\n",
       "      <td>Normal_006</td>\n",
       "      <td>0</td>\n",
       "      <td>0</td>\n",
       "      <td>16</td>\n",
       "      <td>/data/tiles_Camelyon16_with_metadata_all/norma...</td>\n",
       "      <td>6</td>\n",
       "    </tr>\n",
       "    <tr>\n",
       "      <th>5</th>\n",
       "      <td>normal_0_6_0949.tif</td>\n",
       "      <td>Normal_006</td>\n",
       "      <td>0</td>\n",
       "      <td>0</td>\n",
       "      <td>16</td>\n",
       "      <td>/data/tiles_Camelyon16_with_metadata_all/norma...</td>\n",
       "      <td>6</td>\n",
       "    </tr>\n",
       "    <tr>\n",
       "      <th>6</th>\n",
       "      <td>normal_0_6_0786.tif</td>\n",
       "      <td>Normal_006</td>\n",
       "      <td>0</td>\n",
       "      <td>0</td>\n",
       "      <td>16</td>\n",
       "      <td>/data/tiles_Camelyon16_with_metadata_all/norma...</td>\n",
       "      <td>6</td>\n",
       "    </tr>\n",
       "    <tr>\n",
       "      <th>7</th>\n",
       "      <td>normal_0_6_0932.tif</td>\n",
       "      <td>Normal_006</td>\n",
       "      <td>0</td>\n",
       "      <td>0</td>\n",
       "      <td>16</td>\n",
       "      <td>/data/tiles_Camelyon16_with_metadata_all/norma...</td>\n",
       "      <td>6</td>\n",
       "    </tr>\n",
       "    <tr>\n",
       "      <th>8</th>\n",
       "      <td>normal_0_6_0898.tif</td>\n",
       "      <td>Normal_006</td>\n",
       "      <td>0</td>\n",
       "      <td>0</td>\n",
       "      <td>16</td>\n",
       "      <td>/data/tiles_Camelyon16_with_metadata_all/norma...</td>\n",
       "      <td>6</td>\n",
       "    </tr>\n",
       "    <tr>\n",
       "      <th>9</th>\n",
       "      <td>normal_0_6_0581.tif</td>\n",
       "      <td>Normal_006</td>\n",
       "      <td>0</td>\n",
       "      <td>0</td>\n",
       "      <td>16</td>\n",
       "      <td>/data/tiles_Camelyon16_with_metadata_all/norma...</td>\n",
       "      <td>6</td>\n",
       "    </tr>\n",
       "    <tr>\n",
       "      <th>10</th>\n",
       "      <td>normal_0_6_0397.tif</td>\n",
       "      <td>Normal_006</td>\n",
       "      <td>0</td>\n",
       "      <td>0</td>\n",
       "      <td>16</td>\n",
       "      <td>/data/tiles_Camelyon16_with_metadata_all/norma...</td>\n",
       "      <td>6</td>\n",
       "    </tr>\n",
       "    <tr>\n",
       "      <th>11</th>\n",
       "      <td>normal_0_6_0716.tif</td>\n",
       "      <td>Normal_006</td>\n",
       "      <td>0</td>\n",
       "      <td>0</td>\n",
       "      <td>16</td>\n",
       "      <td>/data/tiles_Camelyon16_with_metadata_all/norma...</td>\n",
       "      <td>6</td>\n",
       "    </tr>\n",
       "    <tr>\n",
       "      <th>12</th>\n",
       "      <td>normal_0_6_0809.tif</td>\n",
       "      <td>Normal_006</td>\n",
       "      <td>0</td>\n",
       "      <td>0</td>\n",
       "      <td>16</td>\n",
       "      <td>/data/tiles_Camelyon16_with_metadata_all/norma...</td>\n",
       "      <td>6</td>\n",
       "    </tr>\n",
       "    <tr>\n",
       "      <th>13</th>\n",
       "      <td>normal_0_6_0046.tif</td>\n",
       "      <td>Normal_006</td>\n",
       "      <td>0</td>\n",
       "      <td>0</td>\n",
       "      <td>16</td>\n",
       "      <td>/data/tiles_Camelyon16_with_metadata_all/norma...</td>\n",
       "      <td>6</td>\n",
       "    </tr>\n",
       "    <tr>\n",
       "      <th>14</th>\n",
       "      <td>normal_0_6_0937.tif</td>\n",
       "      <td>Normal_006</td>\n",
       "      <td>0</td>\n",
       "      <td>0</td>\n",
       "      <td>16</td>\n",
       "      <td>/data/tiles_Camelyon16_with_metadata_all/norma...</td>\n",
       "      <td>6</td>\n",
       "    </tr>\n",
       "    <tr>\n",
       "      <th>15</th>\n",
       "      <td>normal_0_6_0027.tif</td>\n",
       "      <td>Normal_006</td>\n",
       "      <td>0</td>\n",
       "      <td>0</td>\n",
       "      <td>16</td>\n",
       "      <td>/data/tiles_Camelyon16_with_metadata_all/norma...</td>\n",
       "      <td>6</td>\n",
       "    </tr>\n",
       "    <tr>\n",
       "      <th>16</th>\n",
       "      <td>normal_0_6_0091.tif</td>\n",
       "      <td>Normal_006</td>\n",
       "      <td>0</td>\n",
       "      <td>0</td>\n",
       "      <td>16</td>\n",
       "      <td>/data/tiles_Camelyon16_with_metadata_all/norma...</td>\n",
       "      <td>6</td>\n",
       "    </tr>\n",
       "    <tr>\n",
       "      <th>17</th>\n",
       "      <td>normal_0_6_0349.tif</td>\n",
       "      <td>Normal_006</td>\n",
       "      <td>0</td>\n",
       "      <td>0</td>\n",
       "      <td>16</td>\n",
       "      <td>/data/tiles_Camelyon16_with_metadata_all/norma...</td>\n",
       "      <td>6</td>\n",
       "    </tr>\n",
       "    <tr>\n",
       "      <th>18</th>\n",
       "      <td>normal_0_6_0089.tif</td>\n",
       "      <td>Normal_006</td>\n",
       "      <td>0</td>\n",
       "      <td>0</td>\n",
       "      <td>16</td>\n",
       "      <td>/data/tiles_Camelyon16_with_metadata_all/norma...</td>\n",
       "      <td>6</td>\n",
       "    </tr>\n",
       "    <tr>\n",
       "      <th>19</th>\n",
       "      <td>normal_0_6_1038.tif</td>\n",
       "      <td>Normal_006</td>\n",
       "      <td>0</td>\n",
       "      <td>0</td>\n",
       "      <td>16</td>\n",
       "      <td>/data/tiles_Camelyon16_with_metadata_all/norma...</td>\n",
       "      <td>6</td>\n",
       "    </tr>\n",
       "  </tbody>\n",
       "</table>\n",
       "</div>"
      ],
      "text/plain": [
       "                   path       slide  hospital  target  camelyon_version  \\\n",
       "0   normal_0_6_0579.tif  Normal_006         0       0                16   \n",
       "1   normal_0_6_0193.tif  Normal_006         0       0                16   \n",
       "2   normal_0_6_0012.tif  Normal_006         0       0                16   \n",
       "3   normal_0_6_0037.tif  Normal_006         0       0                16   \n",
       "4   normal_0_6_0363.tif  Normal_006         0       0                16   \n",
       "5   normal_0_6_0949.tif  Normal_006         0       0                16   \n",
       "6   normal_0_6_0786.tif  Normal_006         0       0                16   \n",
       "7   normal_0_6_0932.tif  Normal_006         0       0                16   \n",
       "8   normal_0_6_0898.tif  Normal_006         0       0                16   \n",
       "9   normal_0_6_0581.tif  Normal_006         0       0                16   \n",
       "10  normal_0_6_0397.tif  Normal_006         0       0                16   \n",
       "11  normal_0_6_0716.tif  Normal_006         0       0                16   \n",
       "12  normal_0_6_0809.tif  Normal_006         0       0                16   \n",
       "13  normal_0_6_0046.tif  Normal_006         0       0                16   \n",
       "14  normal_0_6_0937.tif  Normal_006         0       0                16   \n",
       "15  normal_0_6_0027.tif  Normal_006         0       0                16   \n",
       "16  normal_0_6_0091.tif  Normal_006         0       0                16   \n",
       "17  normal_0_6_0349.tif  Normal_006         0       0                16   \n",
       "18  normal_0_6_0089.tif  Normal_006         0       0                16   \n",
       "19  normal_0_6_1038.tif  Normal_006         0       0                16   \n",
       "\n",
       "                                        absolute_path  patient  \n",
       "0   /data/tiles_Camelyon16_with_metadata_all/norma...        6  \n",
       "1   /data/tiles_Camelyon16_with_metadata_all/norma...        6  \n",
       "2   /data/tiles_Camelyon16_with_metadata_all/norma...        6  \n",
       "3   /data/tiles_Camelyon16_with_metadata_all/norma...        6  \n",
       "4   /data/tiles_Camelyon16_with_metadata_all/norma...        6  \n",
       "5   /data/tiles_Camelyon16_with_metadata_all/norma...        6  \n",
       "6   /data/tiles_Camelyon16_with_metadata_all/norma...        6  \n",
       "7   /data/tiles_Camelyon16_with_metadata_all/norma...        6  \n",
       "8   /data/tiles_Camelyon16_with_metadata_all/norma...        6  \n",
       "9   /data/tiles_Camelyon16_with_metadata_all/norma...        6  \n",
       "10  /data/tiles_Camelyon16_with_metadata_all/norma...        6  \n",
       "11  /data/tiles_Camelyon16_with_metadata_all/norma...        6  \n",
       "12  /data/tiles_Camelyon16_with_metadata_all/norma...        6  \n",
       "13  /data/tiles_Camelyon16_with_metadata_all/norma...        6  \n",
       "14  /data/tiles_Camelyon16_with_metadata_all/norma...        6  \n",
       "15  /data/tiles_Camelyon16_with_metadata_all/norma...        6  \n",
       "16  /data/tiles_Camelyon16_with_metadata_all/norma...        6  \n",
       "17  /data/tiles_Camelyon16_with_metadata_all/norma...        6  \n",
       "18  /data/tiles_Camelyon16_with_metadata_all/norma...        6  \n",
       "19  /data/tiles_Camelyon16_with_metadata_all/norma...        6  "
      ]
     },
     "execution_count": 10,
     "metadata": {},
     "output_type": "execute_result"
    }
   ],
   "source": [
    "df_16.head(20)"
   ]
  },
  {
   "cell_type": "code",
   "execution_count": 11,
   "id": "1a8a2bf8-30cd-4daf-9312-c3ad4d171971",
   "metadata": {},
   "outputs": [
    {
     "data": {
      "text/plain": [
       "231001"
      ]
     },
     "execution_count": 11,
     "metadata": {},
     "output_type": "execute_result"
    }
   ],
   "source": [
    "camelyon_16_images_count = len(list(CAMELYON_16_FOLDER.glob('*')))\n",
    "camelyon_16_images_count"
   ]
  },
  {
   "cell_type": "code",
   "execution_count": 12,
   "id": "ae96ff55-c5b7-41e5-9d37-8bd88a4b11bf",
   "metadata": {},
   "outputs": [],
   "source": [
    "assert(len(df_16) == camelyon_16_images_count) # missing images"
   ]
  },
  {
   "cell_type": "markdown",
   "id": "0dc91307-350a-4d52-8410-615a5860a11c",
   "metadata": {},
   "source": [
    "## Data split\n",
    "In this section we create the dataframe for every train/test dataset for the ML and the FL challenges\n",
    "\n",
    "*TODO*: don't put same slide/patient in train and test!"
   ]
  },
  {
   "cell_type": "code",
   "execution_count": 13,
   "id": "a98260d8-2870-4771-9bcd-852c8d7cf2db",
   "metadata": {},
   "outputs": [],
   "source": [
    "TRAIN_DATA_SIZE = 5000 # so that one epoch last 30 sec without Connect"
   ]
  },
  {
   "cell_type": "markdown",
   "id": "3f611b09-5d6c-42a0-8c2d-cb1abd222a3a",
   "metadata": {},
   "source": [
    "### ML Challenge\n",
    "- Train: hospital A of C16 dataset\n",
    "- Test: Mix of C 16 A et B + C17 D et E. We might take only a subset a C16 as C17 is small compared to C16.\n"
   ]
  },
  {
   "cell_type": "code",
   "execution_count": 14,
   "id": "14fce01f-cdfc-4a86-8347-d76628df70c2",
   "metadata": {},
   "outputs": [],
   "source": [
    "C16_patients = df_16.patient.unique()\n",
    "C16_patients_train, C16_patients_test = np.array_split(C16_patients, 2)"
   ]
  },
  {
   "cell_type": "code",
   "execution_count": 15,
   "id": "3336d197-8d0e-4f55-b89f-71bd005bc799",
   "metadata": {},
   "outputs": [],
   "source": [
    "train_ml_df = df_16.loc[(df_16.hospital == 0) & df_16.patient.isin(C16_patients_train),:].sample(n=TRAIN_DATA_SIZE, random_state=0) # C16 A, TODO GroupSplit"
   ]
  },
  {
   "cell_type": "code",
   "execution_count": 16,
   "id": "9b6df839-1b84-4c92-b423-510e9de92066",
   "metadata": {},
   "outputs": [
    {
     "data": {
      "text/html": [
       "<div>\n",
       "<style scoped>\n",
       "    .dataframe tbody tr th:only-of-type {\n",
       "        vertical-align: middle;\n",
       "    }\n",
       "\n",
       "    .dataframe tbody tr th {\n",
       "        vertical-align: top;\n",
       "    }\n",
       "\n",
       "    .dataframe thead th {\n",
       "        text-align: right;\n",
       "    }\n",
       "</style>\n",
       "<table border=\"1\" class=\"dataframe\">\n",
       "  <thead>\n",
       "    <tr style=\"text-align: right;\">\n",
       "      <th></th>\n",
       "      <th>path</th>\n",
       "      <th>slide</th>\n",
       "      <th>hospital</th>\n",
       "      <th>target</th>\n",
       "      <th>camelyon_version</th>\n",
       "      <th>absolute_path</th>\n",
       "      <th>patient</th>\n",
       "    </tr>\n",
       "  </thead>\n",
       "  <tbody>\n",
       "    <tr>\n",
       "      <th>7662</th>\n",
       "      <td>normal_0_73_1076.tif</td>\n",
       "      <td>Normal_073</td>\n",
       "      <td>0</td>\n",
       "      <td>0</td>\n",
       "      <td>16</td>\n",
       "      <td>/data/tiles_Camelyon16_with_metadata_all/norma...</td>\n",
       "      <td>73</td>\n",
       "    </tr>\n",
       "    <tr>\n",
       "      <th>30468</th>\n",
       "      <td>normal_0_33_6177.tif</td>\n",
       "      <td>Normal_033</td>\n",
       "      <td>0</td>\n",
       "      <td>0</td>\n",
       "      <td>16</td>\n",
       "      <td>/data/tiles_Camelyon16_with_metadata_all/norma...</td>\n",
       "      <td>33</td>\n",
       "    </tr>\n",
       "    <tr>\n",
       "      <th>82083</th>\n",
       "      <td>normal_0_7_1293.tif</td>\n",
       "      <td>Normal_007</td>\n",
       "      <td>0</td>\n",
       "      <td>0</td>\n",
       "      <td>16</td>\n",
       "      <td>/data/tiles_Camelyon16_with_metadata_all/norma...</td>\n",
       "      <td>7</td>\n",
       "    </tr>\n",
       "    <tr>\n",
       "      <th>10723</th>\n",
       "      <td>normal_0_8_0494.tif</td>\n",
       "      <td>Normal_008</td>\n",
       "      <td>0</td>\n",
       "      <td>0</td>\n",
       "      <td>16</td>\n",
       "      <td>/data/tiles_Camelyon16_with_metadata_all/norma...</td>\n",
       "      <td>8</td>\n",
       "    </tr>\n",
       "    <tr>\n",
       "      <th>72330</th>\n",
       "      <td>normal_0_40_6345.tif</td>\n",
       "      <td>Normal_040</td>\n",
       "      <td>0</td>\n",
       "      <td>0</td>\n",
       "      <td>16</td>\n",
       "      <td>/data/tiles_Camelyon16_with_metadata_all/norma...</td>\n",
       "      <td>40</td>\n",
       "    </tr>\n",
       "    <tr>\n",
       "      <th>...</th>\n",
       "      <td>...</td>\n",
       "      <td>...</td>\n",
       "      <td>...</td>\n",
       "      <td>...</td>\n",
       "      <td>...</td>\n",
       "      <td>...</td>\n",
       "      <td>...</td>\n",
       "    </tr>\n",
       "    <tr>\n",
       "      <th>32605</th>\n",
       "      <td>normal_0_22_3569.tif</td>\n",
       "      <td>Normal_022</td>\n",
       "      <td>0</td>\n",
       "      <td>0</td>\n",
       "      <td>16</td>\n",
       "      <td>/data/tiles_Camelyon16_with_metadata_all/norma...</td>\n",
       "      <td>22</td>\n",
       "    </tr>\n",
       "    <tr>\n",
       "      <th>44542</th>\n",
       "      <td>normal_0_81_1647.tif</td>\n",
       "      <td>Normal_081</td>\n",
       "      <td>0</td>\n",
       "      <td>0</td>\n",
       "      <td>16</td>\n",
       "      <td>/data/tiles_Camelyon16_with_metadata_all/norma...</td>\n",
       "      <td>81</td>\n",
       "    </tr>\n",
       "    <tr>\n",
       "      <th>56249</th>\n",
       "      <td>normal_0_10_1351.tif</td>\n",
       "      <td>Normal_010</td>\n",
       "      <td>0</td>\n",
       "      <td>0</td>\n",
       "      <td>16</td>\n",
       "      <td>/data/tiles_Camelyon16_with_metadata_all/norma...</td>\n",
       "      <td>10</td>\n",
       "    </tr>\n",
       "    <tr>\n",
       "      <th>38780</th>\n",
       "      <td>normal_0_25_4742.tif</td>\n",
       "      <td>Normal_025</td>\n",
       "      <td>0</td>\n",
       "      <td>0</td>\n",
       "      <td>16</td>\n",
       "      <td>/data/tiles_Camelyon16_with_metadata_all/norma...</td>\n",
       "      <td>25</td>\n",
       "    </tr>\n",
       "    <tr>\n",
       "      <th>51621</th>\n",
       "      <td>tumor_0_58_4339.tif</td>\n",
       "      <td>Tumor_058</td>\n",
       "      <td>0</td>\n",
       "      <td>1</td>\n",
       "      <td>16</td>\n",
       "      <td>/data/tiles_Camelyon16_with_metadata_all/tumor...</td>\n",
       "      <td>58</td>\n",
       "    </tr>\n",
       "  </tbody>\n",
       "</table>\n",
       "<p>5000 rows × 7 columns</p>\n",
       "</div>"
      ],
      "text/plain": [
       "                       path       slide  hospital  target  camelyon_version  \\\n",
       "7662   normal_0_73_1076.tif  Normal_073         0       0                16   \n",
       "30468  normal_0_33_6177.tif  Normal_033         0       0                16   \n",
       "82083   normal_0_7_1293.tif  Normal_007         0       0                16   \n",
       "10723   normal_0_8_0494.tif  Normal_008         0       0                16   \n",
       "72330  normal_0_40_6345.tif  Normal_040         0       0                16   \n",
       "...                     ...         ...       ...     ...               ...   \n",
       "32605  normal_0_22_3569.tif  Normal_022         0       0                16   \n",
       "44542  normal_0_81_1647.tif  Normal_081         0       0                16   \n",
       "56249  normal_0_10_1351.tif  Normal_010         0       0                16   \n",
       "38780  normal_0_25_4742.tif  Normal_025         0       0                16   \n",
       "51621   tumor_0_58_4339.tif   Tumor_058         0       1                16   \n",
       "\n",
       "                                           absolute_path  patient  \n",
       "7662   /data/tiles_Camelyon16_with_metadata_all/norma...       73  \n",
       "30468  /data/tiles_Camelyon16_with_metadata_all/norma...       33  \n",
       "82083  /data/tiles_Camelyon16_with_metadata_all/norma...        7  \n",
       "10723  /data/tiles_Camelyon16_with_metadata_all/norma...        8  \n",
       "72330  /data/tiles_Camelyon16_with_metadata_all/norma...       40  \n",
       "...                                                  ...      ...  \n",
       "32605  /data/tiles_Camelyon16_with_metadata_all/norma...       22  \n",
       "44542  /data/tiles_Camelyon16_with_metadata_all/norma...       81  \n",
       "56249  /data/tiles_Camelyon16_with_metadata_all/norma...       10  \n",
       "38780  /data/tiles_Camelyon16_with_metadata_all/norma...       25  \n",
       "51621  /data/tiles_Camelyon16_with_metadata_all/tumor...       58  \n",
       "\n",
       "[5000 rows x 7 columns]"
      ]
     },
     "execution_count": 16,
     "metadata": {},
     "output_type": "execute_result"
    }
   ],
   "source": [
    "train_ml_df"
   ]
  },
  {
   "cell_type": "markdown",
   "id": "8e2cb3c4-9870-4f55-8eb8-f5d4e9149de6",
   "metadata": {},
   "source": [
    "### FL Challenge\n",
    "- Train: \n",
    "    - Noeud A : dataset de train de la partie ML: C16 - hospital A\n",
    "    - Noeud B: C16 - hospital B\n",
    "    - Noeud C: C17 A et B\n",
    "- Test: Mix of C 16 A et B + C17 D et E. We might take only a subset a C16 as C17 is small compared to C16.\n"
   ]
  },
  {
   "cell_type": "code",
   "execution_count": 17,
   "id": "e779c40b-d4bc-4322-b6a4-816c97c8d81a",
   "metadata": {},
   "outputs": [],
   "source": [
    "train_fl_node_A = train_ml_df.copy(deep=True) # C16 A"
   ]
  },
  {
   "cell_type": "code",
   "execution_count": 18,
   "id": "8d6115d1-0caa-421d-9bbb-78d83cf65187",
   "metadata": {},
   "outputs": [],
   "source": [
    "train_fl_node_B = df_16.loc[(df_16.hospital == 1) & df_16.patient.isin(C16_patients_train),:].sample(n=TRAIN_DATA_SIZE, random_state=0) # C16 B"
   ]
  },
  {
   "cell_type": "code",
   "execution_count": 19,
   "id": "61c67acd-12cd-493b-99f8-4fff948188c4",
   "metadata": {},
   "outputs": [],
   "source": [
    "train_fl_node_C = df_17.loc[df_17.hospital <= 1,:].sample(n=TRAIN_DATA_SIZE, random_state=0) # C17 A and B"
   ]
  },
  {
   "cell_type": "markdown",
   "id": "a0fd5a8a-7ab8-4581-8323-3b7c058a7cea",
   "metadata": {},
   "source": [
    "### Test\n"
   ]
  },
  {
   "cell_type": "code",
   "execution_count": 20,
   "id": "1f50b3ef-65c1-4f7e-b74d-71721ead8910",
   "metadata": {},
   "outputs": [],
   "source": [
    "C16_TEST_DATA_SIZE = 3000\n",
    "C17_TEST_DATA_SIZE = 3000\n",
    "TEST_DATA_SIZE = C16_TEST_DATA_SIZE + C17_TEST_DATA_SIZE"
   ]
  },
  {
   "cell_type": "code",
   "execution_count": 21,
   "id": "880cf08b-1cbe-4e2f-8ece-247fd93c05df",
   "metadata": {},
   "outputs": [],
   "source": [
    "df_16_test = df_16.loc[df_16.patient.isin(C16_patients_test),:].sample(n=C16_TEST_DATA_SIZE, random_state=0) # C16 A and B"
   ]
  },
  {
   "cell_type": "code",
   "execution_count": 22,
   "id": "5404814c-e8af-48c7-ba2a-043e3cfaeb49",
   "metadata": {
    "tags": []
   },
   "outputs": [],
   "source": [
    "df_17_test = df_17.loc[(df_17.hospital == 3) | (df_17.hospital == 4),:].sample(n=C17_TEST_DATA_SIZE, random_state=0) # C17 D and E"
   ]
  },
  {
   "cell_type": "code",
   "execution_count": 23,
   "id": "59b76271-6402-49b9-8901-341d7a76c979",
   "metadata": {},
   "outputs": [],
   "source": [
    "df_test = pd.concat([df_16_test,df_17_test])"
   ]
  },
  {
   "cell_type": "markdown",
   "id": "386102cf-0202-4b7e-9a85-360b35450f32",
   "metadata": {},
   "source": [
    "## Quality check"
   ]
  },
  {
   "cell_type": "code",
   "execution_count": 24,
   "id": "708049eb-2a0c-4429-9205-c5d523701104",
   "metadata": {},
   "outputs": [],
   "source": [
    "assert(len(train_fl_node_A) == TRAIN_DATA_SIZE)\n",
    "assert(len(train_fl_node_B) == TRAIN_DATA_SIZE)\n",
    "assert(len(train_fl_node_C) == TRAIN_DATA_SIZE)\n",
    "\n",
    "assert(len(df_test) == TEST_DATA_SIZE)"
   ]
  },
  {
   "cell_type": "code",
   "execution_count": 25,
   "id": "57d43df7-7a6e-45af-857c-2bbb41b95884",
   "metadata": {},
   "outputs": [],
   "source": [
    "assert(train_fl_node_A.hospital.unique() == [0])\n",
    "assert(train_fl_node_B.hospital.unique() == [1])\n",
    "assert((train_fl_node_C.hospital.unique() == np.array([0,1])).all())"
   ]
  },
  {
   "cell_type": "code",
   "execution_count": 26,
   "id": "edecc618-8886-46d5-bfb6-1c15fec27384",
   "metadata": {},
   "outputs": [],
   "source": [
    "assert(len(set(train_fl_node_A.path).intersection(set(df_test.path))) == 0)\n",
    "assert(len(set(train_fl_node_B.path).intersection(set(df_test.path))) == 0)\n",
    "assert(len(set(train_fl_node_C.path).intersection(set(df_test.path))) == 0)"
   ]
  },
  {
   "cell_type": "markdown",
   "id": "b5a50667-6c01-4bc7-a1e8-fda856bb8db9",
   "metadata": {},
   "source": [
    "## Move data\n",
    "What we will do:\n",
    "- transform data into JPG so that it can be easily read by Keras\n",
    "- save the data in the different folders:\n",
    "    - ML\n",
    "        - train\n",
    "            - target 0\n",
    "            - target 1\n",
    "    - FL\n",
    "        - train node A\n",
    "            - target 0\n",
    "            - target 1\n",
    "        - train node B\n",
    "            - target 0\n",
    "            - target 1\n",
    "        - train node C\n",
    "            - target 0\n",
    "            - target 1\n",
    "    - test\n",
    "        - target 0\n",
    "        - target 1\n"
   ]
  },
  {
   "cell_type": "markdown",
   "id": "b122280b-968f-478f-a7ae-360cdf5ecb8e",
   "metadata": {},
   "source": [
    "### Creating target folders"
   ]
  },
  {
   "cell_type": "code",
   "execution_count": 27,
   "id": "1d8e6c93-2875-4ebc-a965-e950e4426a8d",
   "metadata": {},
   "outputs": [],
   "source": [
    "df_list = [train_ml_df, train_fl_node_A, train_fl_node_B, train_fl_node_C, df_test]"
   ]
  },
  {
   "cell_type": "code",
   "execution_count": 28,
   "id": "89e36afe-dc61-4599-8f3e-de848a4a61d3",
   "metadata": {},
   "outputs": [],
   "source": [
    "data_challenge_folder = data_folder / \"challenges_data\"\n",
    "# Cleaning up\n",
    "#shutil.rmtree(str(data_challenge_folder))"
   ]
  },
  {
   "cell_type": "code",
   "execution_count": 29,
   "id": "0fed66c9-fb16-41b3-9280-3f4dd45c62eb",
   "metadata": {},
   "outputs": [],
   "source": [
    "destination_folders = [data_challenge_folder / \"ML\" / \"train\",\n",
    "                       data_challenge_folder / \"FL\" / \"train_node_A\",\n",
    "                       data_challenge_folder / \"FL\" / \"train_node_B\",\n",
    "                       data_challenge_folder / \"FL\" / \"train_node_C\",\n",
    "                       data_challenge_folder / \"test\",\n",
    "                      ]\n",
    "\n",
    "for folder in destination_folders:\n",
    "    target_0_folder = folder / \"target_0\"\n",
    "    target_1_folder = folder / \"target_1\"\n",
    "    \n",
    "    target_0_folder.mkdir(exist_ok=True, parents=True)\n",
    "    target_1_folder.mkdir(exist_ok=True, parents=True)"
   ]
  },
  {
   "cell_type": "code",
   "execution_count": 30,
   "id": "e9d39dfb-5938-45f1-b7da-f3fa383f6019",
   "metadata": {},
   "outputs": [
    {
     "name": "stdout",
     "output_type": "stream",
     "text": [
      "train\n"
     ]
    },
    {
     "name": "stderr",
     "output_type": "stream",
     "text": [
      "5000it [00:00, 7411.98it/s]\n"
     ]
    },
    {
     "name": "stdout",
     "output_type": "stream",
     "text": [
      "train_node_A\n"
     ]
    },
    {
     "name": "stderr",
     "output_type": "stream",
     "text": [
      "5000it [00:00, 7459.59it/s]\n"
     ]
    },
    {
     "name": "stdout",
     "output_type": "stream",
     "text": [
      "train_node_B\n"
     ]
    },
    {
     "name": "stderr",
     "output_type": "stream",
     "text": [
      "5000it [00:00, 7559.50it/s]\n"
     ]
    },
    {
     "name": "stdout",
     "output_type": "stream",
     "text": [
      "train_node_C\n"
     ]
    },
    {
     "name": "stderr",
     "output_type": "stream",
     "text": [
      "5000it [00:00, 7364.88it/s]\n"
     ]
    },
    {
     "name": "stdout",
     "output_type": "stream",
     "text": [
      "test\n"
     ]
    },
    {
     "name": "stderr",
     "output_type": "stream",
     "text": [
      "6000it [00:00, 7847.15it/s]\n"
     ]
    }
   ],
   "source": [
    "# adding target path into each dataframe\n",
    "\n",
    "for df, destination_folder in zip(df_list, destination_folders):\n",
    "    print(destination_folder.name) \n",
    "    df[\"target_folder\"] = \"\"\n",
    "    \n",
    "    for index, row in tqdm(df.iterrows()):\n",
    "        if row.target == 1:\n",
    "            df.at[index, \"target_folder\"] = destination_folder / \"target_1\"\n",
    "        elif row.target == 0:\n",
    "            df.at[index, \"target_folder\"] = destination_folder / \"target_0\"\n",
    "        else:\n",
    "             raise Exception(\"target is not 0 or 1\")"
   ]
  },
  {
   "cell_type": "markdown",
   "id": "a0fa68ba-a48c-44e0-a090-3e27d7b68008",
   "metadata": {},
   "source": [
    "### Copying files in JPG into folders"
   ]
  },
  {
   "cell_type": "code",
   "execution_count": 31,
   "id": "c4195977-fd78-4c13-980f-750cf8c3034f",
   "metadata": {},
   "outputs": [],
   "source": [
    "ImageFile.LOAD_TRUNCATED_IMAGES = True\n",
    "\n",
    "def save_into_jpg(source_path, destination_folder):\n",
    "    im = Image.open(source_path)\n",
    "    im.thumbnail(im.size)\n",
    "    \n",
    "    out_file_name = source_path.stem + '.jpg'\n",
    "    out_file_path = destination_folder / out_file_name\n",
    "\n",
    "    im.save(out_file_path, \"JPEG\", quality=100)"
   ]
  },
  {
   "cell_type": "code",
   "execution_count": 32,
   "id": "2867a4d1-d006-4044-9ad5-4efefc300d38",
   "metadata": {},
   "outputs": [
    {
     "name": "stderr",
     "output_type": "stream",
     "text": [
      "5000it [00:41, 119.79it/s]\n",
      "5000it [00:28, 177.23it/s]\n",
      "5000it [00:40, 124.64it/s]\n",
      "5000it [00:43, 115.20it/s]\n",
      "6000it [00:42, 142.22it/s]\n"
     ]
    }
   ],
   "source": [
    "for df in df_list:\n",
    "    for index, row in tqdm(df.iterrows()):\n",
    "        save_into_jpg(row.absolute_path, row.target_folder)"
   ]
  },
  {
   "cell_type": "markdown",
   "id": "e57d2890-1ab7-48d7-945f-2734212faa87",
   "metadata": {},
   "source": [
    "### Move data for Substra"
   ]
  },
  {
   "cell_type": "raw",
   "id": "0d63437b-aabc-44f6-8e5e-277f555f9fdc",
   "metadata": {},
   "source": [
    "DATA FOLDER TREE STRUCTURE:\n",
    "- node_A\n",
    "    |_ train\n",
    "- node_B\n",
    "    |_ train\n",
    "- node_C\n",
    "    |_ train\n",
    "    |_ test"
   ]
  },
  {
   "cell_type": "code",
   "execution_count": 33,
   "id": "89ff0382-513c-4a40-996c-132641028435",
   "metadata": {},
   "outputs": [],
   "source": [
    "substra_data_folder = data_challenge_folder / \"substra\"\n",
    "substra_data_folder.mkdir(exist_ok=True, parents=True)"
   ]
  },
  {
   "cell_type": "code",
   "execution_count": 34,
   "id": "44a9e09b-fc90-4e88-a0a1-b9a6a9f70bba",
   "metadata": {},
   "outputs": [],
   "source": [
    "from distutils.dir_util import copy_tree"
   ]
  },
  {
   "cell_type": "code",
   "execution_count": 35,
   "id": "79d20dd0-2c5e-459a-81e1-ebba2f5a36e7",
   "metadata": {},
   "outputs": [],
   "source": [
    "# node A\n",
    "target_dir = Path(substra_data_folder / \"node_A\" / \"train\" / \"data_sample_0\")\n",
    "target_dir.mkdir(exist_ok=True, parents=True)\n",
    "\n",
    "source_dir = data_challenge_folder / \"FL\" / \"train_node_A\" / \"target_0\"\n",
    "result = copy_tree(str(source_dir), str(target_dir))\n",
    "\n",
    "source_dir = data_challenge_folder / \"FL\" / \"train_node_A\" / \"target_1\"\n",
    "result = copy_tree(str(source_dir), str(target_dir))"
   ]
  },
  {
   "cell_type": "code",
   "execution_count": 36,
   "id": "ac6205a6-2bc3-4e48-b65d-b325d40b3863",
   "metadata": {},
   "outputs": [],
   "source": [
    "# node B\n",
    "target_dir = Path(substra_data_folder / \"node_B\" / \"train\" / \"data_sample_0\")\n",
    "target_dir.mkdir(exist_ok=True, parents=True)\n",
    "\n",
    "source_dir = data_challenge_folder / \"FL\" / \"train_node_B\" / \"target_0\"\n",
    "result = copy_tree(str(source_dir), str(target_dir))\n",
    "\n",
    "source_dir = data_challenge_folder / \"FL\" / \"train_node_B\" / \"target_1\"\n",
    "result = copy_tree(str(source_dir), str(target_dir))"
   ]
  },
  {
   "cell_type": "code",
   "execution_count": 37,
   "id": "227f00b4-92b9-49f2-a551-5c9e7105fb02",
   "metadata": {},
   "outputs": [],
   "source": [
    "# node C - train\n",
    "target_dir = Path(substra_data_folder / \"node_C\" / \"train\" / \"data_sample_0\")\n",
    "target_dir.mkdir(exist_ok=True, parents=True)\n",
    "\n",
    "source_dir = data_challenge_folder / \"FL\" / \"train_node_C\" / \"target_0\"\n",
    "result = copy_tree(str(source_dir), str(target_dir))\n",
    "\n",
    "source_dir = data_challenge_folder / \"FL\" / \"train_node_C\" / \"target_1\"\n",
    "result = copy_tree(str(source_dir), str(target_dir))"
   ]
  },
  {
   "cell_type": "code",
   "execution_count": 38,
   "id": "de2a2a6e-72c7-429e-a0e2-6fb839b2972b",
   "metadata": {},
   "outputs": [],
   "source": [
    "# node C - test\n",
    "target_dir = Path(substra_data_folder / \"node_C\" / \"test\" / \"data_sample_0\")\n",
    "target_dir.mkdir(exist_ok=True, parents=True)\n",
    "\n",
    "source_dir = data_challenge_folder / \"test\" / \"target_0\"\n",
    "result = copy_tree(str(source_dir), str(target_dir))\n",
    "\n",
    "source_dir = data_challenge_folder / \"test\" / \"target_1\"\n",
    "result = copy_tree(str(source_dir), str(target_dir))"
   ]
  },
  {
   "cell_type": "code",
   "execution_count": null,
   "id": "cb3f925c-b191-4d36-92d7-3b15383aa976",
   "metadata": {},
   "outputs": [],
   "source": []
  }
 ],
 "metadata": {
  "kernelspec": {
   "display_name": "Python 3 (ipykernel)",
   "language": "python",
   "name": "python3"
  },
  "language_info": {
   "codemirror_mode": {
    "name": "ipython",
    "version": 3
   },
   "file_extension": ".py",
   "mimetype": "text/x-python",
   "name": "python",
   "nbconvert_exporter": "python",
   "pygments_lexer": "ipython3",
   "version": "3.7.3"
  }
 },
 "nbformat": 4,
 "nbformat_minor": 5
}

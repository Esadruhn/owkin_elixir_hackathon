{
 "cells": [
  {
   "cell_type": "code",
   "execution_count": 18,
   "metadata": {},
   "outputs": [],
   "source": [
    "import substra\n",
    "from tensorflow import keras\n",
    "import tensorflow as tf\n",
    "import numpy as np\n",
    "import pandas as pd\n",
    "from pathlib import Path\n"
   ]
  },
  {
   "cell_type": "code",
   "execution_count": 19,
   "metadata": {},
   "outputs": [],
   "source": [
    "client = substra.Client.from_config_file(\"node_A\")\n",
    "cp_key = \"be1cf90d-929f-4a74-bbd4-d212272f073c\"\n",
    "test_data_path = Path('/') / 'home' / 'user' / 'data' / 'test'\n"
   ]
  },
  {
   "cell_type": "code",
   "execution_count": 20,
   "metadata": {},
   "outputs": [],
   "source": [
    "traintuples = client.list_traintuple(filters=[f'traintuple:compute_plan_key:{cp_key}'])\n"
   ]
  },
  {
   "cell_type": "code",
   "execution_count": 21,
   "metadata": {},
   "outputs": [],
   "source": [
    "rank_max = 0\n",
    "tt_key = \"\"\n",
    "\n",
    "for tt in traintuples:\n",
    "    if tt.rank > rank_max:\n",
    "        rank_max = tt.rank\n",
    "        tt_key = tt.key"
   ]
  },
  {
   "cell_type": "code",
   "execution_count": null,
   "metadata": {},
   "outputs": [],
   "source": []
  },
  {
   "cell_type": "code",
   "execution_count": 22,
   "metadata": {},
   "outputs": [
    {
     "ename": "TypeError",
     "evalue": "'NoneType' object is not subscriptable",
     "output_type": "error",
     "traceback": [
      "\u001b[0;31m---------------------------------------------------------------------------\u001b[0m",
      "\u001b[0;31mTypeError\u001b[0m                                 Traceback (most recent call last)",
      "\u001b[0;32m/tmp/ipykernel_1844/2170007047.py\u001b[0m in \u001b[0;36m<module>\u001b[0;34m\u001b[0m\n\u001b[1;32m      4\u001b[0m \u001b[0;31m# Download the associated model\u001b[0m\u001b[0;34m\u001b[0m\u001b[0;34m\u001b[0m\u001b[0;34m\u001b[0m\u001b[0m\n\u001b[1;32m      5\u001b[0m \u001b[0mmodel_path\u001b[0m \u001b[0;34m=\u001b[0m \u001b[0mPath\u001b[0m\u001b[0;34m(\u001b[0m\u001b[0;34m\"\"\u001b[0m\u001b[0;34m)\u001b[0m \u001b[0;34m/\u001b[0m \u001b[0;34m'out'\u001b[0m\u001b[0;34m\u001b[0m\u001b[0;34m\u001b[0m\u001b[0m\n\u001b[0;32m----> 6\u001b[0;31m \u001b[0mmodel_filename\u001b[0m \u001b[0;34m=\u001b[0m \u001b[0;34mf'model_{traintuple.train.models[0].key}'\u001b[0m\u001b[0;34m\u001b[0m\u001b[0;34m\u001b[0m\u001b[0m\n\u001b[0m\u001b[1;32m      7\u001b[0m \u001b[0mclient\u001b[0m\u001b[0;34m.\u001b[0m\u001b[0mdownload_model_from_traintuple\u001b[0m\u001b[0;34m(\u001b[0m\u001b[0mtraintuple\u001b[0m\u001b[0;34m.\u001b[0m\u001b[0mkey\u001b[0m\u001b[0;34m,\u001b[0m \u001b[0mfolder\u001b[0m\u001b[0;34m=\u001b[0m\u001b[0mmodel_path\u001b[0m\u001b[0;34m)\u001b[0m\u001b[0;34m\u001b[0m\u001b[0;34m\u001b[0m\u001b[0m\n\u001b[1;32m      8\u001b[0m \u001b[0;34m\u001b[0m\u001b[0m\n",
      "\u001b[0;31mTypeError\u001b[0m: 'NoneType' object is not subscriptable"
     ]
    }
   ],
   "source": [
    "\n",
    "# get the last traintuple of the compute plan\n",
    "traintuple = client.get_traintuple(tt_key)\n",
    "\n",
    "# Download the associated model\n",
    "model_path = Path(\"\") / 'out'\n",
    "model_filename = f'model_{traintuple.train.models[0].key}'\n",
    "client.download_model_from_traintuple(traintuple.key, folder=model_path)\n",
    "\n",
    "# SPECIFIC TO YOUR ALGO\n",
    "# -----------------------\n",
    "#\n",
    "# Here we are loading the model that your algo produced\n",
    "# so if you change the algo, for example if you use PyTorch,\n",
    "# then you might need to change this part as well.\n",
    "\n",
    "# Load the model and create predictions: this code depends on the algo code\n",
    "model = keras.models.load_model(str(model_path / model_filename))\n",
    "\n",
    "image_size = (180, 180)\n",
    "batch_size = 32\n",
    "test_ds = tf.keras.preprocessing.image_dataset_from_directory(\n",
    "    directory=test_data_path,\n",
    "    labels=\"inferred\",\n",
    "    label_mode=\"binary\",\n",
    "    shuffle=False,\n",
    "    seed=0,\n",
    "    image_size=image_size,\n",
    "    batch_size=batch_size,\n",
    ")\n",
    "\n",
    "predictions = np.array([])\n",
    "labels = np.array([])\n",
    "for x, y in test_ds:\n",
    "    predictions = np.concatenate([predictions, model.predict(x).ravel()])\n",
    "    labels = np.concatenate([labels, y.numpy().ravel()])\n",
    "file_paths = test_ds.file_paths\n",
    "\n",
    "df_submission = pd.DataFrame(data={\n",
    "    'file_paths': file_paths,\n",
    "    'predictions': predictions\n",
    "})\n",
    "df_submission[\"file_paths\"] = df_submission[\"file_paths\"].apply(\n",
    "    lambda x: x.replace(\"/home/user/data/test\", \"/data/challenges_data/test\"))\n",
    "\n",
    "submission_filepath = Path(\n",
    "    __file__).resolve().parents[1] / 'out' / 'df_submission.csv'\n",
    "df_submission.to_csv(submission_filepath, index=False)\n",
    "\n",
    "print(df_submission.head())\n",
    "\n",
    "print(f\"Created the file at {submission_filepath}\")\n",
    "\n",
    "# Delete the downloaded model\n",
    "(model_path / model_filename).unlink()"
   ]
  },
  {
   "cell_type": "code",
   "execution_count": null,
   "metadata": {},
   "outputs": [],
   "source": []
  }
 ],
 "metadata": {
  "interpreter": {
   "hash": "a7fe5dd1e410c33e5d9ff3aa59dde107deb54bff875391393c09f6c02d37151a"
  },
  "kernelspec": {
   "display_name": "Python 3.7.3 64-bit ('elixenv': venv)",
   "language": "python",
   "name": "python3"
  },
  "language_info": {
   "codemirror_mode": {
    "name": "ipython",
    "version": 3
   },
   "file_extension": ".py",
   "mimetype": "text/x-python",
   "name": "python",
   "nbconvert_exporter": "python",
   "pygments_lexer": "ipython3",
   "version": "3.7.3"
  },
  "orig_nbformat": 4
 },
 "nbformat": 4,
 "nbformat_minor": 2
}

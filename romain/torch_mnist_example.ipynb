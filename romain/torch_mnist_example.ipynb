{
 "cells": [
  {
   "cell_type": "code",
   "execution_count": 1,
   "id": "9151da1a-3f30-4040-b08e-0afbddabf01b",
   "metadata": {},
   "outputs": [],
   "source": [
    "import argparse\n",
    "import os\n",
    "import torch\n",
    "from torch import nn, optim\n",
    "from torch.nn import functional as F\n",
    "from torch.utils.data import DataLoader\n",
    "from torchvision import datasets, transforms\n"
   ]
  },
  {
   "cell_type": "code",
   "execution_count": 2,
   "id": "09a93fb7-af13-473b-b1da-5401f2f010c9",
   "metadata": {},
   "outputs": [
    {
     "data": {
      "text/plain": [
       "<torch._C.Generator at 0x7f1c2c72bea0>"
      ]
     },
     "execution_count": 2,
     "metadata": {},
     "output_type": "execute_result"
    }
   ],
   "source": [
    "seed = 0\n",
    "torch.manual_seed(seed)"
   ]
  },
  {
   "cell_type": "code",
   "execution_count": 3,
   "id": "ce5f75b8-fc1a-4ad8-9d68-18980a136aa3",
   "metadata": {},
   "outputs": [],
   "source": [
    "use_cuda = torch.cuda.is_available()\n",
    "device = torch.device('cuda' if use_cuda else 'cpu')\n",
    "if use_cuda:\n",
    "  torch.cuda.manual_seed(seed)"
   ]
  },
  {
   "cell_type": "code",
   "execution_count": 4,
   "id": "6805734a-7c73-48cd-b0c3-f6b4392e64d0",
   "metadata": {},
   "outputs": [],
   "source": [
    "batch_size = 32\n",
    "\n",
    "data_path = os.path.join(os.path.expanduser('~'), '.torch', 'datasets', 'mnist')\n",
    "\n",
    "train_data = datasets.MNIST(data_path, train=True, download=True,\n",
    "                            transform=transforms.Compose([\n",
    "                              transforms.ToTensor(),\n",
    "                              transforms.Normalize((0.1307,), (0.3081,))]))\n",
    "test_data = datasets.MNIST(data_path, train=False, transform=transforms.Compose([\n",
    "                             transforms.ToTensor(),\n",
    "                             transforms.Normalize((0.1307,), (0.3081,))]))\n",
    "\n",
    "train_loader = DataLoader(train_data, batch_size=batch_size,\n",
    "                          shuffle=True, num_workers=4, pin_memory=True)\n",
    "test_loader = DataLoader(test_data, batch_size=batch_size,\n",
    "                         num_workers=4, pin_memory=True)"
   ]
  },
  {
   "cell_type": "code",
   "execution_count": 7,
   "id": "7657650d-696d-4754-b130-1e7303417a88",
   "metadata": {},
   "outputs": [],
   "source": [
    "momentum = 0.5\n",
    "lr = 0.01\n",
    "\n",
    "class Net(nn.Module):\n",
    "  def __init__(self):\n",
    "    super(Net, self).__init__()\n",
    "    self.conv1 = nn.Conv2d(1, 10, kernel_size=5)\n",
    "    self.conv2 = nn.Conv2d(10, 20, kernel_size=5)\n",
    "    self.conv2_drop = nn.Dropout2d()\n",
    "    self.fc1 = nn.Linear(320, 50)\n",
    "    self.fc2 = nn.Linear(50, 10)\n",
    "\n",
    "  def forward(self, x):\n",
    "    x = F.relu(F.max_pool2d(self.conv1(x), 2))\n",
    "    x = F.relu(F.max_pool2d(self.conv2_drop(self.conv2(x)), 2))\n",
    "    x = x.view(-1, 320)\n",
    "    x = F.relu(self.fc1(x))\n",
    "    x = self.fc2(x)\n",
    "    return F.log_softmax(x, dim=1)\n",
    "\n",
    "model = Net().to(device)\n",
    "optimiser = optim.SGD(model.parameters(), lr=lr, momentum=momentum)\n"
   ]
  },
  {
   "cell_type": "code",
   "execution_count": 9,
   "id": "0cb2c698-5ea7-4ee8-a291-239bd7e16236",
   "metadata": {},
   "outputs": [
    {
     "name": "stdout",
     "output_type": "stream",
     "text": [
      "0 0.1344337910413742\n",
      "100 0.05630882829427719\n",
      "200 0.33889245986938477\n",
      "300 0.0997549444437027\n",
      "400 0.19470016658306122\n",
      "500 0.1589779406785965\n",
      "600 0.173419788479805\n",
      "700 0.06351170688867569\n",
      "800 0.2305467277765274\n",
      "900 0.08057068288326263\n",
      "1000 0.19786471128463745\n",
      "1100 0.1013445109128952\n",
      "1200 0.06067974120378494\n",
      "1300 0.06633340567350388\n",
      "1400 0.24572713673114777\n",
      "1500 0.06782684475183487\n",
      "1600 0.44217649102211\n",
      "1700 0.3421822786331177\n",
      "1800 0.4987533986568451\n"
     ]
    }
   ],
   "source": [
    "model.train()\n",
    "train_losses = []\n",
    "\n",
    "for i, (data, target) in enumerate(train_loader):\n",
    "  data = data.to(device=device, non_blocking=True)\n",
    "  target = target.to(device=device, non_blocking=True)\n",
    "  optimiser.zero_grad()\n",
    "  output = model(data)\n",
    "  loss = F.nll_loss(output, target)\n",
    "  loss.backward()\n",
    "  train_losses.append(loss.item())\n",
    "  optimiser.step()\n",
    "\n",
    "  if i % 100 == 0:\n",
    "    print(i, loss.item())\n",
    "    torch.save(model.state_dict(), 'model.pth')\n",
    "    torch.save(optimiser.state_dict(), 'optimiser.pth')\n",
    "    torch.save(train_losses, 'train_losses.pth')"
   ]
  },
  {
   "cell_type": "code",
   "execution_count": 10,
   "id": "8d7c22a0-5722-44ab-9529-4744bfb569c8",
   "metadata": {},
   "outputs": [
    {
     "name": "stdout",
     "output_type": "stream",
     "text": [
      "0.9783 0.06476653925664723\n"
     ]
    }
   ],
   "source": [
    "model.eval()\n",
    "test_loss, correct = 0, 0\n",
    "\n",
    "with torch.inference_mode():\n",
    "  for data, target in test_loader:\n",
    "    data = data.to(device=device, non_blocking=True)\n",
    "    target = target.to(device=device, non_blocking=True)\n",
    "    output = model(data)\n",
    "    test_loss += F.nll_loss(output, target, reduction='sum').item()\n",
    "    pred = output.argmax(1, keepdim=True)\n",
    "    correct += pred.eq(target.view_as(pred)).sum().item()\n",
    "\n",
    "test_loss /= len(test_data)\n",
    "acc = correct / len(test_data)\n",
    "print(acc, test_loss)"
   ]
  },
  {
   "cell_type": "code",
   "execution_count": null,
   "id": "ea6e4863-aaee-450e-8ee0-3a5d6ce1e104",
   "metadata": {},
   "outputs": [],
   "source": []
  }
 ],
 "metadata": {
  "kernelspec": {
   "display_name": "elixirkernel",
   "language": "python",
   "name": "elixirkernel"
  },
  "language_info": {
   "codemirror_mode": {
    "name": "ipython",
    "version": 3
   },
   "file_extension": ".py",
   "mimetype": "text/x-python",
   "name": "python",
   "nbconvert_exporter": "python",
   "pygments_lexer": "ipython3",
   "version": "3.7.3"
  }
 },
 "nbformat": 4,
 "nbformat_minor": 5
}
